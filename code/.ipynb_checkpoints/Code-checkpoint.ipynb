{
 "cells": [
  {
   "cell_type": "markdown",
   "id": "99b66bb5",
   "metadata": {},
   "source": [
    "<img src=\"http://imgur.com/1ZcRyrc.png\" style=\"float: left; margin: 20px; height: 55px\">\n",
    "\n",
    "# Classifying  Between AskScience vs ShittyAskScience Subreddits"
   ]
  },
  {
   "cell_type": "markdown",
   "id": "4fd6cce1",
   "metadata": {},
   "source": [
    "# Problem Statement"
   ]
  },
  {
   "cell_type": "markdown",
   "id": "56ca5c61",
   "metadata": {},
   "source": [
    "---"
   ]
  },
  {
   "cell_type": "markdown",
   "id": "4e710a4e",
   "metadata": {},
   "source": [
    "**Brandeis University's science department is planning to build an online forum for students and faculties to freely exchange  scientific questions of their interests:**"
   ]
  },
  {
   "cell_type": "markdown",
   "id": "d646f567",
   "metadata": {},
   "source": [
    "This project seeks to find a strategy to filter out 'troll' forum posts, that are scientifically irrelevant. By utilizing natural language processing and classification models on two different subreddits, 'AskScience' and 'ShittyAskScience', the project will explore the differences in the texts of troll and legitimate scientific questions and try to classify between them. "
   ]
  },
  {
   "cell_type": "markdown",
   "id": "ef5b6521",
   "metadata": {},
   "source": [
    "# Background"
   ]
  },
  {
   "cell_type": "markdown",
   "id": "aa7d375b",
   "metadata": {},
   "source": [
    "---"
   ]
  },
  {
   "cell_type": "markdown",
   "id": "1e49805e",
   "metadata": {},
   "source": [
    "Reddit is an online platform where the users freely exchange social news, rate web contents, and hold discussions on different topics ([*source*](https://en.wikipedia.org/wiki/Reddit)). The site's content is divided into categories or communities known as \"subreddits\"; there are more than 138,000 communities that are actively being used. \n",
    "\n",
    "For the purpose of this project, submissions in the following two subreddits will be utilized:\n",
    "\n",
    "1. [**Ask Science Subreddit:**](https://www.reddit.com/r/askscience/)\n",
    "This subreddit is one of the most utilized communities with 22.5M members. The community is encourage to ask science-related questions, and users can expect to get real scientific answers. \n",
    "\n",
    "2. [**Shitty Ask Science Subreddit:**](https://www.reddit.com/r/shittyaskscience/)\n",
    "This subreddit is meant to be a fun community where users post \"scientific sounding\" quandaries that does not actually scientifically makes sense. 1M members have joined the community since 2011. The users    "
   ]
  },
  {
   "cell_type": "markdown",
   "id": "deceef03",
   "metadata": {},
   "source": [
    "# Data"
   ]
  },
  {
   "cell_type": "markdown",
   "id": "a831d978",
   "metadata": {},
   "source": [
    "---"
   ]
  },
  {
   "cell_type": "markdown",
   "id": "8a7ecdfd",
   "metadata": {},
   "source": [
    "#### Dataset Collection from Reddit:\n",
    "\n",
    "1. A Reddit PushShift API will was used to scrape 5,000 text submissions from each subreddit.\n",
    "    * [askscience.csv](../data/askscience.csv)\n",
    "    * [shittyaskscience.csv](../data/shittyaskscience.csv)\n",
    "\n",
    "2. The two individually collected dataframe was concatenated together to build classification model.\n",
    "    * [data_final.csv](../data/data_final.csv)"
   ]
  },
  {
   "cell_type": "markdown",
   "id": "4fe632b6",
   "metadata": {},
   "source": [
    "---"
   ]
  },
  {
   "cell_type": "markdown",
   "id": "93baf23f",
   "metadata": {},
   "source": [
    "### Scraping"
   ]
  },
  {
   "cell_type": "code",
   "execution_count": 1,
   "id": "71e3aeef",
   "metadata": {},
   "outputs": [],
   "source": [
    "# imports for webscraping\n",
    "import pandas as pd\n",
    "import requests\n",
    "import time"
   ]
  },
  {
   "cell_type": "markdown",
   "id": "e50c4daa",
   "metadata": {},
   "source": [
    "#### Functions"
   ]
  },
  {
   "cell_type": "code",
   "execution_count": 138,
   "id": "f0bc3f38",
   "metadata": {},
   "outputs": [],
   "source": [
    "# Make Request\n",
    "def post_to_json(subreddit, before):\n",
    "    url = 'https://api.pushshift.io/reddit/search/submission' # URL access to pushshsift api\n",
    "    \n",
    "    params = { # Set parameters\n",
    "        'subreddit': subreddit, # subreddit name\n",
    "        'size': 100, # Number of subreddit submissions accessed per request\n",
    "        'before': before # Specifies the time in which the posts being requested were posted\n",
    "    } \n",
    "    \n",
    "    res = requests.get(url, params) # Make request and store\n",
    "    res.raise_for_status()\n",
    "    \n",
    "    json_data = res.json()['data'] \n",
    "    \n",
    "    return json_data # Function returns json of the subreddit requests"
   ]
  },
  {
   "cell_type": "code",
   "execution_count": 139,
   "id": "22b39750",
   "metadata": {},
   "outputs": [],
   "source": [
    "# Process the request to get relevant data\n",
    "def consume_posts(json_data):\n",
    "    cols = ['id', 'selftext', 'title', 'created_utc', 'subreddit'] # The features of the submissions that will be retrieved for analysis\n",
    "    post_df = pd.DataFrame(json_data)[cols] # Put the retrieved data into dataframe\n",
    "    return post_df"
   ]
  },
  {
   "cell_type": "code",
   "execution_count": 140,
   "id": "a9ee6293",
   "metadata": {},
   "outputs": [],
   "source": [
    "# Save the data\n",
    "def save_data(post_df, subreddit, overwrite):\n",
    "    if overwrite: \n",
    "        mode = 'w' # This mode will overwrite the existing data with the new data\n",
    "        header = True\n",
    "    else:\n",
    "        mode = 'a' # This mode will allow us to append the new data on top of the original data\n",
    "        header = False\n",
    "    \n",
    "    filepath = f'data/{subreddit}.csv'\n",
    "    \n",
    "    post_df.to_csv(filepath, \n",
    "                   mode=mode, \n",
    "                   header=header, \n",
    "                   index=False)"
   ]
  },
  {
   "cell_type": "code",
   "execution_count": 144,
   "id": "11a4689f",
   "metadata": {},
   "outputs": [],
   "source": [
    "# Scraping, functions put together\n",
    "def scrape(subreddit, n):\n",
    "    unique_id = set() # Keep track of unique id to exclude the duplicates\n",
    "    before = None # initialize the timeframe of the post being collected; None will get back the most recent posts of the number specified\n",
    "    i = 0\n",
    "    \n",
    "    while len(unique_id) < n: # While data collected is less than the desired number of posts collected\n",
    "        json_data = post_to_json(subreddit, before) \n",
    "        posts_df = consume_posts(json_data)\n",
    "        \n",
    "        posts_df = posts_df[~posts_df['id'].isin(unique_id)] # Exclude the duplicate\n",
    "        \n",
    "        if i == 0: \n",
    "            overwrite = True # Make new file entirely for the first attempted request\n",
    "        else:\n",
    "            overwrite = False # append to existing file if request for the specified subreddit was previously made\n",
    "        \n",
    "        save_data(posts_df, subreddit, overwrite)\n",
    "        \n",
    "        unique_id.update(posts_df['id'])\n",
    "        before = posts_df['created_utc'].min()\n",
    "        i += 1\n",
    "        print(f'{len(unique_id)} posts collected')\n",
    "        \n",
    "        time.sleep(0.3) # retention time before making another request, as too many request within a short period of time raises and error\n",
    "        \n",
    "    print('scraping completed')"
   ]
  },
  {
   "cell_type": "code",
   "execution_count": 143,
   "id": "8a2e90d0",
   "metadata": {},
   "outputs": [
    {
     "name": "stdout",
     "output_type": "stream",
     "text": [
      "100 posts collected\n",
      "200 posts collected\n",
      "300 posts collected\n",
      "400 posts collected\n",
      "500 posts collected\n",
      "600 posts collected\n",
      "700 posts collected\n",
      "800 posts collected\n",
      "900 posts collected\n",
      "1000 posts collected\n",
      "1100 posts collected\n",
      "1200 posts collected\n",
      "1300 posts collected\n",
      "1400 posts collected\n",
      "1500 posts collected\n",
      "1600 posts collected\n",
      "1700 posts collected\n",
      "1800 posts collected\n",
      "1900 posts collected\n",
      "2000 posts collected\n",
      "2100 posts collected\n",
      "2200 posts collected\n",
      "2300 posts collected\n",
      "2400 posts collected\n",
      "2500 posts collected\n",
      "2600 posts collected\n",
      "2700 posts collected\n",
      "2800 posts collected\n",
      "2900 posts collected\n",
      "3000 posts collected\n",
      "3100 posts collected\n",
      "3199 posts collected\n",
      "3299 posts collected\n",
      "3399 posts collected\n",
      "3499 posts collected\n",
      "3599 posts collected\n",
      "3699 posts collected\n",
      "3799 posts collected\n",
      "3899 posts collected\n",
      "3999 posts collected\n",
      "4099 posts collected\n",
      "4199 posts collected\n",
      "4299 posts collected\n",
      "4399 posts collected\n",
      "4499 posts collected\n",
      "4599 posts collected\n",
      "4699 posts collected\n",
      "4799 posts collected\n",
      "4899 posts collected\n",
      "4999 posts collected\n",
      "5099 posts collected\n",
      "scraping completed\n"
     ]
    }
   ],
   "source": [
    "scrape('shittyaskscience', 5000)"
   ]
  },
  {
   "cell_type": "code",
   "execution_count": 145,
   "id": "66f86856",
   "metadata": {
    "scrolled": false
   },
   "outputs": [
    {
     "name": "stdout",
     "output_type": "stream",
     "text": [
      "99 posts collected\n",
      "199 posts collected\n",
      "299 posts collected\n",
      "399 posts collected\n",
      "499 posts collected\n",
      "599 posts collected\n",
      "699 posts collected\n",
      "799 posts collected\n",
      "899 posts collected\n",
      "999 posts collected\n",
      "1099 posts collected\n",
      "1199 posts collected\n",
      "1299 posts collected\n",
      "1399 posts collected\n",
      "1499 posts collected\n",
      "1599 posts collected\n",
      "1699 posts collected\n",
      "1799 posts collected\n",
      "1899 posts collected\n",
      "1999 posts collected\n",
      "2099 posts collected\n",
      "2199 posts collected\n",
      "2299 posts collected\n",
      "2399 posts collected\n",
      "2499 posts collected\n",
      "2599 posts collected\n",
      "2699 posts collected\n",
      "2798 posts collected\n",
      "2898 posts collected\n",
      "2998 posts collected\n",
      "3098 posts collected\n",
      "3198 posts collected\n",
      "3298 posts collected\n",
      "3398 posts collected\n",
      "3497 posts collected\n",
      "3597 posts collected\n",
      "3697 posts collected\n",
      "3797 posts collected\n",
      "3896 posts collected\n",
      "3996 posts collected\n",
      "4096 posts collected\n",
      "4196 posts collected\n",
      "4296 posts collected\n",
      "4396 posts collected\n",
      "4496 posts collected\n",
      "4596 posts collected\n",
      "4696 posts collected\n",
      "4796 posts collected\n",
      "4896 posts collected\n",
      "4996 posts collected\n",
      "5096 posts collected\n",
      "scraping completed\n"
     ]
    }
   ],
   "source": [
    "scrape('askscience', 5000)"
   ]
  },
  {
   "cell_type": "markdown",
   "id": "f8785a0d",
   "metadata": {},
   "source": [
    "---"
   ]
  },
  {
   "cell_type": "markdown",
   "id": "6214b72f",
   "metadata": {},
   "source": [
    "### Data Cleaning"
   ]
  },
  {
   "cell_type": "code",
   "execution_count": 2,
   "id": "269f1077",
   "metadata": {},
   "outputs": [],
   "source": [
    "import matplotlib.pyplot as plt\n",
    "from sklearn.model_selection import train_test_split, GridSearchCV\n",
    "from sklearn.pipeline import Pipeline\n",
    "from sklearn.naive_bayes import MultinomialNB\n",
    "from sklearn.linear_model import LogisticRegression\n",
    "from sklearn.metrics import confusion_matrix, plot_confusion_matrix\n",
    "\n",
    "# Import CountVectorizer and TFIDFVectorizer from feature_extraction.text.\n",
    "from sklearn.feature_extraction.text import CountVectorizer, TfidfVectorizer"
   ]
  },
  {
   "cell_type": "code",
   "execution_count": 3,
   "id": "38e364ac",
   "metadata": {},
   "outputs": [],
   "source": [
    "import nltk\n",
    "from nltk.stem import WordNetLemmatizer\n",
    "from nltk.corpus import stopwords"
   ]
  },
  {
   "cell_type": "code",
   "execution_count": 4,
   "id": "09bd2b42",
   "metadata": {},
   "outputs": [],
   "source": [
    "import numpy as np\n",
    "import re\n",
    "import seaborn as sns"
   ]
  },
  {
   "cell_type": "code",
   "execution_count": 6,
   "id": "ec716e65",
   "metadata": {
    "scrolled": true
   },
   "outputs": [],
   "source": [
    "science = pd.read_csv('../data/askscience.csv')"
   ]
  },
  {
   "cell_type": "code",
   "execution_count": 7,
   "id": "a4884714",
   "metadata": {
    "scrolled": false
   },
   "outputs": [
    {
     "data": {
      "text/html": [
       "<div>\n",
       "<style scoped>\n",
       "    .dataframe tbody tr th:only-of-type {\n",
       "        vertical-align: middle;\n",
       "    }\n",
       "\n",
       "    .dataframe tbody tr th {\n",
       "        vertical-align: top;\n",
       "    }\n",
       "\n",
       "    .dataframe thead th {\n",
       "        text-align: right;\n",
       "    }\n",
       "</style>\n",
       "<table border=\"1\" class=\"dataframe\">\n",
       "  <thead>\n",
       "    <tr style=\"text-align: right;\">\n",
       "      <th></th>\n",
       "      <th>id</th>\n",
       "      <th>selftext</th>\n",
       "      <th>title</th>\n",
       "      <th>created_utc</th>\n",
       "      <th>subreddit</th>\n",
       "    </tr>\n",
       "  </thead>\n",
       "  <tbody>\n",
       "    <tr>\n",
       "      <th>0</th>\n",
       "      <td>unmeji</td>\n",
       "      <td>[removed]</td>\n",
       "      <td>Looking for an science news piece from a few y...</td>\n",
       "      <td>1652309886</td>\n",
       "      <td>askscience</td>\n",
       "    </tr>\n",
       "    <tr>\n",
       "      <th>1</th>\n",
       "      <td>unm0cg</td>\n",
       "      <td>[removed]</td>\n",
       "      <td>if moving water evaporates quicker, could ther...</td>\n",
       "      <td>1652308732</td>\n",
       "      <td>askscience</td>\n",
       "    </tr>\n",
       "    <tr>\n",
       "      <th>2</th>\n",
       "      <td>unlzzb</td>\n",
       "      <td>[removed]</td>\n",
       "      <td>Sitting on eastern coast of Lake Michigan, and...</td>\n",
       "      <td>1652308704</td>\n",
       "      <td>askscience</td>\n",
       "    </tr>\n",
       "    <tr>\n",
       "      <th>3</th>\n",
       "      <td>unlzxe</td>\n",
       "      <td>[removed]</td>\n",
       "      <td>Is there any way to tell which of two identica...</td>\n",
       "      <td>1652308699</td>\n",
       "      <td>askscience</td>\n",
       "    </tr>\n",
       "    <tr>\n",
       "      <th>4</th>\n",
       "      <td>unlzig</td>\n",
       "      <td>[removed]</td>\n",
       "      <td>If someone had their cornea or lens damaged to...</td>\n",
       "      <td>1652308667</td>\n",
       "      <td>askscience</td>\n",
       "    </tr>\n",
       "  </tbody>\n",
       "</table>\n",
       "</div>"
      ],
      "text/plain": [
       "       id   selftext                                              title  \\\n",
       "0  unmeji  [removed]  Looking for an science news piece from a few y...   \n",
       "1  unm0cg  [removed]  if moving water evaporates quicker, could ther...   \n",
       "2  unlzzb  [removed]  Sitting on eastern coast of Lake Michigan, and...   \n",
       "3  unlzxe  [removed]  Is there any way to tell which of two identica...   \n",
       "4  unlzig  [removed]  If someone had their cornea or lens damaged to...   \n",
       "\n",
       "   created_utc   subreddit  \n",
       "0   1652309886  askscience  \n",
       "1   1652308732  askscience  \n",
       "2   1652308704  askscience  \n",
       "3   1652308699  askscience  \n",
       "4   1652308667  askscience  "
      ]
     },
     "execution_count": 7,
     "metadata": {},
     "output_type": "execute_result"
    }
   ],
   "source": [
    "science.head()"
   ]
  },
  {
   "cell_type": "code",
   "execution_count": 8,
   "id": "4e4dec89",
   "metadata": {
    "scrolled": true
   },
   "outputs": [
    {
     "data": {
      "text/plain": [
       "5096"
      ]
     },
     "execution_count": 8,
     "metadata": {},
     "output_type": "execute_result"
    }
   ],
   "source": [
    "len(science['id'].unique())"
   ]
  },
  {
   "cell_type": "code",
   "execution_count": 9,
   "id": "4082b6b9",
   "metadata": {
    "scrolled": true
   },
   "outputs": [
    {
     "data": {
      "text/plain": [
       "(5096, 5)"
      ]
     },
     "execution_count": 9,
     "metadata": {},
     "output_type": "execute_result"
    }
   ],
   "source": [
    "science.shape"
   ]
  },
  {
   "cell_type": "markdown",
   "id": "1510ea14",
   "metadata": {},
   "source": [
    "The 'science' dataframe has no duplicate items"
   ]
  },
  {
   "cell_type": "code",
   "execution_count": 10,
   "id": "bd4e93eb",
   "metadata": {
    "scrolled": true
   },
   "outputs": [
    {
     "data": {
      "text/html": [
       "<div>\n",
       "<style scoped>\n",
       "    .dataframe tbody tr th:only-of-type {\n",
       "        vertical-align: middle;\n",
       "    }\n",
       "\n",
       "    .dataframe tbody tr th {\n",
       "        vertical-align: top;\n",
       "    }\n",
       "\n",
       "    .dataframe thead th {\n",
       "        text-align: right;\n",
       "    }\n",
       "</style>\n",
       "<table border=\"1\" class=\"dataframe\">\n",
       "  <thead>\n",
       "    <tr style=\"text-align: right;\">\n",
       "      <th></th>\n",
       "      <th>id</th>\n",
       "      <th>selftext</th>\n",
       "      <th>title</th>\n",
       "      <th>created_utc</th>\n",
       "      <th>subreddit</th>\n",
       "    </tr>\n",
       "  </thead>\n",
       "  <tbody>\n",
       "    <tr>\n",
       "      <th>0</th>\n",
       "      <td>unci2q</td>\n",
       "      <td>NaN</td>\n",
       "      <td>What specie of turtle is this?</td>\n",
       "      <td>1652283065</td>\n",
       "      <td>shittyaskscience</td>\n",
       "    </tr>\n",
       "    <tr>\n",
       "      <th>1</th>\n",
       "      <td>unc2bt</td>\n",
       "      <td>NaN</td>\n",
       "      <td>What scientific calculations are used to deter...</td>\n",
       "      <td>1652281885</td>\n",
       "      <td>shittyaskscience</td>\n",
       "    </tr>\n",
       "    <tr>\n",
       "      <th>2</th>\n",
       "      <td>un61wb</td>\n",
       "      <td>NaN</td>\n",
       "      <td>Why can't we just ban global warming outright?</td>\n",
       "      <td>1652261960</td>\n",
       "      <td>shittyaskscience</td>\n",
       "    </tr>\n",
       "    <tr>\n",
       "      <th>3</th>\n",
       "      <td>un5sng</td>\n",
       "      <td>NaN</td>\n",
       "      <td>How do horses learn to draw pictures this real...</td>\n",
       "      <td>1652260813</td>\n",
       "      <td>shittyaskscience</td>\n",
       "    </tr>\n",
       "    <tr>\n",
       "      <th>4</th>\n",
       "      <td>umutt3</td>\n",
       "      <td>NaN</td>\n",
       "      <td>Does Creativity Stem from a Brain Malfunction?</td>\n",
       "      <td>1652222364</td>\n",
       "      <td>shittyaskscience</td>\n",
       "    </tr>\n",
       "  </tbody>\n",
       "</table>\n",
       "</div>"
      ],
      "text/plain": [
       "       id selftext                                              title  \\\n",
       "0  unci2q      NaN                     What specie of turtle is this?   \n",
       "1  unc2bt      NaN  What scientific calculations are used to deter...   \n",
       "2  un61wb      NaN     Why can't we just ban global warming outright?   \n",
       "3  un5sng      NaN  How do horses learn to draw pictures this real...   \n",
       "4  umutt3      NaN     Does Creativity Stem from a Brain Malfunction?   \n",
       "\n",
       "   created_utc         subreddit  \n",
       "0   1652283065  shittyaskscience  \n",
       "1   1652281885  shittyaskscience  \n",
       "2   1652261960  shittyaskscience  \n",
       "3   1652260813  shittyaskscience  \n",
       "4   1652222364  shittyaskscience  "
      ]
     },
     "execution_count": 10,
     "metadata": {},
     "output_type": "execute_result"
    }
   ],
   "source": [
    "shitty = pd.read_csv('../data/shittyaskscience.csv')\n",
    "shitty.head()"
   ]
  },
  {
   "cell_type": "code",
   "execution_count": 11,
   "id": "b433998e",
   "metadata": {},
   "outputs": [
    {
     "data": {
      "text/plain": [
       "5099"
      ]
     },
     "execution_count": 11,
     "metadata": {},
     "output_type": "execute_result"
    }
   ],
   "source": [
    "len(shitty['id'].unique())"
   ]
  },
  {
   "cell_type": "code",
   "execution_count": 12,
   "id": "f275ff94",
   "metadata": {},
   "outputs": [
    {
     "data": {
      "text/plain": [
       "(5099, 5)"
      ]
     },
     "execution_count": 12,
     "metadata": {},
     "output_type": "execute_result"
    }
   ],
   "source": [
    "shitty.shape"
   ]
  },
  {
   "cell_type": "markdown",
   "id": "48b1574f",
   "metadata": {},
   "source": [
    "'shitty' dataframe has no duplicate items"
   ]
  },
  {
   "cell_type": "code",
   "execution_count": 13,
   "id": "8eb1d0ac",
   "metadata": {
    "scrolled": false
   },
   "outputs": [
    {
     "data": {
      "text/html": [
       "<div>\n",
       "<style scoped>\n",
       "    .dataframe tbody tr th:only-of-type {\n",
       "        vertical-align: middle;\n",
       "    }\n",
       "\n",
       "    .dataframe tbody tr th {\n",
       "        vertical-align: top;\n",
       "    }\n",
       "\n",
       "    .dataframe thead th {\n",
       "        text-align: right;\n",
       "    }\n",
       "</style>\n",
       "<table border=\"1\" class=\"dataframe\">\n",
       "  <thead>\n",
       "    <tr style=\"text-align: right;\">\n",
       "      <th></th>\n",
       "      <th>id</th>\n",
       "      <th>selftext</th>\n",
       "      <th>title</th>\n",
       "      <th>created_utc</th>\n",
       "      <th>subreddit</th>\n",
       "    </tr>\n",
       "  </thead>\n",
       "  <tbody>\n",
       "    <tr>\n",
       "      <th>86</th>\n",
       "      <td>unaikd</td>\n",
       "      <td>Welcome to our weekly feature, Ask Anything We...</td>\n",
       "      <td>Ask Anything Wednesday - Biology, Chemistry, N...</td>\n",
       "      <td>1652277611</td>\n",
       "      <td>askscience</td>\n",
       "    </tr>\n",
       "    <tr>\n",
       "      <th>1537</th>\n",
       "      <td>ui79ix</td>\n",
       "      <td>Welcome to our weekly feature, Ask Anything We...</td>\n",
       "      <td>Ask Anything Wednesday - Engineering, Mathemat...</td>\n",
       "      <td>1651672871</td>\n",
       "      <td>askscience</td>\n",
       "    </tr>\n",
       "    <tr>\n",
       "      <th>1813</th>\n",
       "      <td>uhdifs</td>\n",
       "      <td>Hi, Reddit. We're Rachel Davis, MD, (u/racheld...</td>\n",
       "      <td>AskScience AMA Series: We're Rachel Davis, MD,...</td>\n",
       "      <td>1651575612</td>\n",
       "      <td>askscience</td>\n",
       "    </tr>\n",
       "    <tr>\n",
       "      <th>2864</th>\n",
       "      <td>udscjl</td>\n",
       "      <td>Hi, Reddit. I'm Dr. Richard Johnson, a profess...</td>\n",
       "      <td>AskScience AMA Series: I'm Dr. Richard Johnson...</td>\n",
       "      <td>1651143606</td>\n",
       "      <td>askscience</td>\n",
       "    </tr>\n",
       "    <tr>\n",
       "      <th>3052</th>\n",
       "      <td>ud4960</td>\n",
       "      <td>Welcome to our weekly feature, Ask Anything We...</td>\n",
       "      <td>Ask Anything Wednesday - Physics, Astronomy, E...</td>\n",
       "      <td>1651068009</td>\n",
       "      <td>askscience</td>\n",
       "    </tr>\n",
       "    <tr>\n",
       "      <th>3228</th>\n",
       "      <td>uckmos</td>\n",
       "      <td>This [Family Guy sketch](https://www.youtube.c...</td>\n",
       "      <td>Could the Kool-Aid Man actually survive smashi...</td>\n",
       "      <td>1651001421</td>\n",
       "      <td>askscience</td>\n",
       "    </tr>\n",
       "    <tr>\n",
       "      <th>3300</th>\n",
       "      <td>uc9w5t</td>\n",
       "      <td>Anyone who has visited a doctor knows that med...</td>\n",
       "      <td>AskScience AMA Series: Been watching \"The Drop...</td>\n",
       "      <td>1650970832</td>\n",
       "      <td>askscience</td>\n",
       "    </tr>\n",
       "    <tr>\n",
       "      <th>4649</th>\n",
       "      <td>u7x6ke</td>\n",
       "      <td>Welcome to our weekly feature, Ask Anything We...</td>\n",
       "      <td>Ask Anything Wednesday - Economics, Political ...</td>\n",
       "      <td>1650463211</td>\n",
       "      <td>askscience</td>\n",
       "    </tr>\n",
       "  </tbody>\n",
       "</table>\n",
       "</div>"
      ],
      "text/plain": [
       "          id                                           selftext  \\\n",
       "86    unaikd  Welcome to our weekly feature, Ask Anything We...   \n",
       "1537  ui79ix  Welcome to our weekly feature, Ask Anything We...   \n",
       "1813  uhdifs  Hi, Reddit. We're Rachel Davis, MD, (u/racheld...   \n",
       "2864  udscjl  Hi, Reddit. I'm Dr. Richard Johnson, a profess...   \n",
       "3052  ud4960  Welcome to our weekly feature, Ask Anything We...   \n",
       "3228  uckmos  This [Family Guy sketch](https://www.youtube.c...   \n",
       "3300  uc9w5t  Anyone who has visited a doctor knows that med...   \n",
       "4649  u7x6ke  Welcome to our weekly feature, Ask Anything We...   \n",
       "\n",
       "                                                  title  created_utc  \\\n",
       "86    Ask Anything Wednesday - Biology, Chemistry, N...   1652277611   \n",
       "1537  Ask Anything Wednesday - Engineering, Mathemat...   1651672871   \n",
       "1813  AskScience AMA Series: We're Rachel Davis, MD,...   1651575612   \n",
       "2864  AskScience AMA Series: I'm Dr. Richard Johnson...   1651143606   \n",
       "3052  Ask Anything Wednesday - Physics, Astronomy, E...   1651068009   \n",
       "3228  Could the Kool-Aid Man actually survive smashi...   1651001421   \n",
       "3300  AskScience AMA Series: Been watching \"The Drop...   1650970832   \n",
       "4649  Ask Anything Wednesday - Economics, Political ...   1650463211   \n",
       "\n",
       "       subreddit  \n",
       "86    askscience  \n",
       "1537  askscience  \n",
       "1813  askscience  \n",
       "2864  askscience  \n",
       "3052  askscience  \n",
       "3228  askscience  \n",
       "3300  askscience  \n",
       "4649  askscience  "
      ]
     },
     "execution_count": 13,
     "metadata": {},
     "output_type": "execute_result"
    }
   ],
   "source": [
    "# Cleaning: where selftext column is not null or marked ['removed']\n",
    "science[~((science['selftext'] == '[removed]') | science['selftext'].isnull())]"
   ]
  },
  {
   "cell_type": "code",
   "execution_count": 14,
   "id": "dfde4394",
   "metadata": {
    "scrolled": false
   },
   "outputs": [
    {
     "data": {
      "text/html": [
       "<div>\n",
       "<style scoped>\n",
       "    .dataframe tbody tr th:only-of-type {\n",
       "        vertical-align: middle;\n",
       "    }\n",
       "\n",
       "    .dataframe tbody tr th {\n",
       "        vertical-align: top;\n",
       "    }\n",
       "\n",
       "    .dataframe thead th {\n",
       "        text-align: right;\n",
       "    }\n",
       "</style>\n",
       "<table border=\"1\" class=\"dataframe\">\n",
       "  <thead>\n",
       "    <tr style=\"text-align: right;\">\n",
       "      <th></th>\n",
       "      <th>id</th>\n",
       "      <th>selftext</th>\n",
       "      <th>title</th>\n",
       "      <th>created_utc</th>\n",
       "      <th>subreddit</th>\n",
       "    </tr>\n",
       "  </thead>\n",
       "  <tbody>\n",
       "    <tr>\n",
       "      <th>7</th>\n",
       "      <td>uml3rm</td>\n",
       "      <td>Where are the humans from? Where is it dry, ro...</td>\n",
       "      <td>Humans often complain about being too cold or ...</td>\n",
       "      <td>1652195904</td>\n",
       "      <td>shittyaskscience</td>\n",
       "    </tr>\n",
       "    <tr>\n",
       "      <th>21</th>\n",
       "      <td>ulfe2r</td>\n",
       "      <td>My yard has none but my neighbors is full of them</td>\n",
       "      <td>What causes lawn stickers to grow?</td>\n",
       "      <td>1652057188</td>\n",
       "      <td>shittyaskscience</td>\n",
       "    </tr>\n",
       "    <tr>\n",
       "      <th>25</th>\n",
       "      <td>ukrnvp</td>\n",
       "      <td>&amp;amp;#x200B;\\n\\n*Processing video 811uouy6s5y8...</td>\n",
       "      <td>How do you get wheat to grow on a trampoline?</td>\n",
       "      <td>1651974974</td>\n",
       "      <td>shittyaskscience</td>\n",
       "    </tr>\n",
       "    <tr>\n",
       "      <th>31</th>\n",
       "      <td>ukgx05</td>\n",
       "      <td>So many movies I've seen where the actor got h...</td>\n",
       "      <td>Why doesn't blood from movie actors oxidize?</td>\n",
       "      <td>1651940930</td>\n",
       "      <td>shittyaskscience</td>\n",
       "    </tr>\n",
       "    <tr>\n",
       "      <th>60</th>\n",
       "      <td>uiae0y</td>\n",
       "      <td>I know it's kind of a stupid question but I'm...</td>\n",
       "      <td>How do clouds float when they can weigh a ton?</td>\n",
       "      <td>1651681407</td>\n",
       "      <td>shittyaskscience</td>\n",
       "    </tr>\n",
       "    <tr>\n",
       "      <th>...</th>\n",
       "      <td>...</td>\n",
       "      <td>...</td>\n",
       "      <td>...</td>\n",
       "      <td>...</td>\n",
       "      <td>...</td>\n",
       "    </tr>\n",
       "    <tr>\n",
       "      <th>5040</th>\n",
       "      <td>mgxkhk</td>\n",
       "      <td>At night the sun is cooled down like everythin...</td>\n",
       "      <td>Can we walk on the sun at night?</td>\n",
       "      <td>1617162924</td>\n",
       "      <td>shittyaskscience</td>\n",
       "    </tr>\n",
       "    <tr>\n",
       "      <th>5044</th>\n",
       "      <td>mgp36d</td>\n",
       "      <td>My nephews are very sheltered. What is the bes...</td>\n",
       "      <td>What is the best way to teach children about d...</td>\n",
       "      <td>1617135752</td>\n",
       "      <td>shittyaskscience</td>\n",
       "    </tr>\n",
       "    <tr>\n",
       "      <th>5068</th>\n",
       "      <td>mfdj0u</td>\n",
       "      <td>I saw a post in this group listing how to make...</td>\n",
       "      <td>Is thermite plasma a real thing?</td>\n",
       "      <td>1616976877</td>\n",
       "      <td>shittyaskscience</td>\n",
       "    </tr>\n",
       "    <tr>\n",
       "      <th>5085</th>\n",
       "      <td>mem5vl</td>\n",
       "      <td>We can take precision, high res images of Plut...</td>\n",
       "      <td>Turns out there is another moon behind our moo...</td>\n",
       "      <td>1616877559</td>\n",
       "      <td>shittyaskscience</td>\n",
       "    </tr>\n",
       "    <tr>\n",
       "      <th>5093</th>\n",
       "      <td>m6qn00</td>\n",
       "      <td>So I understand the notion of more speed=more ...</td>\n",
       "      <td>Its 3 am and a 14 year old such as myself has ...</td>\n",
       "      <td>1615950204</td>\n",
       "      <td>shittyaskscience</td>\n",
       "    </tr>\n",
       "  </tbody>\n",
       "</table>\n",
       "<p>743 rows × 5 columns</p>\n",
       "</div>"
      ],
      "text/plain": [
       "          id                                           selftext  \\\n",
       "7     uml3rm  Where are the humans from? Where is it dry, ro...   \n",
       "21    ulfe2r  My yard has none but my neighbors is full of them   \n",
       "25    ukrnvp  &amp;#x200B;\\n\\n*Processing video 811uouy6s5y8...   \n",
       "31    ukgx05  So many movies I've seen where the actor got h...   \n",
       "60    uiae0y   I know it's kind of a stupid question but I'm...   \n",
       "...      ...                                                ...   \n",
       "5040  mgxkhk  At night the sun is cooled down like everythin...   \n",
       "5044  mgp36d  My nephews are very sheltered. What is the bes...   \n",
       "5068  mfdj0u  I saw a post in this group listing how to make...   \n",
       "5085  mem5vl  We can take precision, high res images of Plut...   \n",
       "5093  m6qn00  So I understand the notion of more speed=more ...   \n",
       "\n",
       "                                                  title  created_utc  \\\n",
       "7     Humans often complain about being too cold or ...   1652195904   \n",
       "21                   What causes lawn stickers to grow?   1652057188   \n",
       "25        How do you get wheat to grow on a trampoline?   1651974974   \n",
       "31         Why doesn't blood from movie actors oxidize?   1651940930   \n",
       "60       How do clouds float when they can weigh a ton?   1651681407   \n",
       "...                                                 ...          ...   \n",
       "5040                   Can we walk on the sun at night?   1617162924   \n",
       "5044  What is the best way to teach children about d...   1617135752   \n",
       "5068                   Is thermite plasma a real thing?   1616976877   \n",
       "5085  Turns out there is another moon behind our moo...   1616877559   \n",
       "5093  Its 3 am and a 14 year old such as myself has ...   1615950204   \n",
       "\n",
       "             subreddit  \n",
       "7     shittyaskscience  \n",
       "21    shittyaskscience  \n",
       "25    shittyaskscience  \n",
       "31    shittyaskscience  \n",
       "60    shittyaskscience  \n",
       "...                ...  \n",
       "5040  shittyaskscience  \n",
       "5044  shittyaskscience  \n",
       "5068  shittyaskscience  \n",
       "5085  shittyaskscience  \n",
       "5093  shittyaskscience  \n",
       "\n",
       "[743 rows x 5 columns]"
      ]
     },
     "execution_count": 14,
     "metadata": {},
     "output_type": "execute_result"
    }
   ],
   "source": [
    "shitty[~((shitty['selftext'] == '[removed]') | (shitty['selftext'].isnull()))]"
   ]
  },
  {
   "cell_type": "markdown",
   "id": "383a44ac",
   "metadata": {},
   "source": [
    "**Why are most of the Ask Science submissions' selftext removed?**\n",
    "\n",
    "Apparently, AskScience subreddit r/AskScience automatically removes all posts as soon as they are submitted, requires a moderator to come along, and community managers manually check that they meet the rules and reapprove them. Pushshift is likely picking up the post while it's removed ([source](https://www.reddit.com/r/pushshift/comments/ir4rz1/askscience_recent_posts_showing_selftext_as/)). As such, selftext wouldn't really be helpful in this classification task, and therefore I will only utilize 'Title' portion of the subreddit. "
   ]
  },
  {
   "cell_type": "code",
   "execution_count": 15,
   "id": "a509cba7",
   "metadata": {},
   "outputs": [],
   "source": [
    "science = science.drop(columns=['selftext', 'created_utc']) # Will also remove created_utc as the timeframe was only needed in the scraping task\n",
    "shitty = shitty.drop(columns=['selftext', 'created_utc'])"
   ]
  },
  {
   "cell_type": "code",
   "execution_count": 16,
   "id": "517b7f16",
   "metadata": {},
   "outputs": [
    {
     "data": {
      "text/html": [
       "<div>\n",
       "<style scoped>\n",
       "    .dataframe tbody tr th:only-of-type {\n",
       "        vertical-align: middle;\n",
       "    }\n",
       "\n",
       "    .dataframe tbody tr th {\n",
       "        vertical-align: top;\n",
       "    }\n",
       "\n",
       "    .dataframe thead th {\n",
       "        text-align: right;\n",
       "    }\n",
       "</style>\n",
       "<table border=\"1\" class=\"dataframe\">\n",
       "  <thead>\n",
       "    <tr style=\"text-align: right;\">\n",
       "      <th></th>\n",
       "      <th>id</th>\n",
       "      <th>title</th>\n",
       "      <th>subreddit</th>\n",
       "    </tr>\n",
       "  </thead>\n",
       "  <tbody>\n",
       "    <tr>\n",
       "      <th>0</th>\n",
       "      <td>unmeji</td>\n",
       "      <td>Looking for an science news piece from a few y...</td>\n",
       "      <td>askscience</td>\n",
       "    </tr>\n",
       "    <tr>\n",
       "      <th>1</th>\n",
       "      <td>unm0cg</td>\n",
       "      <td>if moving water evaporates quicker, could ther...</td>\n",
       "      <td>askscience</td>\n",
       "    </tr>\n",
       "    <tr>\n",
       "      <th>2</th>\n",
       "      <td>unlzzb</td>\n",
       "      <td>Sitting on eastern coast of Lake Michigan, and...</td>\n",
       "      <td>askscience</td>\n",
       "    </tr>\n",
       "    <tr>\n",
       "      <th>3</th>\n",
       "      <td>unlzxe</td>\n",
       "      <td>Is there any way to tell which of two identica...</td>\n",
       "      <td>askscience</td>\n",
       "    </tr>\n",
       "    <tr>\n",
       "      <th>4</th>\n",
       "      <td>unlzig</td>\n",
       "      <td>If someone had their cornea or lens damaged to...</td>\n",
       "      <td>askscience</td>\n",
       "    </tr>\n",
       "  </tbody>\n",
       "</table>\n",
       "</div>"
      ],
      "text/plain": [
       "       id                                              title   subreddit\n",
       "0  unmeji  Looking for an science news piece from a few y...  askscience\n",
       "1  unm0cg  if moving water evaporates quicker, could ther...  askscience\n",
       "2  unlzzb  Sitting on eastern coast of Lake Michigan, and...  askscience\n",
       "3  unlzxe  Is there any way to tell which of two identica...  askscience\n",
       "4  unlzig  If someone had their cornea or lens damaged to...  askscience"
      ]
     },
     "execution_count": 16,
     "metadata": {},
     "output_type": "execute_result"
    }
   ],
   "source": [
    "science.head()"
   ]
  },
  {
   "cell_type": "code",
   "execution_count": 17,
   "id": "38c7464f",
   "metadata": {
    "scrolled": true
   },
   "outputs": [
    {
     "data": {
      "text/html": [
       "<div>\n",
       "<style scoped>\n",
       "    .dataframe tbody tr th:only-of-type {\n",
       "        vertical-align: middle;\n",
       "    }\n",
       "\n",
       "    .dataframe tbody tr th {\n",
       "        vertical-align: top;\n",
       "    }\n",
       "\n",
       "    .dataframe thead th {\n",
       "        text-align: right;\n",
       "    }\n",
       "</style>\n",
       "<table border=\"1\" class=\"dataframe\">\n",
       "  <thead>\n",
       "    <tr style=\"text-align: right;\">\n",
       "      <th></th>\n",
       "      <th>id</th>\n",
       "      <th>title</th>\n",
       "      <th>subreddit</th>\n",
       "    </tr>\n",
       "  </thead>\n",
       "  <tbody>\n",
       "    <tr>\n",
       "      <th>0</th>\n",
       "      <td>unci2q</td>\n",
       "      <td>What specie of turtle is this?</td>\n",
       "      <td>shittyaskscience</td>\n",
       "    </tr>\n",
       "    <tr>\n",
       "      <th>1</th>\n",
       "      <td>unc2bt</td>\n",
       "      <td>What scientific calculations are used to deter...</td>\n",
       "      <td>shittyaskscience</td>\n",
       "    </tr>\n",
       "    <tr>\n",
       "      <th>2</th>\n",
       "      <td>un61wb</td>\n",
       "      <td>Why can't we just ban global warming outright?</td>\n",
       "      <td>shittyaskscience</td>\n",
       "    </tr>\n",
       "    <tr>\n",
       "      <th>3</th>\n",
       "      <td>un5sng</td>\n",
       "      <td>How do horses learn to draw pictures this real...</td>\n",
       "      <td>shittyaskscience</td>\n",
       "    </tr>\n",
       "    <tr>\n",
       "      <th>4</th>\n",
       "      <td>umutt3</td>\n",
       "      <td>Does Creativity Stem from a Brain Malfunction?</td>\n",
       "      <td>shittyaskscience</td>\n",
       "    </tr>\n",
       "  </tbody>\n",
       "</table>\n",
       "</div>"
      ],
      "text/plain": [
       "       id                                              title         subreddit\n",
       "0  unci2q                     What specie of turtle is this?  shittyaskscience\n",
       "1  unc2bt  What scientific calculations are used to deter...  shittyaskscience\n",
       "2  un61wb     Why can't we just ban global warming outright?  shittyaskscience\n",
       "3  un5sng  How do horses learn to draw pictures this real...  shittyaskscience\n",
       "4  umutt3     Does Creativity Stem from a Brain Malfunction?  shittyaskscience"
      ]
     },
     "execution_count": 17,
     "metadata": {},
     "output_type": "execute_result"
    }
   ],
   "source": [
    "shitty.head()"
   ]
  },
  {
   "cell_type": "code",
   "execution_count": 18,
   "id": "bbaaadfd",
   "metadata": {},
   "outputs": [],
   "source": [
    "# put them together in random order\n",
    "df = pd.concat([science, shitty], axis=0).sample(frac=1, random_state=42).reset_index(drop=True)\n"
   ]
  },
  {
   "cell_type": "code",
   "execution_count": 19,
   "id": "2526e72e",
   "metadata": {
    "scrolled": false
   },
   "outputs": [
    {
     "data": {
      "text/html": [
       "<div>\n",
       "<style scoped>\n",
       "    .dataframe tbody tr th:only-of-type {\n",
       "        vertical-align: middle;\n",
       "    }\n",
       "\n",
       "    .dataframe tbody tr th {\n",
       "        vertical-align: top;\n",
       "    }\n",
       "\n",
       "    .dataframe thead th {\n",
       "        text-align: right;\n",
       "    }\n",
       "</style>\n",
       "<table border=\"1\" class=\"dataframe\">\n",
       "  <thead>\n",
       "    <tr style=\"text-align: right;\">\n",
       "      <th></th>\n",
       "      <th>id</th>\n",
       "      <th>title</th>\n",
       "      <th>subreddit</th>\n",
       "    </tr>\n",
       "  </thead>\n",
       "  <tbody>\n",
       "    <tr>\n",
       "      <th>0</th>\n",
       "      <td>rhy7jl</td>\n",
       "      <td>I got an odd question</td>\n",
       "      <td>shittyaskscience</td>\n",
       "    </tr>\n",
       "    <tr>\n",
       "      <th>1</th>\n",
       "      <td>uavrmz</td>\n",
       "      <td>What is that\"punching\" feeling when getting a ...</td>\n",
       "      <td>askscience</td>\n",
       "    </tr>\n",
       "    <tr>\n",
       "      <th>2</th>\n",
       "      <td>ulnpgm</td>\n",
       "      <td>Since earwigs got their name because they craw...</td>\n",
       "      <td>shittyaskscience</td>\n",
       "    </tr>\n",
       "    <tr>\n",
       "      <th>3</th>\n",
       "      <td>rrhu9y</td>\n",
       "      <td>I've heard no mention of any Pulitzer nominati...</td>\n",
       "      <td>shittyaskscience</td>\n",
       "    </tr>\n",
       "    <tr>\n",
       "      <th>4</th>\n",
       "      <td>mkmqg7</td>\n",
       "      <td>If I’m standing on the moon, how hard do I hav...</td>\n",
       "      <td>shittyaskscience</td>\n",
       "    </tr>\n",
       "  </tbody>\n",
       "</table>\n",
       "</div>"
      ],
      "text/plain": [
       "       id                                              title         subreddit\n",
       "0  rhy7jl                              I got an odd question  shittyaskscience\n",
       "1  uavrmz  What is that\"punching\" feeling when getting a ...        askscience\n",
       "2  ulnpgm  Since earwigs got their name because they craw...  shittyaskscience\n",
       "3  rrhu9y  I've heard no mention of any Pulitzer nominati...  shittyaskscience\n",
       "4  mkmqg7  If I’m standing on the moon, how hard do I hav...  shittyaskscience"
      ]
     },
     "execution_count": 19,
     "metadata": {},
     "output_type": "execute_result"
    }
   ],
   "source": [
    "df.head()"
   ]
  },
  {
   "cell_type": "code",
   "execution_count": 20,
   "id": "1259ce4e",
   "metadata": {},
   "outputs": [
    {
     "name": "stdout",
     "output_type": "stream",
     "text": [
      "<class 'pandas.core.frame.DataFrame'>\n",
      "RangeIndex: 10195 entries, 0 to 10194\n",
      "Data columns (total 3 columns):\n",
      " #   Column     Non-Null Count  Dtype \n",
      "---  ------     --------------  ----- \n",
      " 0   id         10195 non-null  object\n",
      " 1   title      10195 non-null  object\n",
      " 2   subreddit  10195 non-null  object\n",
      "dtypes: object(3)\n",
      "memory usage: 239.1+ KB\n"
     ]
    }
   ],
   "source": [
    "df.info() # No more NaN values "
   ]
  },
  {
   "cell_type": "code",
   "execution_count": 21,
   "id": "27737bc5",
   "metadata": {},
   "outputs": [],
   "source": [
    "# Remove Titles that are URLs\n",
    "from urlextract import URLExtract"
   ]
  },
  {
   "cell_type": "code",
   "execution_count": 22,
   "id": "54aa9c5b",
   "metadata": {},
   "outputs": [],
   "source": [
    "extractor = URLExtract()"
   ]
  },
  {
   "cell_type": "code",
   "execution_count": 23,
   "id": "38f96b5c",
   "metadata": {},
   "outputs": [],
   "source": [
    "url_index = []\n",
    "for i in range(0, df.shape[0]): # Iterate through each index and collect the indeces of titles that have urls\n",
    "    if extractor.has_urls(df['title'].iloc[i]): \n",
    "        url_index.append(i)"
   ]
  },
  {
   "cell_type": "code",
   "execution_count": 24,
   "id": "cbcc26b3",
   "metadata": {},
   "outputs": [
    {
     "data": {
      "text/plain": [
       "[1065,\n",
       " 1117,\n",
       " 1743,\n",
       " 2253,\n",
       " 2824,\n",
       " 2914,\n",
       " 3014,\n",
       " 3057,\n",
       " 4143,\n",
       " 4875,\n",
       " 5022,\n",
       " 5317,\n",
       " 5827,\n",
       " 5841,\n",
       " 6032,\n",
       " 7085,\n",
       " 7314,\n",
       " 7640,\n",
       " 7758,\n",
       " 8319,\n",
       " 8411,\n",
       " 8878,\n",
       " 8982,\n",
       " 9051,\n",
       " 9311,\n",
       " 9507,\n",
       " 10043,\n",
       " 10152,\n",
       " 10173]"
      ]
     },
     "execution_count": 24,
     "metadata": {},
     "output_type": "execute_result"
    }
   ],
   "source": [
    "url_index"
   ]
  },
  {
   "cell_type": "code",
   "execution_count": 25,
   "id": "ba522ff8",
   "metadata": {},
   "outputs": [],
   "source": [
    "df.drop(index=url_index, inplace=True) # Drop the URL indexes"
   ]
  },
  {
   "cell_type": "code",
   "execution_count": 26,
   "id": "35c84f60",
   "metadata": {},
   "outputs": [],
   "source": [
    "df = df.reset_index() "
   ]
  },
  {
   "cell_type": "code",
   "execution_count": 27,
   "id": "75928d4e",
   "metadata": {},
   "outputs": [],
   "source": [
    "df.drop(columns=['index'], inplace=True)"
   ]
  },
  {
   "cell_type": "code",
   "execution_count": 28,
   "id": "5e0540c2",
   "metadata": {},
   "outputs": [],
   "source": [
    "# rename columns to be more specific\n",
    "df.rename(columns={'title': 'post_title', 'subreddit': 'subreddit_name'}, inplace=True)"
   ]
  },
  {
   "cell_type": "code",
   "execution_count": 29,
   "id": "06b50041",
   "metadata": {},
   "outputs": [
    {
     "data": {
      "text/html": [
       "<div>\n",
       "<style scoped>\n",
       "    .dataframe tbody tr th:only-of-type {\n",
       "        vertical-align: middle;\n",
       "    }\n",
       "\n",
       "    .dataframe tbody tr th {\n",
       "        vertical-align: top;\n",
       "    }\n",
       "\n",
       "    .dataframe thead th {\n",
       "        text-align: right;\n",
       "    }\n",
       "</style>\n",
       "<table border=\"1\" class=\"dataframe\">\n",
       "  <thead>\n",
       "    <tr style=\"text-align: right;\">\n",
       "      <th></th>\n",
       "      <th>id</th>\n",
       "      <th>post_title</th>\n",
       "      <th>subreddit_name</th>\n",
       "    </tr>\n",
       "  </thead>\n",
       "  <tbody>\n",
       "    <tr>\n",
       "      <th>0</th>\n",
       "      <td>rhy7jl</td>\n",
       "      <td>I got an odd question</td>\n",
       "      <td>shittyaskscience</td>\n",
       "    </tr>\n",
       "    <tr>\n",
       "      <th>1</th>\n",
       "      <td>uavrmz</td>\n",
       "      <td>What is that\"punching\" feeling when getting a ...</td>\n",
       "      <td>askscience</td>\n",
       "    </tr>\n",
       "    <tr>\n",
       "      <th>2</th>\n",
       "      <td>ulnpgm</td>\n",
       "      <td>Since earwigs got their name because they craw...</td>\n",
       "      <td>shittyaskscience</td>\n",
       "    </tr>\n",
       "    <tr>\n",
       "      <th>3</th>\n",
       "      <td>rrhu9y</td>\n",
       "      <td>I've heard no mention of any Pulitzer nominati...</td>\n",
       "      <td>shittyaskscience</td>\n",
       "    </tr>\n",
       "    <tr>\n",
       "      <th>4</th>\n",
       "      <td>mkmqg7</td>\n",
       "      <td>If I’m standing on the moon, how hard do I hav...</td>\n",
       "      <td>shittyaskscience</td>\n",
       "    </tr>\n",
       "  </tbody>\n",
       "</table>\n",
       "</div>"
      ],
      "text/plain": [
       "       id                                         post_title    subreddit_name\n",
       "0  rhy7jl                              I got an odd question  shittyaskscience\n",
       "1  uavrmz  What is that\"punching\" feeling when getting a ...        askscience\n",
       "2  ulnpgm  Since earwigs got their name because they craw...  shittyaskscience\n",
       "3  rrhu9y  I've heard no mention of any Pulitzer nominati...  shittyaskscience\n",
       "4  mkmqg7  If I’m standing on the moon, how hard do I hav...  shittyaskscience"
      ]
     },
     "execution_count": 29,
     "metadata": {},
     "output_type": "execute_result"
    }
   ],
   "source": [
    "df.head()"
   ]
  },
  {
   "cell_type": "markdown",
   "id": "e4b495a8",
   "metadata": {},
   "source": [
    "### EDA"
   ]
  },
  {
   "cell_type": "markdown",
   "id": "77d44818",
   "metadata": {},
   "source": [
    "#### Character, word counts"
   ]
  },
  {
   "cell_type": "code",
   "execution_count": 30,
   "id": "dd4416b5",
   "metadata": {},
   "outputs": [],
   "source": [
    "# Add column for title length by number of characters\n",
    "df['title_length'] = df['post_title'].map(lambda x: len(x))\n",
    "\n",
    "# Add column for title length by number of words\n",
    "df['title_word_count'] = df['post_title'].map(lambda x: len(x.split()))"
   ]
  },
  {
   "cell_type": "code",
   "execution_count": 31,
   "id": "51991835",
   "metadata": {
    "scrolled": true
   },
   "outputs": [
    {
     "data": {
      "text/html": [
       "<div>\n",
       "<style scoped>\n",
       "    .dataframe tbody tr th:only-of-type {\n",
       "        vertical-align: middle;\n",
       "    }\n",
       "\n",
       "    .dataframe tbody tr th {\n",
       "        vertical-align: top;\n",
       "    }\n",
       "\n",
       "    .dataframe thead th {\n",
       "        text-align: right;\n",
       "    }\n",
       "</style>\n",
       "<table border=\"1\" class=\"dataframe\">\n",
       "  <thead>\n",
       "    <tr style=\"text-align: right;\">\n",
       "      <th></th>\n",
       "      <th>id</th>\n",
       "      <th>post_title</th>\n",
       "      <th>subreddit_name</th>\n",
       "      <th>title_length</th>\n",
       "      <th>title_word_count</th>\n",
       "    </tr>\n",
       "  </thead>\n",
       "  <tbody>\n",
       "    <tr>\n",
       "      <th>0</th>\n",
       "      <td>rhy7jl</td>\n",
       "      <td>I got an odd question</td>\n",
       "      <td>shittyaskscience</td>\n",
       "      <td>21</td>\n",
       "      <td>5</td>\n",
       "    </tr>\n",
       "    <tr>\n",
       "      <th>1</th>\n",
       "      <td>uavrmz</td>\n",
       "      <td>What is that\"punching\" feeling when getting a ...</td>\n",
       "      <td>askscience</td>\n",
       "      <td>56</td>\n",
       "      <td>8</td>\n",
       "    </tr>\n",
       "    <tr>\n",
       "      <th>2</th>\n",
       "      <td>ulnpgm</td>\n",
       "      <td>Since earwigs got their name because they craw...</td>\n",
       "      <td>shittyaskscience</td>\n",
       "      <td>112</td>\n",
       "      <td>20</td>\n",
       "    </tr>\n",
       "    <tr>\n",
       "      <th>3</th>\n",
       "      <td>rrhu9y</td>\n",
       "      <td>I've heard no mention of any Pulitzer nominati...</td>\n",
       "      <td>shittyaskscience</td>\n",
       "      <td>176</td>\n",
       "      <td>32</td>\n",
       "    </tr>\n",
       "    <tr>\n",
       "      <th>4</th>\n",
       "      <td>mkmqg7</td>\n",
       "      <td>If I’m standing on the moon, how hard do I hav...</td>\n",
       "      <td>shittyaskscience</td>\n",
       "      <td>136</td>\n",
       "      <td>31</td>\n",
       "    </tr>\n",
       "  </tbody>\n",
       "</table>\n",
       "</div>"
      ],
      "text/plain": [
       "       id                                         post_title  \\\n",
       "0  rhy7jl                              I got an odd question   \n",
       "1  uavrmz  What is that\"punching\" feeling when getting a ...   \n",
       "2  ulnpgm  Since earwigs got their name because they craw...   \n",
       "3  rrhu9y  I've heard no mention of any Pulitzer nominati...   \n",
       "4  mkmqg7  If I’m standing on the moon, how hard do I hav...   \n",
       "\n",
       "     subreddit_name  title_length  title_word_count  \n",
       "0  shittyaskscience            21                 5  \n",
       "1        askscience            56                 8  \n",
       "2  shittyaskscience           112                20  \n",
       "3  shittyaskscience           176                32  \n",
       "4  shittyaskscience           136                31  "
      ]
     },
     "execution_count": 31,
     "metadata": {},
     "output_type": "execute_result"
    }
   ],
   "source": [
    "df.head()"
   ]
  },
  {
   "cell_type": "code",
   "execution_count": 32,
   "id": "192a4904",
   "metadata": {
    "scrolled": false
   },
   "outputs": [
    {
     "data": {
      "image/png": "[encoded data removed]",
      "text/plain": [
       "<Figure size 720x360 with 2 Axes>"
      ]
     },
     "metadata": {
      "needs_background": "light"
     },
     "output_type": "display_data"
    }
   ],
   "source": [
    "# Distribution of title length by character count\n",
    "sns.displot(df, \n",
    "            x = 'title_length',\n",
    "            col = 'subreddit_name',\n",
    "            binwidth = 7\n",
    "           );"
   ]
  },
  {
   "cell_type": "code",
   "execution_count": 33,
   "id": "4d0d6128",
   "metadata": {
    "scrolled": false
   },
   "outputs": [
    {
     "data": {
      "text/html": [
       "<div>\n",
       "<style scoped>\n",
       "    .dataframe tbody tr th:only-of-type {\n",
       "        vertical-align: middle;\n",
       "    }\n",
       "\n",
       "    .dataframe tbody tr th {\n",
       "        vertical-align: top;\n",
       "    }\n",
       "\n",
       "    .dataframe thead th {\n",
       "        text-align: right;\n",
       "    }\n",
       "</style>\n",
       "<table border=\"1\" class=\"dataframe\">\n",
       "  <thead>\n",
       "    <tr style=\"text-align: right;\">\n",
       "      <th></th>\n",
       "      <th>title_length</th>\n",
       "    </tr>\n",
       "    <tr>\n",
       "      <th>subreddit_name</th>\n",
       "      <th></th>\n",
       "    </tr>\n",
       "  </thead>\n",
       "  <tbody>\n",
       "    <tr>\n",
       "      <th>askscience</th>\n",
       "      <td>79.607508</td>\n",
       "    </tr>\n",
       "    <tr>\n",
       "      <th>shittyaskscience</th>\n",
       "      <td>69.940922</td>\n",
       "    </tr>\n",
       "  </tbody>\n",
       "</table>\n",
       "</div>"
      ],
      "text/plain": [
       "                  title_length\n",
       "subreddit_name                \n",
       "askscience           79.607508\n",
       "shittyaskscience     69.940922"
      ]
     },
     "execution_count": 33,
     "metadata": {},
     "output_type": "execute_result"
    }
   ],
   "source": [
    "df.groupby('subreddit_name').mean()[['title_length']]"
   ]
  },
  {
   "cell_type": "code",
   "execution_count": 34,
   "id": "701eab73",
   "metadata": {
    "scrolled": true
   },
   "outputs": [
    {
     "data": {
      "image/png": "[encoded data removed]",
      "text/plain": [
       "<Figure size 720x360 with 2 Axes>"
      ]
     },
     "metadata": {
      "needs_background": "light"
     },
     "output_type": "display_data"
    }
   ],
   "source": [
    "# Distribution of title length by word count\n",
    "sns.displot(df, \n",
    "            x = 'title_word_count',\n",
    "            col = 'subreddit_name',\n",
    "            binwidth = 2\n",
    "           );"
   ]
  },
  {
   "cell_type": "code",
   "execution_count": 35,
   "id": "68b024d2",
   "metadata": {
    "scrolled": true
   },
   "outputs": [
    {
     "data": {
      "text/html": [
       "<div>\n",
       "<style scoped>\n",
       "    .dataframe tbody tr th:only-of-type {\n",
       "        vertical-align: middle;\n",
       "    }\n",
       "\n",
       "    .dataframe tbody tr th {\n",
       "        vertical-align: top;\n",
       "    }\n",
       "\n",
       "    .dataframe thead th {\n",
       "        text-align: right;\n",
       "    }\n",
       "</style>\n",
       "<table border=\"1\" class=\"dataframe\">\n",
       "  <thead>\n",
       "    <tr style=\"text-align: right;\">\n",
       "      <th></th>\n",
       "      <th>title_word_count</th>\n",
       "    </tr>\n",
       "    <tr>\n",
       "      <th>subreddit_name</th>\n",
       "      <th></th>\n",
       "    </tr>\n",
       "  </thead>\n",
       "  <tbody>\n",
       "    <tr>\n",
       "      <th>askscience</th>\n",
       "      <td>13.930818</td>\n",
       "    </tr>\n",
       "    <tr>\n",
       "      <th>shittyaskscience</th>\n",
       "      <td>12.972233</td>\n",
       "    </tr>\n",
       "  </tbody>\n",
       "</table>\n",
       "</div>"
      ],
      "text/plain": [
       "                  title_word_count\n",
       "subreddit_name                    \n",
       "askscience               13.930818\n",
       "shittyaskscience         12.972233"
      ]
     },
     "execution_count": 35,
     "metadata": {},
     "output_type": "execute_result"
    }
   ],
   "source": [
    "df.groupby('subreddit_name').mean()[['title_word_count']]"
   ]
  },
  {
   "cell_type": "markdown",
   "id": "0f450e47",
   "metadata": {},
   "source": [
    "- Distribution shapes of the title character and word count are similar between the two subreddits, all skewed to the right. The mean word and character counts are slightly bigger in askscience. "
   ]
  },
  {
   "cell_type": "code",
   "execution_count": 36,
   "id": "067b7d04",
   "metadata": {},
   "outputs": [],
   "source": [
    "# Average word length\n",
    "def ave_word_len(string):\n",
    "    stop = set(stopwords.words('english')) # to exclude stop words, specify stop words\n",
    "    string = string.replace('/', ' ') #this is to determine words separated by '/'\n",
    "    len_str = 0\n",
    "    n_word = 0\n",
    "    for word in string.split(' '):\n",
    "        if word not in stop: # Only include the words that are not stop words\n",
    "            len_str += len(word)\n",
    "            n_word += 1\n",
    "            \n",
    "    if n_word == 0:\n",
    "        return 0\n",
    "    else:\n",
    "        return len_str/n_word "
   ]
  },
  {
   "cell_type": "code",
   "execution_count": 37,
   "id": "dee51513",
   "metadata": {},
   "outputs": [],
   "source": [
    "df['ave_word_length'] = df['post_title'].map(lambda x: ave_word_len(x))"
   ]
  },
  {
   "cell_type": "code",
   "execution_count": 38,
   "id": "106da36d",
   "metadata": {
    "scrolled": false
   },
   "outputs": [
    {
     "data": {
      "image/png": "[encoded data removed]",
      "text/plain": [
       "<Figure size 720x360 with 2 Axes>"
      ]
     },
     "metadata": {
      "needs_background": "light"
     },
     "output_type": "display_data"
    }
   ],
   "source": [
    "sns.displot(df, \n",
    "            x = 'ave_word_length',\n",
    "            col = 'subreddit_name',\n",
    "            binwidth = 1\n",
    "           );"
   ]
  },
  {
   "cell_type": "code",
   "execution_count": 39,
   "id": "40d505e8",
   "metadata": {},
   "outputs": [
    {
     "data": {
      "text/html": [
       "<div>\n",
       "<style scoped>\n",
       "    .dataframe tbody tr th:only-of-type {\n",
       "        vertical-align: middle;\n",
       "    }\n",
       "\n",
       "    .dataframe tbody tr th {\n",
       "        vertical-align: top;\n",
       "    }\n",
       "\n",
       "    .dataframe thead th {\n",
       "        text-align: right;\n",
       "    }\n",
       "</style>\n",
       "<table border=\"1\" class=\"dataframe\">\n",
       "  <thead>\n",
       "    <tr style=\"text-align: right;\">\n",
       "      <th></th>\n",
       "      <th>ave_word_length</th>\n",
       "    </tr>\n",
       "    <tr>\n",
       "      <th>subreddit_name</th>\n",
       "      <th></th>\n",
       "    </tr>\n",
       "  </thead>\n",
       "  <tbody>\n",
       "    <tr>\n",
       "      <th>askscience</th>\n",
       "      <td>6.043395</td>\n",
       "    </tr>\n",
       "    <tr>\n",
       "      <th>shittyaskscience</th>\n",
       "      <td>5.491657</td>\n",
       "    </tr>\n",
       "  </tbody>\n",
       "</table>\n",
       "</div>"
      ],
      "text/plain": [
       "                  ave_word_length\n",
       "subreddit_name                   \n",
       "askscience               6.043395\n",
       "shittyaskscience         5.491657"
      ]
     },
     "execution_count": 39,
     "metadata": {},
     "output_type": "execute_result"
    }
   ],
   "source": [
    "df.groupby('subreddit_name').mean()[['ave_word_length']]"
   ]
  },
  {
   "cell_type": "code",
   "execution_count": 40,
   "id": "b30330f5",
   "metadata": {
    "scrolled": false
   },
   "outputs": [
    {
     "data": {
      "image/png": "[encoded data removed]",
      "text/plain": [
       "<Figure size 360x360 with 1 Axes>"
      ]
     },
     "metadata": {
      "needs_background": "light"
     },
     "output_type": "display_data"
    }
   ],
   "source": [
    "sns.catplot(data = df,\n",
    "            x = 'ave_word_length',\n",
    "            y = 'subreddit_name',\n",
    "            kind = 'box',\n",
    "            color = 'steelblue'\n",
    "           );"
   ]
  },
  {
   "cell_type": "markdown",
   "id": "61d0e052",
   "metadata": {},
   "source": [
    "Visualizing distribution through boxplots shows there are many outliers to the average word length. "
   ]
  },
  {
   "cell_type": "code",
   "execution_count": 41,
   "id": "a69c510c",
   "metadata": {},
   "outputs": [],
   "source": [
    "# Examine outliers; separate the dataframe by subreddit for convenience\n",
    "sub_shitty = df[df['subreddit_name']=='shittyaskscience']\n",
    "sub_science = df[df['subreddit_name']=='askscience']"
   ]
  },
  {
   "cell_type": "code",
   "execution_count": 42,
   "id": "3b1f4d98",
   "metadata": {},
   "outputs": [],
   "source": [
    "# Create function to determine the IQR outliers\n",
    "def outlier_bound(df, feature, group_feat=None, group=None):\n",
    "    if group_feat == None:\n",
    "        Q1 = np.percentile(df[feature], 25,interpolation = 'midpoint')\n",
    "        Q3 = np.percentile(df[feature], 75,interpolation = 'midpoint')\n",
    "    else:\n",
    "        Q1 = np.percentile(df[df[group_feat] == group][feature], 25,interpolation = 'midpoint')\n",
    "        Q3 = np.percentile(df[df[group_feat] == group][feature], 75,interpolation = 'midpoint')\n",
    "    \n",
    "    IQR = Q3 - Q1\n",
    "    upper = Q3 + 1.5*IQR\n",
    "    lower = Q1 - 1.5*IQR\n",
    "    \n",
    "    return (lower, upper)"
   ]
  },
  {
   "cell_type": "code",
   "execution_count": 43,
   "id": "b5b36166",
   "metadata": {},
   "outputs": [
    {
     "data": {
      "text/plain": [
       "(2.728571428571429, 8.119047619047619)"
      ]
     },
     "execution_count": 43,
     "metadata": {},
     "output_type": "execute_result"
    }
   ],
   "source": [
    "# outlier boundaries of shittyaskscience\n",
    "outlier_bound(df, 'ave_word_length', 'subreddit_name', 'shittyaskscience')"
   ]
  },
  {
   "cell_type": "code",
   "execution_count": 44,
   "id": "8a239251",
   "metadata": {},
   "outputs": [
    {
     "data": {
      "text/plain": [
       "(3.0749999999999997, 8.875)"
      ]
     },
     "execution_count": 44,
     "metadata": {},
     "output_type": "execute_result"
    }
   ],
   "source": [
    "# outlier boundaries of askscience\n",
    "outlier_bound(df, 'ave_word_length', 'subreddit_name', 'askscience')"
   ]
  },
  {
   "cell_type": "markdown",
   "id": "22a694e9",
   "metadata": {},
   "source": [
    "**What is contributing to the outliers?**"
   ]
  },
  {
   "cell_type": "code",
   "execution_count": 45,
   "id": "2f2d7903",
   "metadata": {
    "scrolled": false
   },
   "outputs": [
    {
     "data": {
      "text/html": [
       "<div>\n",
       "<style scoped>\n",
       "    .dataframe tbody tr th:only-of-type {\n",
       "        vertical-align: middle;\n",
       "    }\n",
       "\n",
       "    .dataframe tbody tr th {\n",
       "        vertical-align: top;\n",
       "    }\n",
       "\n",
       "    .dataframe thead th {\n",
       "        text-align: right;\n",
       "    }\n",
       "</style>\n",
       "<table border=\"1\" class=\"dataframe\">\n",
       "  <thead>\n",
       "    <tr style=\"text-align: right;\">\n",
       "      <th></th>\n",
       "      <th>id</th>\n",
       "      <th>post_title</th>\n",
       "      <th>subreddit_name</th>\n",
       "      <th>title_length</th>\n",
       "      <th>title_word_count</th>\n",
       "      <th>ave_word_length</th>\n",
       "    </tr>\n",
       "  </thead>\n",
       "  <tbody>\n",
       "    <tr>\n",
       "      <th>3156</th>\n",
       "      <td>o2txxf</td>\n",
       "      <td>🤍Nudes💘Groupchat❤️</td>\n",
       "      <td>shittyaskscience</td>\n",
       "      <td>18</td>\n",
       "      <td>1</td>\n",
       "      <td>18.000000</td>\n",
       "    </tr>\n",
       "    <tr>\n",
       "      <th>8191</th>\n",
       "      <td>scfhyk</td>\n",
       "      <td>Synthesis, spectral characterization, intramol...</td>\n",
       "      <td>shittyaskscience</td>\n",
       "      <td>249</td>\n",
       "      <td>15</td>\n",
       "      <td>17.692308</td>\n",
       "    </tr>\n",
       "    <tr>\n",
       "      <th>89</th>\n",
       "      <td>u993f8</td>\n",
       "      <td>Smartproduct001</td>\n",
       "      <td>shittyaskscience</td>\n",
       "      <td>15</td>\n",
       "      <td>1</td>\n",
       "      <td>15.000000</td>\n",
       "    </tr>\n",
       "    <tr>\n",
       "      <th>10025</th>\n",
       "      <td>mwc404</td>\n",
       "      <td>Interbreeding.</td>\n",
       "      <td>shittyaskscience</td>\n",
       "      <td>14</td>\n",
       "      <td>1</td>\n",
       "      <td>14.000000</td>\n",
       "    </tr>\n",
       "    <tr>\n",
       "      <th>8822</th>\n",
       "      <td>uaxado</td>\n",
       "      <td>why is my pee rainbow coloured!?!?!&amp;gt;!&amp;gt;&amp;gt;@</td>\n",
       "      <td>shittyaskscience</td>\n",
       "      <td>49</td>\n",
       "      <td>6</td>\n",
       "      <td>12.333333</td>\n",
       "    </tr>\n",
       "    <tr>\n",
       "      <th>1080</th>\n",
       "      <td>pitxos</td>\n",
       "      <td>Astrophysics</td>\n",
       "      <td>shittyaskscience</td>\n",
       "      <td>12</td>\n",
       "      <td>1</td>\n",
       "      <td>12.000000</td>\n",
       "    </tr>\n",
       "    <tr>\n",
       "      <th>7982</th>\n",
       "      <td>o6jy4b</td>\n",
       "      <td>Retroviruses</td>\n",
       "      <td>shittyaskscience</td>\n",
       "      <td>12</td>\n",
       "      <td>1</td>\n",
       "      <td>12.000000</td>\n",
       "    </tr>\n",
       "    <tr>\n",
       "      <th>4950</th>\n",
       "      <td>qcligt</td>\n",
       "      <td>How do sloths in captivity live for 265,252,85...</td>\n",
       "      <td>shittyaskscience</td>\n",
       "      <td>86</td>\n",
       "      <td>9</td>\n",
       "      <td>11.833333</td>\n",
       "    </tr>\n",
       "    <tr>\n",
       "      <th>8285</th>\n",
       "      <td>njmwai</td>\n",
       "      <td>What's the difference between quasi-experiment...</td>\n",
       "      <td>shittyaskscience</td>\n",
       "      <td>79</td>\n",
       "      <td>8</td>\n",
       "      <td>11.800000</td>\n",
       "    </tr>\n",
       "    <tr>\n",
       "      <th>921</th>\n",
       "      <td>stx5wy</td>\n",
       "      <td>Pancreatits</td>\n",
       "      <td>shittyaskscience</td>\n",
       "      <td>11</td>\n",
       "      <td>1</td>\n",
       "      <td>11.000000</td>\n",
       "    </tr>\n",
       "  </tbody>\n",
       "</table>\n",
       "</div>"
      ],
      "text/plain": [
       "           id                                         post_title  \\\n",
       "3156   o2txxf                                 🤍Nudes💘Groupchat❤️   \n",
       "8191   scfhyk  Synthesis, spectral characterization, intramol...   \n",
       "89     u993f8                                    Smartproduct001   \n",
       "10025  mwc404                                     Interbreeding.   \n",
       "8822   uaxado  why is my pee rainbow coloured!?!?!&gt;!&gt;&gt;@   \n",
       "1080   pitxos                                       Astrophysics   \n",
       "7982   o6jy4b                                       Retroviruses   \n",
       "4950   qcligt  How do sloths in captivity live for 265,252,85...   \n",
       "8285   njmwai  What's the difference between quasi-experiment...   \n",
       "921    stx5wy                                        Pancreatits   \n",
       "\n",
       "         subreddit_name  title_length  title_word_count  ave_word_length  \n",
       "3156   shittyaskscience            18                 1        18.000000  \n",
       "8191   shittyaskscience           249                15        17.692308  \n",
       "89     shittyaskscience            15                 1        15.000000  \n",
       "10025  shittyaskscience            14                 1        14.000000  \n",
       "8822   shittyaskscience            49                 6        12.333333  \n",
       "1080   shittyaskscience            12                 1        12.000000  \n",
       "7982   shittyaskscience            12                 1        12.000000  \n",
       "4950   shittyaskscience            86                 9        11.833333  \n",
       "8285   shittyaskscience            79                 8        11.800000  \n",
       "921    shittyaskscience            11                 1        11.000000  "
      ]
     },
     "execution_count": 45,
     "metadata": {},
     "output_type": "execute_result"
    }
   ],
   "source": [
    "# shittyaskscience high bound outliers\n",
    "sub_shitty[sub_shitty['ave_word_length'] > 6.5].sort_values('ave_word_length', ascending=False).head(10)"
   ]
  },
  {
   "cell_type": "code",
   "execution_count": 46,
   "id": "70fb55f2",
   "metadata": {
    "scrolled": true
   },
   "outputs": [
    {
     "data": {
      "text/html": [
       "<div>\n",
       "<style scoped>\n",
       "    .dataframe tbody tr th:only-of-type {\n",
       "        vertical-align: middle;\n",
       "    }\n",
       "\n",
       "    .dataframe tbody tr th {\n",
       "        vertical-align: top;\n",
       "    }\n",
       "\n",
       "    .dataframe thead th {\n",
       "        text-align: right;\n",
       "    }\n",
       "</style>\n",
       "<table border=\"1\" class=\"dataframe\">\n",
       "  <thead>\n",
       "    <tr style=\"text-align: right;\">\n",
       "      <th></th>\n",
       "      <th>id</th>\n",
       "      <th>post_title</th>\n",
       "      <th>subreddit_name</th>\n",
       "      <th>title_length</th>\n",
       "      <th>title_word_count</th>\n",
       "      <th>ave_word_length</th>\n",
       "    </tr>\n",
       "  </thead>\n",
       "  <tbody>\n",
       "    <tr>\n",
       "      <th>6550</th>\n",
       "      <td>pf8ap9</td>\n",
       "      <td>why it do this</td>\n",
       "      <td>shittyaskscience</td>\n",
       "      <td>14</td>\n",
       "      <td>4</td>\n",
       "      <td>0.000000</td>\n",
       "    </tr>\n",
       "    <tr>\n",
       "      <th>8860</th>\n",
       "      <td>prc3bf</td>\n",
       "      <td>so</td>\n",
       "      <td>shittyaskscience</td>\n",
       "      <td>2</td>\n",
       "      <td>1</td>\n",
       "      <td>0.000000</td>\n",
       "    </tr>\n",
       "    <tr>\n",
       "      <th>3237</th>\n",
       "      <td>t41gam</td>\n",
       "      <td>😲</td>\n",
       "      <td>shittyaskscience</td>\n",
       "      <td>1</td>\n",
       "      <td>1</td>\n",
       "      <td>1.000000</td>\n",
       "    </tr>\n",
       "    <tr>\n",
       "      <th>5252</th>\n",
       "      <td>nners1</td>\n",
       "      <td>K</td>\n",
       "      <td>shittyaskscience</td>\n",
       "      <td>1</td>\n",
       "      <td>1</td>\n",
       "      <td>1.000000</td>\n",
       "    </tr>\n",
       "    <tr>\n",
       "      <th>2382</th>\n",
       "      <td>ufnyur</td>\n",
       "      <td>We did that : ;</td>\n",
       "      <td>shittyaskscience</td>\n",
       "      <td>15</td>\n",
       "      <td>5</td>\n",
       "      <td>1.333333</td>\n",
       "    </tr>\n",
       "    <tr>\n",
       "      <th>4749</th>\n",
       "      <td>pb2gwb</td>\n",
       "      <td>Yo</td>\n",
       "      <td>shittyaskscience</td>\n",
       "      <td>2</td>\n",
       "      <td>1</td>\n",
       "      <td>2.000000</td>\n",
       "    </tr>\n",
       "    <tr>\n",
       "      <th>6100</th>\n",
       "      <td>sm35tf</td>\n",
       "      <td>No</td>\n",
       "      <td>shittyaskscience</td>\n",
       "      <td>2</td>\n",
       "      <td>1</td>\n",
       "      <td>2.000000</td>\n",
       "    </tr>\n",
       "    <tr>\n",
       "      <th>6725</th>\n",
       "      <td>pqdpb8</td>\n",
       "      <td>Tt</td>\n",
       "      <td>shittyaskscience</td>\n",
       "      <td>2</td>\n",
       "      <td>1</td>\n",
       "      <td>2.000000</td>\n",
       "    </tr>\n",
       "    <tr>\n",
       "      <th>7684</th>\n",
       "      <td>ri1o58</td>\n",
       "      <td>🧠❓</td>\n",
       "      <td>shittyaskscience</td>\n",
       "      <td>2</td>\n",
       "      <td>1</td>\n",
       "      <td>2.000000</td>\n",
       "    </tr>\n",
       "    <tr>\n",
       "      <th>9903</th>\n",
       "      <td>p4nhod</td>\n",
       "      <td>how do I do?</td>\n",
       "      <td>shittyaskscience</td>\n",
       "      <td>12</td>\n",
       "      <td>4</td>\n",
       "      <td>2.000000</td>\n",
       "    </tr>\n",
       "    <tr>\n",
       "      <th>10022</th>\n",
       "      <td>n29vbb</td>\n",
       "      <td>We did that :)</td>\n",
       "      <td>shittyaskscience</td>\n",
       "      <td>14</td>\n",
       "      <td>4</td>\n",
       "      <td>2.000000</td>\n",
       "    </tr>\n",
       "    <tr>\n",
       "      <th>2775</th>\n",
       "      <td>sefqjj</td>\n",
       "      <td>E = mc 2 what does mc hammer =?</td>\n",
       "      <td>shittyaskscience</td>\n",
       "      <td>31</td>\n",
       "      <td>9</td>\n",
       "      <td>2.142857</td>\n",
       "    </tr>\n",
       "    <tr>\n",
       "      <th>4246</th>\n",
       "      <td>pxkptm</td>\n",
       "      <td>Why do I pee when I poop</td>\n",
       "      <td>shittyaskscience</td>\n",
       "      <td>24</td>\n",
       "      <td>7</td>\n",
       "      <td>2.400000</td>\n",
       "    </tr>\n",
       "  </tbody>\n",
       "</table>\n",
       "</div>"
      ],
      "text/plain": [
       "           id                       post_title    subreddit_name  \\\n",
       "6550   pf8ap9                   why it do this  shittyaskscience   \n",
       "8860   prc3bf                               so  shittyaskscience   \n",
       "3237   t41gam                                😲  shittyaskscience   \n",
       "5252   nners1                                K  shittyaskscience   \n",
       "2382   ufnyur                  We did that : ;  shittyaskscience   \n",
       "4749   pb2gwb                               Yo  shittyaskscience   \n",
       "6100   sm35tf                               No  shittyaskscience   \n",
       "6725   pqdpb8                               Tt  shittyaskscience   \n",
       "7684   ri1o58                               🧠❓  shittyaskscience   \n",
       "9903   p4nhod                     how do I do?  shittyaskscience   \n",
       "10022  n29vbb                   We did that :)  shittyaskscience   \n",
       "2775   sefqjj  E = mc 2 what does mc hammer =?  shittyaskscience   \n",
       "4246   pxkptm         Why do I pee when I poop  shittyaskscience   \n",
       "\n",
       "       title_length  title_word_count  ave_word_length  \n",
       "6550             14                 4         0.000000  \n",
       "8860              2                 1         0.000000  \n",
       "3237              1                 1         1.000000  \n",
       "5252              1                 1         1.000000  \n",
       "2382             15                 5         1.333333  \n",
       "4749              2                 1         2.000000  \n",
       "6100              2                 1         2.000000  \n",
       "6725              2                 1         2.000000  \n",
       "7684              2                 1         2.000000  \n",
       "9903             12                 4         2.000000  \n",
       "10022            14                 4         2.000000  \n",
       "2775             31                 9         2.142857  \n",
       "4246             24                 7         2.400000  "
      ]
     },
     "execution_count": 46,
     "metadata": {},
     "output_type": "execute_result"
    }
   ],
   "source": [
    "# shittyaskscience low bound outliers\n",
    "sub_shitty[sub_shitty['ave_word_length'] < 2.5].sort_values('ave_word_length')"
   ]
  },
  {
   "cell_type": "code",
   "execution_count": 47,
   "id": "4da18fd9",
   "metadata": {},
   "outputs": [
    {
     "data": {
      "text/html": [
       "<div>\n",
       "<style scoped>\n",
       "    .dataframe tbody tr th:only-of-type {\n",
       "        vertical-align: middle;\n",
       "    }\n",
       "\n",
       "    .dataframe tbody tr th {\n",
       "        vertical-align: top;\n",
       "    }\n",
       "\n",
       "    .dataframe thead th {\n",
       "        text-align: right;\n",
       "    }\n",
       "</style>\n",
       "<table border=\"1\" class=\"dataframe\">\n",
       "  <thead>\n",
       "    <tr style=\"text-align: right;\">\n",
       "      <th></th>\n",
       "      <th>id</th>\n",
       "      <th>post_title</th>\n",
       "      <th>subreddit_name</th>\n",
       "      <th>title_length</th>\n",
       "      <th>title_word_count</th>\n",
       "      <th>ave_word_length</th>\n",
       "    </tr>\n",
       "  </thead>\n",
       "  <tbody>\n",
       "    <tr>\n",
       "      <th>1778</th>\n",
       "      <td>ubv53k</td>\n",
       "      <td>test**jjdjdjsjsjsjsjjxjx</td>\n",
       "      <td>askscience</td>\n",
       "      <td>24</td>\n",
       "      <td>1</td>\n",
       "      <td>24.000000</td>\n",
       "    </tr>\n",
       "    <tr>\n",
       "      <th>1590</th>\n",
       "      <td>uj5huk</td>\n",
       "      <td>tthyyyyyyyyyyyyyyyyy</td>\n",
       "      <td>askscience</td>\n",
       "      <td>20</td>\n",
       "      <td>1</td>\n",
       "      <td>20.000000</td>\n",
       "    </tr>\n",
       "    <tr>\n",
       "      <th>24</th>\n",
       "      <td>uerwkm</td>\n",
       "      <td>i removed clothesssssssssssssssssssssss</td>\n",
       "      <td>askscience</td>\n",
       "      <td>39</td>\n",
       "      <td>3</td>\n",
       "      <td>18.000000</td>\n",
       "    </tr>\n",
       "    <tr>\n",
       "      <th>9592</th>\n",
       "      <td>u78b5l</td>\n",
       "      <td>Chromatography resources?</td>\n",
       "      <td>askscience</td>\n",
       "      <td>25</td>\n",
       "      <td>2</td>\n",
       "      <td>12.000000</td>\n",
       "    </tr>\n",
       "    <tr>\n",
       "      <th>3694</th>\n",
       "      <td>ujmb50</td>\n",
       "      <td>is PhD annnnnnnnnnnnnnnnnnnnnnnnnnn std?</td>\n",
       "      <td>askscience</td>\n",
       "      <td>40</td>\n",
       "      <td>4</td>\n",
       "      <td>11.666667</td>\n",
       "    </tr>\n",
       "    <tr>\n",
       "      <th>...</th>\n",
       "      <td>...</td>\n",
       "      <td>...</td>\n",
       "      <td>...</td>\n",
       "      <td>...</td>\n",
       "      <td>...</td>\n",
       "      <td>...</td>\n",
       "    </tr>\n",
       "    <tr>\n",
       "      <th>1394</th>\n",
       "      <td>ufdjli</td>\n",
       "      <td>What reaction products are formed when potassi...</td>\n",
       "      <td>askscience</td>\n",
       "      <td>113</td>\n",
       "      <td>17</td>\n",
       "      <td>7.083333</td>\n",
       "    </tr>\n",
       "    <tr>\n",
       "      <th>2282</th>\n",
       "      <td>ujvkb4</td>\n",
       "      <td>56-year old woman who recently had a respirato...</td>\n",
       "      <td>askscience</td>\n",
       "      <td>130</td>\n",
       "      <td>21</td>\n",
       "      <td>7.083333</td>\n",
       "    </tr>\n",
       "    <tr>\n",
       "      <th>3082</th>\n",
       "      <td>ujgz0r</td>\n",
       "      <td>is it possible to get biological implants to s...</td>\n",
       "      <td>askscience</td>\n",
       "      <td>146</td>\n",
       "      <td>24</td>\n",
       "      <td>7.083333</td>\n",
       "    </tr>\n",
       "    <tr>\n",
       "      <th>280</th>\n",
       "      <td>ujpavq</td>\n",
       "      <td>The universe is expanding at an accelerating r...</td>\n",
       "      <td>askscience</td>\n",
       "      <td>121</td>\n",
       "      <td>19</td>\n",
       "      <td>7.083333</td>\n",
       "    </tr>\n",
       "    <tr>\n",
       "      <th>3515</th>\n",
       "      <td>u9bufr</td>\n",
       "      <td>Would it be actually scientifically possible f...</td>\n",
       "      <td>askscience</td>\n",
       "      <td>130</td>\n",
       "      <td>23</td>\n",
       "      <td>7.083333</td>\n",
       "    </tr>\n",
       "  </tbody>\n",
       "</table>\n",
       "<p>792 rows × 6 columns</p>\n",
       "</div>"
      ],
      "text/plain": [
       "          id                                         post_title  \\\n",
       "1778  ubv53k                           test**jjdjdjsjsjsjsjjxjx   \n",
       "1590  uj5huk                               tthyyyyyyyyyyyyyyyyy   \n",
       "24    uerwkm            i removed clothesssssssssssssssssssssss   \n",
       "9592  u78b5l                          Chromatography resources?   \n",
       "3694  ujmb50           is PhD annnnnnnnnnnnnnnnnnnnnnnnnnn std?   \n",
       "...      ...                                                ...   \n",
       "1394  ufdjli  What reaction products are formed when potassi...   \n",
       "2282  ujvkb4  56-year old woman who recently had a respirato...   \n",
       "3082  ujgz0r  is it possible to get biological implants to s...   \n",
       "280   ujpavq  The universe is expanding at an accelerating r...   \n",
       "3515  u9bufr  Would it be actually scientifically possible f...   \n",
       "\n",
       "     subreddit_name  title_length  title_word_count  ave_word_length  \n",
       "1778     askscience            24                 1        24.000000  \n",
       "1590     askscience            20                 1        20.000000  \n",
       "24       askscience            39                 3        18.000000  \n",
       "9592     askscience            25                 2        12.000000  \n",
       "3694     askscience            40                 4        11.666667  \n",
       "...             ...           ...               ...              ...  \n",
       "1394     askscience           113                17         7.083333  \n",
       "2282     askscience           130                21         7.083333  \n",
       "3082     askscience           146                24         7.083333  \n",
       "280      askscience           121                19         7.083333  \n",
       "3515     askscience           130                23         7.083333  \n",
       "\n",
       "[792 rows x 6 columns]"
      ]
     },
     "execution_count": 47,
     "metadata": {},
     "output_type": "execute_result"
    }
   ],
   "source": [
    "# askscience high bound ouliers\n",
    "sub_science[sub_science['ave_word_length'] > 7.08].sort_values('ave_word_length', ascending=False)"
   ]
  },
  {
   "cell_type": "code",
   "execution_count": 48,
   "id": "52525308",
   "metadata": {
    "scrolled": true
   },
   "outputs": [
    {
     "data": {
      "text/html": [
       "<div>\n",
       "<style scoped>\n",
       "    .dataframe tbody tr th:only-of-type {\n",
       "        vertical-align: middle;\n",
       "    }\n",
       "\n",
       "    .dataframe tbody tr th {\n",
       "        vertical-align: top;\n",
       "    }\n",
       "\n",
       "    .dataframe thead th {\n",
       "        text-align: right;\n",
       "    }\n",
       "</style>\n",
       "<table border=\"1\" class=\"dataframe\">\n",
       "  <thead>\n",
       "    <tr style=\"text-align: right;\">\n",
       "      <th></th>\n",
       "      <th>id</th>\n",
       "      <th>post_title</th>\n",
       "      <th>subreddit_name</th>\n",
       "      <th>title_length</th>\n",
       "      <th>title_word_count</th>\n",
       "      <th>ave_word_length</th>\n",
       "    </tr>\n",
       "  </thead>\n",
       "  <tbody>\n",
       "    <tr>\n",
       "      <th>4725</th>\n",
       "      <td>u863mw</td>\n",
       "      <td>Great offer for C r y pt o M i n e r s</td>\n",
       "      <td>askscience</td>\n",
       "      <td>38</td>\n",
       "      <td>14</td>\n",
       "      <td>2.0</td>\n",
       "    </tr>\n",
       "  </tbody>\n",
       "</table>\n",
       "</div>"
      ],
      "text/plain": [
       "          id                              post_title subreddit_name  \\\n",
       "4725  u863mw  Great offer for C r y pt o M i n e r s     askscience   \n",
       "\n",
       "      title_length  title_word_count  ave_word_length  \n",
       "4725            38                14              2.0  "
      ]
     },
     "execution_count": 48,
     "metadata": {},
     "output_type": "execute_result"
    }
   ],
   "source": [
    "# askscience low bound outliers\n",
    "sub_science[sub_science['ave_word_length'] < 2.5].sort_values('ave_word_length')"
   ]
  },
  {
   "cell_type": "markdown",
   "id": "aafd21d7",
   "metadata": {},
   "source": [
    "Many extreme upper outliers marked in the ave_word_length are due to typos that include un-readable characters. Shittyaskscience subreddit also has few more lower outliers that by itself does not point to any readable questions. "
   ]
  },
  {
   "cell_type": "markdown",
   "id": "3e732fb2",
   "metadata": {},
   "source": [
    "#### Number of numerical texts"
   ]
  },
  {
   "cell_type": "markdown",
   "id": "f8d67e7f",
   "metadata": {},
   "source": [
    "I also decided to look at the number of numerical values within the text. Since science tend to involve numbers, I hypothesized that posts in askscience subreddit might generally have high numeric texts. "
   ]
  },
  {
   "cell_type": "code",
   "execution_count": 49,
   "id": "df653784",
   "metadata": {},
   "outputs": [],
   "source": [
    "# Numeric values\n",
    "\n",
    "def n_numeric(string):\n",
    "    numeric = re.findall('\\d+', string)\n",
    "    return len(numeric)"
   ]
  },
  {
   "cell_type": "code",
   "execution_count": 50,
   "id": "80d481ab",
   "metadata": {},
   "outputs": [],
   "source": [
    "df['n_numeric'] = df['post_title'].map(lambda x: n_numeric(x))"
   ]
  },
  {
   "cell_type": "code",
   "execution_count": 51,
   "id": "f9809f4e",
   "metadata": {
    "scrolled": false
   },
   "outputs": [
    {
     "data": {
      "image/png": "[encoded data removed]",
      "text/plain": [
       "<Figure size 720x360 with 2 Axes>"
      ]
     },
     "metadata": {
      "needs_background": "light"
     },
     "output_type": "display_data"
    }
   ],
   "source": [
    "sns.displot(df, \n",
    "            x = 'n_numeric',\n",
    "            col = 'subreddit_name',\n",
    "            binwidth = 1\n",
    "           );"
   ]
  },
  {
   "cell_type": "code",
   "execution_count": 52,
   "id": "4c24f862",
   "metadata": {},
   "outputs": [
    {
     "data": {
      "text/html": [
       "<div>\n",
       "<style scoped>\n",
       "    .dataframe tbody tr th:only-of-type {\n",
       "        vertical-align: middle;\n",
       "    }\n",
       "\n",
       "    .dataframe tbody tr th {\n",
       "        vertical-align: top;\n",
       "    }\n",
       "\n",
       "    .dataframe thead th {\n",
       "        text-align: right;\n",
       "    }\n",
       "</style>\n",
       "<table border=\"1\" class=\"dataframe\">\n",
       "  <thead>\n",
       "    <tr style=\"text-align: right;\">\n",
       "      <th></th>\n",
       "      <th>n_numeric</th>\n",
       "    </tr>\n",
       "    <tr>\n",
       "      <th>subreddit_name</th>\n",
       "      <th></th>\n",
       "    </tr>\n",
       "  </thead>\n",
       "  <tbody>\n",
       "    <tr>\n",
       "      <th>askscience</th>\n",
       "      <td>0.128341</td>\n",
       "    </tr>\n",
       "    <tr>\n",
       "      <th>shittyaskscience</th>\n",
       "      <td>0.160693</td>\n",
       "    </tr>\n",
       "  </tbody>\n",
       "</table>\n",
       "</div>"
      ],
      "text/plain": [
       "                  n_numeric\n",
       "subreddit_name             \n",
       "askscience         0.128341\n",
       "shittyaskscience   0.160693"
      ]
     },
     "execution_count": 52,
     "metadata": {},
     "output_type": "execute_result"
    }
   ],
   "source": [
    "df.groupby('subreddit_name').mean()[['n_numeric']]"
   ]
  },
  {
   "cell_type": "code",
   "execution_count": 53,
   "id": "7c46f9cf",
   "metadata": {
    "scrolled": true
   },
   "outputs": [
    {
     "data": {
      "text/html": [
       "<div>\n",
       "<style scoped>\n",
       "    .dataframe tbody tr th:only-of-type {\n",
       "        vertical-align: middle;\n",
       "    }\n",
       "\n",
       "    .dataframe tbody tr th {\n",
       "        vertical-align: top;\n",
       "    }\n",
       "\n",
       "    .dataframe thead th {\n",
       "        text-align: right;\n",
       "    }\n",
       "</style>\n",
       "<table border=\"1\" class=\"dataframe\">\n",
       "  <thead>\n",
       "    <tr style=\"text-align: right;\">\n",
       "      <th></th>\n",
       "      <th>id</th>\n",
       "      <th>post_title</th>\n",
       "      <th>subreddit_name</th>\n",
       "      <th>title_length</th>\n",
       "      <th>title_word_count</th>\n",
       "      <th>ave_word_length</th>\n",
       "      <th>n_numeric</th>\n",
       "    </tr>\n",
       "  </thead>\n",
       "  <tbody>\n",
       "    <tr>\n",
       "      <th>7564</th>\n",
       "      <td>rprctd</td>\n",
       "      <td>Legendary retro official IDO participation tim...</td>\n",
       "      <td>shittyaskscience</td>\n",
       "      <td>298</td>\n",
       "      <td>48</td>\n",
       "      <td>5.066667</td>\n",
       "      <td>20</td>\n",
       "    </tr>\n",
       "    <tr>\n",
       "      <th>8191</th>\n",
       "      <td>scfhyk</td>\n",
       "      <td>Synthesis, spectral characterization, intramol...</td>\n",
       "      <td>shittyaskscience</td>\n",
       "      <td>249</td>\n",
       "      <td>15</td>\n",
       "      <td>17.692308</td>\n",
       "      <td>12</td>\n",
       "    </tr>\n",
       "    <tr>\n",
       "      <th>9169</th>\n",
       "      <td>qs90vm</td>\n",
       "      <td>MAÎTRE MARABOUT SENOUKPO : 229 60 06 30 08 ou ...</td>\n",
       "      <td>shittyaskscience</td>\n",
       "      <td>191</td>\n",
       "      <td>40</td>\n",
       "      <td>3.871795</td>\n",
       "      <td>11</td>\n",
       "    </tr>\n",
       "    <tr>\n",
       "      <th>4950</th>\n",
       "      <td>qcligt</td>\n",
       "      <td>How do sloths in captivity live for 265,252,85...</td>\n",
       "      <td>shittyaskscience</td>\n",
       "      <td>86</td>\n",
       "      <td>9</td>\n",
       "      <td>11.833333</td>\n",
       "      <td>11</td>\n",
       "    </tr>\n",
       "    <tr>\n",
       "      <th>2259</th>\n",
       "      <td>ub8tiy</td>\n",
       "      <td>The Observable Universe - Most likely 92,200,0...</td>\n",
       "      <td>shittyaskscience</td>\n",
       "      <td>103</td>\n",
       "      <td>14</td>\n",
       "      <td>6.769231</td>\n",
       "      <td>9</td>\n",
       "    </tr>\n",
       "    <tr>\n",
       "      <th>...</th>\n",
       "      <td>...</td>\n",
       "      <td>...</td>\n",
       "      <td>...</td>\n",
       "      <td>...</td>\n",
       "      <td>...</td>\n",
       "      <td>...</td>\n",
       "      <td>...</td>\n",
       "    </tr>\n",
       "    <tr>\n",
       "      <th>4086</th>\n",
       "      <td>mliqpu</td>\n",
       "      <td>How do 14th century bridge builders air drop a...</td>\n",
       "      <td>shittyaskscience</td>\n",
       "      <td>68</td>\n",
       "      <td>12</td>\n",
       "      <td>5.222222</td>\n",
       "      <td>1</td>\n",
       "    </tr>\n",
       "    <tr>\n",
       "      <th>4059</th>\n",
       "      <td>m6mn3z</td>\n",
       "      <td>Why doesn't the Boeing 737 prey on fish like o...</td>\n",
       "      <td>shittyaskscience</td>\n",
       "      <td>68</td>\n",
       "      <td>14</td>\n",
       "      <td>4.000000</td>\n",
       "      <td>1</td>\n",
       "    </tr>\n",
       "    <tr>\n",
       "      <th>4030</th>\n",
       "      <td>onhpke</td>\n",
       "      <td>Why did the area in between my eyebrows twitch...</td>\n",
       "      <td>shittyaskscience</td>\n",
       "      <td>83</td>\n",
       "      <td>14</td>\n",
       "      <td>6.428571</td>\n",
       "      <td>1</td>\n",
       "    </tr>\n",
       "    <tr>\n",
       "      <th>4025</th>\n",
       "      <td>s5n43a</td>\n",
       "      <td>In 1986, physicist Seth Brundle conducted the ...</td>\n",
       "      <td>shittyaskscience</td>\n",
       "      <td>171</td>\n",
       "      <td>25</td>\n",
       "      <td>7.117647</td>\n",
       "      <td>1</td>\n",
       "    </tr>\n",
       "    <tr>\n",
       "      <th>10151</th>\n",
       "      <td>u9ux6p</td>\n",
       "      <td>At what age so does grow the other 3 udders an...</td>\n",
       "      <td>shittyaskscience</td>\n",
       "      <td>81</td>\n",
       "      <td>16</td>\n",
       "      <td>4.555556</td>\n",
       "      <td>1</td>\n",
       "    </tr>\n",
       "  </tbody>\n",
       "</table>\n",
       "<p>514 rows × 7 columns</p>\n",
       "</div>"
      ],
      "text/plain": [
       "           id                                         post_title  \\\n",
       "7564   rprctd  Legendary retro official IDO participation tim...   \n",
       "8191   scfhyk  Synthesis, spectral characterization, intramol...   \n",
       "9169   qs90vm  MAÎTRE MARABOUT SENOUKPO : 229 60 06 30 08 ou ...   \n",
       "4950   qcligt  How do sloths in captivity live for 265,252,85...   \n",
       "2259   ub8tiy  The Observable Universe - Most likely 92,200,0...   \n",
       "...       ...                                                ...   \n",
       "4086   mliqpu  How do 14th century bridge builders air drop a...   \n",
       "4059   m6mn3z  Why doesn't the Boeing 737 prey on fish like o...   \n",
       "4030   onhpke  Why did the area in between my eyebrows twitch...   \n",
       "4025   s5n43a  In 1986, physicist Seth Brundle conducted the ...   \n",
       "10151  u9ux6p  At what age so does grow the other 3 udders an...   \n",
       "\n",
       "         subreddit_name  title_length  title_word_count  ave_word_length  \\\n",
       "7564   shittyaskscience           298                48         5.066667   \n",
       "8191   shittyaskscience           249                15        17.692308   \n",
       "9169   shittyaskscience           191                40         3.871795   \n",
       "4950   shittyaskscience            86                 9        11.833333   \n",
       "2259   shittyaskscience           103                14         6.769231   \n",
       "...                 ...           ...               ...              ...   \n",
       "4086   shittyaskscience            68                12         5.222222   \n",
       "4059   shittyaskscience            68                14         4.000000   \n",
       "4030   shittyaskscience            83                14         6.428571   \n",
       "4025   shittyaskscience           171                25         7.117647   \n",
       "10151  shittyaskscience            81                16         4.555556   \n",
       "\n",
       "       n_numeric  \n",
       "7564          20  \n",
       "8191          12  \n",
       "9169          11  \n",
       "4950          11  \n",
       "2259           9  \n",
       "...          ...  \n",
       "4086           1  \n",
       "4059           1  \n",
       "4030           1  \n",
       "4025           1  \n",
       "10151          1  \n",
       "\n",
       "[514 rows x 7 columns]"
      ]
     },
     "execution_count": 53,
     "metadata": {},
     "output_type": "execute_result"
    }
   ],
   "source": [
    "df[(df['n_numeric'] > 0) & (df['subreddit_name']=='shittyaskscience')].sort_values('n_numeric', ascending=False)"
   ]
  },
  {
   "cell_type": "code",
   "execution_count": 54,
   "id": "1d5c63e2",
   "metadata": {},
   "outputs": [
    {
     "data": {
      "text/plain": [
       "0.10080407923122181"
      ]
     },
     "execution_count": 54,
     "metadata": {},
     "output_type": "execute_result"
    }
   ],
   "source": [
    "514/shitty.shape[0]"
   ]
  },
  {
   "cell_type": "code",
   "execution_count": 55,
   "id": "82804f0a",
   "metadata": {
    "scrolled": true
   },
   "outputs": [
    {
     "data": {
      "text/html": [
       "<div>\n",
       "<style scoped>\n",
       "    .dataframe tbody tr th:only-of-type {\n",
       "        vertical-align: middle;\n",
       "    }\n",
       "\n",
       "    .dataframe tbody tr th {\n",
       "        vertical-align: top;\n",
       "    }\n",
       "\n",
       "    .dataframe thead th {\n",
       "        text-align: right;\n",
       "    }\n",
       "</style>\n",
       "<table border=\"1\" class=\"dataframe\">\n",
       "  <thead>\n",
       "    <tr style=\"text-align: right;\">\n",
       "      <th></th>\n",
       "      <th>id</th>\n",
       "      <th>post_title</th>\n",
       "      <th>subreddit_name</th>\n",
       "      <th>title_length</th>\n",
       "      <th>title_word_count</th>\n",
       "      <th>ave_word_length</th>\n",
       "      <th>n_numeric</th>\n",
       "    </tr>\n",
       "  </thead>\n",
       "  <tbody>\n",
       "    <tr>\n",
       "      <th>6212</th>\n",
       "      <td>ucrzzc</td>\n",
       "      <td>If the boiling point of water is 100C, 212F, a...</td>\n",
       "      <td>askscience</td>\n",
       "      <td>187</td>\n",
       "      <td>34</td>\n",
       "      <td>6.529412</td>\n",
       "      <td>10</td>\n",
       "    </tr>\n",
       "    <tr>\n",
       "      <th>9000</th>\n",
       "      <td>uiyntf</td>\n",
       "      <td>If the omg particle traveling at %99.999,999,9...</td>\n",
       "      <td>askscience</td>\n",
       "      <td>123</td>\n",
       "      <td>20</td>\n",
       "      <td>7.166667</td>\n",
       "      <td>9</td>\n",
       "    </tr>\n",
       "    <tr>\n",
       "      <th>1389</th>\n",
       "      <td>uby9un</td>\n",
       "      <td>A 10.0 L cylinder containing neon gas with a m...</td>\n",
       "      <td>askscience</td>\n",
       "      <td>292</td>\n",
       "      <td>58</td>\n",
       "      <td>4.945946</td>\n",
       "      <td>8</td>\n",
       "    </tr>\n",
       "    <tr>\n",
       "      <th>6453</th>\n",
       "      <td>u7gioz</td>\n",
       "      <td>I am taking Ciprofloxacin(antibiotic) twice a ...</td>\n",
       "      <td>askscience</td>\n",
       "      <td>268</td>\n",
       "      <td>52</td>\n",
       "      <td>5.085714</td>\n",
       "      <td>8</td>\n",
       "    </tr>\n",
       "    <tr>\n",
       "      <th>8360</th>\n",
       "      <td>und8t6</td>\n",
       "      <td>Is there any explanation for the doorway like ...</td>\n",
       "      <td>askscience</td>\n",
       "      <td>129</td>\n",
       "      <td>22</td>\n",
       "      <td>5.800000</td>\n",
       "      <td>7</td>\n",
       "    </tr>\n",
       "    <tr>\n",
       "      <th>...</th>\n",
       "      <td>...</td>\n",
       "      <td>...</td>\n",
       "      <td>...</td>\n",
       "      <td>...</td>\n",
       "      <td>...</td>\n",
       "      <td>...</td>\n",
       "      <td>...</td>\n",
       "    </tr>\n",
       "    <tr>\n",
       "      <th>3703</th>\n",
       "      <td>u9e26i</td>\n",
       "      <td>10 euros for online study</td>\n",
       "      <td>askscience</td>\n",
       "      <td>25</td>\n",
       "      <td>5</td>\n",
       "      <td>4.500000</td>\n",
       "      <td>1</td>\n",
       "    </tr>\n",
       "    <tr>\n",
       "      <th>3697</th>\n",
       "      <td>uezxq4</td>\n",
       "      <td>What's the specific mathematical relationship ...</td>\n",
       "      <td>askscience</td>\n",
       "      <td>87</td>\n",
       "      <td>11</td>\n",
       "      <td>8.000000</td>\n",
       "      <td>1</td>\n",
       "    </tr>\n",
       "    <tr>\n",
       "      <th>3629</th>\n",
       "      <td>uewz2i</td>\n",
       "      <td>In summer, you don't burn after 4PM. But what ...</td>\n",
       "      <td>askscience</td>\n",
       "      <td>85</td>\n",
       "      <td>17</td>\n",
       "      <td>4.444444</td>\n",
       "      <td>1</td>\n",
       "    </tr>\n",
       "    <tr>\n",
       "      <th>3503</th>\n",
       "      <td>un06kf</td>\n",
       "      <td>Can I get poisoned if sleep right it front of ...</td>\n",
       "      <td>askscience</td>\n",
       "      <td>103</td>\n",
       "      <td>22</td>\n",
       "      <td>4.615385</td>\n",
       "      <td>1</td>\n",
       "    </tr>\n",
       "    <tr>\n",
       "      <th>10154</th>\n",
       "      <td>ukv0yl</td>\n",
       "      <td>Proof of zero: 3 lines. ?!</td>\n",
       "      <td>askscience</td>\n",
       "      <td>26</td>\n",
       "      <td>6</td>\n",
       "      <td>3.800000</td>\n",
       "      <td>1</td>\n",
       "    </tr>\n",
       "  </tbody>\n",
       "</table>\n",
       "<p>400 rows × 7 columns</p>\n",
       "</div>"
      ],
      "text/plain": [
       "           id                                         post_title  \\\n",
       "6212   ucrzzc  If the boiling point of water is 100C, 212F, a...   \n",
       "9000   uiyntf  If the omg particle traveling at %99.999,999,9...   \n",
       "1389   uby9un  A 10.0 L cylinder containing neon gas with a m...   \n",
       "6453   u7gioz  I am taking Ciprofloxacin(antibiotic) twice a ...   \n",
       "8360   und8t6  Is there any explanation for the doorway like ...   \n",
       "...       ...                                                ...   \n",
       "3703   u9e26i                          10 euros for online study   \n",
       "3697   uezxq4  What's the specific mathematical relationship ...   \n",
       "3629   uewz2i  In summer, you don't burn after 4PM. But what ...   \n",
       "3503   un06kf  Can I get poisoned if sleep right it front of ...   \n",
       "10154  ukv0yl                         Proof of zero: 3 lines. ?!   \n",
       "\n",
       "      subreddit_name  title_length  title_word_count  ave_word_length  \\\n",
       "6212      askscience           187                34         6.529412   \n",
       "9000      askscience           123                20         7.166667   \n",
       "1389      askscience           292                58         4.945946   \n",
       "6453      askscience           268                52         5.085714   \n",
       "8360      askscience           129                22         5.800000   \n",
       "...              ...           ...               ...              ...   \n",
       "3703      askscience            25                 5         4.500000   \n",
       "3697      askscience            87                11         8.000000   \n",
       "3629      askscience            85                17         4.444444   \n",
       "3503      askscience           103                22         4.615385   \n",
       "10154     askscience            26                 6         3.800000   \n",
       "\n",
       "       n_numeric  \n",
       "6212          10  \n",
       "9000           9  \n",
       "1389           8  \n",
       "6453           8  \n",
       "8360           7  \n",
       "...          ...  \n",
       "3703           1  \n",
       "3697           1  \n",
       "3629           1  \n",
       "3503           1  \n",
       "10154          1  \n",
       "\n",
       "[400 rows x 7 columns]"
      ]
     },
     "execution_count": 55,
     "metadata": {},
     "output_type": "execute_result"
    }
   ],
   "source": [
    "df[(df['n_numeric'] > 0) & (df['subreddit_name']=='askscience')].sort_values('n_numeric', ascending=False)"
   ]
  },
  {
   "cell_type": "code",
   "execution_count": 56,
   "id": "f84f5b36",
   "metadata": {},
   "outputs": [
    {
     "data": {
      "text/plain": [
       "0.07849293563579278"
      ]
     },
     "execution_count": 56,
     "metadata": {},
     "output_type": "execute_result"
    }
   ],
   "source": [
    "400/science.shape[0]"
   ]
  },
  {
   "cell_type": "markdown",
   "id": "9f73aebe",
   "metadata": {},
   "source": [
    "Hypothesis on numeric feature was completely wrong; Proportionately, more shittyaskscience posts had numeric texts. Some are scored higher on n_numeric because numbers are separated and counted upon thousand and decimal separators, which isn't an accurate representation. Also, some usage of the numbers are not really mathematical nor scientific. "
   ]
  },
  {
   "cell_type": "markdown",
   "id": "c773443d",
   "metadata": {},
   "source": [
    "#### Word Frequencies"
   ]
  },
  {
   "cell_type": "code",
   "execution_count": 57,
   "id": "ca2d00ba",
   "metadata": {},
   "outputs": [],
   "source": [
    "# Difference in number of stop words?"
   ]
  },
  {
   "cell_type": "code",
   "execution_count": 58,
   "id": "5ba700bd",
   "metadata": {},
   "outputs": [],
   "source": [
    "stop = set(stopwords.words('english'))"
   ]
  },
  {
   "cell_type": "code",
   "execution_count": 59,
   "id": "387e1804",
   "metadata": {},
   "outputs": [],
   "source": [
    "shitty_corpus = [word for i in sub_shitty['post_title'].str.split().tolist() for word in i]\n",
    "science_corpus = [word for i in sub_science['post_title'].str.split().tolist() for word in i]"
   ]
  },
  {
   "cell_type": "code",
   "execution_count": 60,
   "id": "634171af",
   "metadata": {},
   "outputs": [],
   "source": [
    "shitty_dic = {}\n",
    "for word in shitty_corpus:\n",
    "    if word in stop:\n",
    "        if word not in shitty_dic.keys():\n",
    "            shitty_dic[word] = 0\n",
    "    \n",
    "        shitty_dic[word]+=1"
   ]
  },
  {
   "cell_type": "code",
   "execution_count": 61,
   "id": "10ca4887",
   "metadata": {},
   "outputs": [],
   "source": [
    "science_dic = {}\n",
    "for word in science_corpus:\n",
    "    if word in stop:\n",
    "        if word not in science_dic.keys():\n",
    "            science_dic[word] = 0\n",
    "    \n",
    "        science_dic[word]+=1"
   ]
  },
  {
   "cell_type": "code",
   "execution_count": 62,
   "id": "a32c3102",
   "metadata": {},
   "outputs": [],
   "source": [
    "shitty_top_stop = pd.DataFrame(shitty_dic, index=['count']).T.sort_values('count', ascending=False).head(10)\n",
    "science_top_stop = pd.DataFrame(science_dic, index=['count']).T.sort_values('count', ascending=False).head(10)"
   ]
  },
  {
   "cell_type": "code",
   "execution_count": 63,
   "id": "94c8a2bc",
   "metadata": {
    "scrolled": true
   },
   "outputs": [
    {
     "data": {
      "image/png": "[encoded data removed]",
      "text/plain": [
       "<Figure size 432x288 with 1 Axes>"
      ]
     },
     "metadata": {
      "needs_background": "light"
     },
     "output_type": "display_data"
    }
   ],
   "source": [
    "sns.barplot(x = shitty_top_stop.index,\n",
    "            y = shitty_top_stop['count']\n",
    "           );"
   ]
  },
  {
   "cell_type": "code",
   "execution_count": 64,
   "id": "87c262c5",
   "metadata": {
    "scrolled": true
   },
   "outputs": [
    {
     "data": {
      "image/png": "[encoded data removed]",
      "text/plain": [
       "<Figure size 432x288 with 1 Axes>"
      ]
     },
     "metadata": {
      "needs_background": "light"
     },
     "output_type": "display_data"
    }
   ],
   "source": [
    "sns.barplot(x = science_top_stop.index,\n",
    "            y = science_top_stop['count']\n",
    "           );"
   ]
  },
  {
   "cell_type": "code",
   "execution_count": 65,
   "id": "ec3e9887",
   "metadata": {},
   "outputs": [
    {
     "data": {
      "text/plain": [
       "{'do', 'this'}"
      ]
     },
     "execution_count": 65,
     "metadata": {},
     "output_type": "execute_result"
    }
   ],
   "source": [
    "set(shitty_top_stop.index) - set(science_top_stop.index)"
   ]
  },
  {
   "cell_type": "code",
   "execution_count": 66,
   "id": "83ac989d",
   "metadata": {},
   "outputs": [
    {
     "data": {
      "text/plain": [
       "{'for', 'that'}"
      ]
     },
     "execution_count": 66,
     "metadata": {},
     "output_type": "execute_result"
    }
   ],
   "source": [
    "set(science_top_stop.index) - set(shitty_top_stop.index)"
   ]
  },
  {
   "cell_type": "markdown",
   "id": "90e1bf5b",
   "metadata": {},
   "source": [
    "There are slight differences in the most frequent stop words; the top 10 stop word list almost completely intersects except for 2 words in each list. frequecy of each words in the text is also slightly different. "
   ]
  },
  {
   "cell_type": "code",
   "execution_count": 67,
   "id": "c74b2270",
   "metadata": {},
   "outputs": [],
   "source": [
    "# Most occurance of words in each subreddit (exclude stop words and lemmatize)\n",
    "# Make use of CountVectorizor "
   ]
  },
  {
   "cell_type": "code",
   "execution_count": 68,
   "id": "408301f9",
   "metadata": {},
   "outputs": [],
   "source": [
    "# Referring to the code from stackoverflow, defining LemmaTokenizer class allows me to incorporate\n",
    "# lemmatizing steop into vectorizers. \n",
    "from nltk import word_tokenize          \n",
    "from nltk.stem import WordNetLemmatizer \n",
    "class LemmaTokenizer(object):\n",
    "    def __init__(self):\n",
    "        self.wnl = WordNetLemmatizer()\n",
    "    def __call__(self, doc):\n",
    "        regex_num_punctuation = '(\\d+)|([^\\w\\s])'\n",
    "        regex_little_words = r'(\\b\\w{1,2}\\b)'\n",
    "        return [self.wnl.lemmatize(t) for t in word_tokenize(doc) if not re.search(regex_num_punctuation, t) and not re.search(regex_little_words, t)]\n"
   ]
  },
  {
   "cell_type": "code",
   "execution_count": 69,
   "id": "c0502334",
   "metadata": {},
   "outputs": [],
   "source": [
    "# site: stackoverflow https://stackoverflow.com/questions/47423854/sklearn-adding-lemmatizer-to-countvectorizer"
   ]
  },
  {
   "cell_type": "code",
   "execution_count": 70,
   "id": "0655a198",
   "metadata": {},
   "outputs": [
    {
     "data": {
      "text/plain": [
       "['i',\n",
       " 'me',\n",
       " 'my',\n",
       " 'myself',\n",
       " 'we',\n",
       " 'our',\n",
       " 'ours',\n",
       " 'ourselves',\n",
       " 'you',\n",
       " \"you're\",\n",
       " \"you've\",\n",
       " \"you'll\",\n",
       " \"you'd\",\n",
       " 'your',\n",
       " 'yours',\n",
       " 'yourself',\n",
       " 'yourselves',\n",
       " 'he',\n",
       " 'him',\n",
       " 'his',\n",
       " 'himself',\n",
       " 'she',\n",
       " \"she's\",\n",
       " 'her',\n",
       " 'hers',\n",
       " 'herself',\n",
       " 'it',\n",
       " \"it's\",\n",
       " 'its',\n",
       " 'itself',\n",
       " 'they',\n",
       " 'them',\n",
       " 'their',\n",
       " 'theirs',\n",
       " 'themselves',\n",
       " 'what',\n",
       " 'which',\n",
       " 'who',\n",
       " 'whom',\n",
       " 'this',\n",
       " 'that',\n",
       " \"that'll\",\n",
       " 'these',\n",
       " 'those',\n",
       " 'am',\n",
       " 'is',\n",
       " 'are',\n",
       " 'was',\n",
       " 'were',\n",
       " 'be',\n",
       " 'been',\n",
       " 'being',\n",
       " 'have',\n",
       " 'has',\n",
       " 'had',\n",
       " 'having',\n",
       " 'do',\n",
       " 'does',\n",
       " 'did',\n",
       " 'doing',\n",
       " 'a',\n",
       " 'an',\n",
       " 'the',\n",
       " 'and',\n",
       " 'but',\n",
       " 'if',\n",
       " 'or',\n",
       " 'because',\n",
       " 'as',\n",
       " 'until',\n",
       " 'while',\n",
       " 'of',\n",
       " 'at',\n",
       " 'by',\n",
       " 'for',\n",
       " 'with',\n",
       " 'about',\n",
       " 'against',\n",
       " 'between',\n",
       " 'into',\n",
       " 'through',\n",
       " 'during',\n",
       " 'before',\n",
       " 'after',\n",
       " 'above',\n",
       " 'below',\n",
       " 'to',\n",
       " 'from',\n",
       " 'up',\n",
       " 'down',\n",
       " 'in',\n",
       " 'out',\n",
       " 'on',\n",
       " 'off',\n",
       " 'over',\n",
       " 'under',\n",
       " 'again',\n",
       " 'further',\n",
       " 'then',\n",
       " 'once',\n",
       " 'here',\n",
       " 'there',\n",
       " 'when',\n",
       " 'where',\n",
       " 'why',\n",
       " 'how',\n",
       " 'all',\n",
       " 'any',\n",
       " 'both',\n",
       " 'each',\n",
       " 'few',\n",
       " 'more',\n",
       " 'most',\n",
       " 'other',\n",
       " 'some',\n",
       " 'such',\n",
       " 'no',\n",
       " 'nor',\n",
       " 'not',\n",
       " 'only',\n",
       " 'own',\n",
       " 'same',\n",
       " 'so',\n",
       " 'than',\n",
       " 'too',\n",
       " 'very',\n",
       " 's',\n",
       " 't',\n",
       " 'can',\n",
       " 'will',\n",
       " 'just',\n",
       " 'don',\n",
       " \"don't\",\n",
       " 'should',\n",
       " \"should've\",\n",
       " 'now',\n",
       " 'd',\n",
       " 'll',\n",
       " 'm',\n",
       " 'o',\n",
       " 're',\n",
       " 've',\n",
       " 'y',\n",
       " 'ain',\n",
       " 'aren',\n",
       " \"aren't\",\n",
       " 'couldn',\n",
       " \"couldn't\",\n",
       " 'didn',\n",
       " \"didn't\",\n",
       " 'doesn',\n",
       " \"doesn't\",\n",
       " 'hadn',\n",
       " \"hadn't\",\n",
       " 'hasn',\n",
       " \"hasn't\",\n",
       " 'haven',\n",
       " \"haven't\",\n",
       " 'isn',\n",
       " \"isn't\",\n",
       " 'ma',\n",
       " 'mightn',\n",
       " \"mightn't\",\n",
       " 'mustn',\n",
       " \"mustn't\",\n",
       " 'needn',\n",
       " \"needn't\",\n",
       " 'shan',\n",
       " \"shan't\",\n",
       " 'shouldn',\n",
       " \"shouldn't\",\n",
       " 'wasn',\n",
       " \"wasn't\",\n",
       " 'weren',\n",
       " \"weren't\",\n",
       " 'won',\n",
       " \"won't\",\n",
       " 'wouldn',\n",
       " \"wouldn't\"]"
      ]
     },
     "execution_count": 70,
     "metadata": {},
     "output_type": "execute_result"
    }
   ],
   "source": [
    "stopwords.words('english')"
   ]
  },
  {
   "cell_type": "code",
   "execution_count": 71,
   "id": "7071cba6",
   "metadata": {},
   "outputs": [],
   "source": [
    "X_shitty = sub_shitty['post_title']\n",
    "X_science = sub_science['post_title']"
   ]
  },
  {
   "cell_type": "code",
   "execution_count": 72,
   "id": "2b57775c",
   "metadata": {},
   "outputs": [],
   "source": [
    "# Have to update stopwords to incorporate altered words from Lemmatizer\n",
    "stop_update = stopwords.words('english') + ['ha', 'le', 'wa', 'could', 'doe', 'might', 'must', 'need', 'sha', 'would']"
   ]
  },
  {
   "cell_type": "code",
   "execution_count": 73,
   "id": "543ae855",
   "metadata": {},
   "outputs": [],
   "source": [
    "cvec_shitty = CountVectorizer(stop_words=stop_update,\n",
    "                              tokenizer=LemmaTokenizer(),\n",
    "                              strip_accents=ascii,\n",
    "                             )\n",
    "\n",
    "X_shitty = cvec_shitty.fit_transform(X_shitty)\n"
   ]
  },
  {
   "cell_type": "code",
   "execution_count": 74,
   "id": "519976d1",
   "metadata": {},
   "outputs": [],
   "source": [
    "X_shitty = pd.DataFrame(X_shitty.todense(),\n",
    "                        columns=cvec_shitty.get_feature_names_out()\n",
    "                       )"
   ]
  },
  {
   "cell_type": "code",
   "execution_count": 75,
   "id": "6b95ee61",
   "metadata": {
    "scrolled": true
   },
   "outputs": [
    {
     "data": {
      "image/png": "[encoded data removed]",
      "text/plain": [
       "<Figure size 432x288 with 1 Axes>"
      ]
     },
     "metadata": {
      "needs_background": "light"
     },
     "output_type": "display_data"
    }
   ],
   "source": [
    "X_shitty.sum().sort_values(ascending=False).head(20).plot(kind='barh')\n",
    "plt.title(\"Word count in ShittyAskScience\")\n",
    "plt.xlabel(\"counts\")\n",
    "plt.ylabel(\"words\");"
   ]
  },
  {
   "cell_type": "code",
   "execution_count": 76,
   "id": "2399c2f1",
   "metadata": {},
   "outputs": [],
   "source": [
    "cvec_science = CountVectorizer(stop_words=stop_update,\n",
    "                               tokenizer=LemmaTokenizer(),\n",
    "                               strip_accents=ascii,\n",
    "                              )\n",
    "\n",
    "X_science = cvec_science.fit_transform(X_science)\n"
   ]
  },
  {
   "cell_type": "code",
   "execution_count": 77,
   "id": "430588fc",
   "metadata": {},
   "outputs": [],
   "source": [
    "X_science = pd.DataFrame(X_science.todense(),\n",
    "                        columns=cvec_science.get_feature_names_out()\n",
    "                       )"
   ]
  },
  {
   "cell_type": "code",
   "execution_count": 78,
   "id": "cd69e8fc",
   "metadata": {
    "scrolled": false
   },
   "outputs": [
    {
     "data": {
      "image/png": "[encoded data removed]",
      "text/plain": [
       "<Figure size 432x288 with 1 Axes>"
      ]
     },
     "metadata": {
      "needs_background": "light"
     },
     "output_type": "display_data"
    }
   ],
   "source": [
    "X_science.sum().sort_values(ascending=False).head(20).plot(kind='barh')\n",
    "plt.title(\"Word count in AskScience\")\n",
    "plt.xlabel(\"counts\")\n",
    "plt.ylabel(\"words\");"
   ]
  },
  {
   "cell_type": "code",
   "execution_count": 79,
   "id": "b9fee494",
   "metadata": {},
   "outputs": [
    {
     "name": "stdout",
     "output_type": "stream",
     "text": [
      "{'brain', 'light', 'animal', 'different', 'body', 'space', 'possible', 'cause', 'way'}\n"
     ]
    }
   ],
   "source": [
    "# top 20 askscience words not in shittyaskscience\n",
    "print(set(X_science.sum().sort_values(ascending=False).head(20).index) - set(X_shitty.sum().sort_values(ascending=False).head(20).index))"
   ]
  },
  {
   "cell_type": "code",
   "execution_count": 80,
   "id": "7efb89bc",
   "metadata": {
    "scrolled": true
   },
   "outputs": [
    {
     "name": "stdout",
     "output_type": "stream",
     "text": [
      "{'take', 'many', 'cat', 'work', 'year', 'long', 'use', 'come', 'someone'}\n"
     ]
    }
   ],
   "source": [
    "# top 20 shittyaskscience words not in askscience\n",
    "print(set(X_shitty.sum().sort_values(ascending=False).head(20).index) - set(X_science.sum().sort_values(ascending=False).head(20).index))"
   ]
  },
  {
   "cell_type": "code",
   "execution_count": 81,
   "id": "4beb40c2",
   "metadata": {},
   "outputs": [
    {
     "data": {
      "text/plain": [
       "{'earth',\n",
       " 'get',\n",
       " 'human',\n",
       " 'know',\n",
       " 'like',\n",
       " 'make',\n",
       " 'much',\n",
       " 'one',\n",
       " 'people',\n",
       " 'time',\n",
       " 'water'}"
      ]
     },
     "execution_count": 81,
     "metadata": {},
     "output_type": "execute_result"
    }
   ],
   "source": [
    "# intersection\n",
    "set(X_shitty.sum().sort_values(ascending=False).head(20).index).intersection(set(X_science.sum().sort_values(ascending=False).head(20).index))"
   ]
  },
  {
   "cell_type": "code",
   "execution_count": 82,
   "id": "19fdac17",
   "metadata": {},
   "outputs": [],
   "source": [
    "# N-Gram analysis by subreddit\n",
    "# continue using CountVectorizer"
   ]
  },
  {
   "cell_type": "code",
   "execution_count": 83,
   "id": "910508d9",
   "metadata": {},
   "outputs": [],
   "source": [
    "def get_top_ngram(text_col, n):\n",
    "    vec = CountVectorizer(ngram_range=(n, n)).fit(text_col)\n",
    "    bag_of_words = vec.transform(text_col)\n",
    "    sum_words = bag_of_words.sum(axis=0) \n",
    "    words_freq = [(word, sum_words[0, index]) for word, index in vec.vocabulary_.items()]\n",
    "    words_freq =sorted(words_freq, key = lambda x: x[1], reverse=True)\n",
    "    return words_freq[:20]"
   ]
  },
  {
   "cell_type": "code",
   "execution_count": 84,
   "id": "c4f8e894",
   "metadata": {
    "scrolled": false
   },
   "outputs": [
    {
     "data": {
      "text/plain": [
       "[('is this', 266),\n",
       " ('how do', 259),\n",
       " ('in the', 234),\n",
       " ('is it', 204),\n",
       " ('is the', 196),\n",
       " ('why do', 167),\n",
       " ('of the', 166),\n",
       " ('what is', 161),\n",
       " ('how does', 149),\n",
       " ('why is', 145),\n",
       " ('how did', 136),\n",
       " ('how can', 115),\n",
       " ('why does', 113),\n",
       " ('does the', 109),\n",
       " ('how many', 105),\n",
       " ('does this', 96),\n",
       " ('why are', 87),\n",
       " ('to the', 87),\n",
       " ('do they', 86),\n",
       " ('if you', 83)]"
      ]
     },
     "execution_count": 84,
     "metadata": {},
     "output_type": "execute_result"
    }
   ],
   "source": [
    "shitty_bigram = get_top_ngram(sub_shitty['post_title'], 2)\n",
    "shitty_bigram"
   ]
  },
  {
   "cell_type": "code",
   "execution_count": 85,
   "id": "f22bd02d",
   "metadata": {},
   "outputs": [],
   "source": [
    "shitty_bigram_x = [b[0] for b in shitty_bigram]\n",
    "shitty_bigram_y = [b[1] for b in shitty_bigram]"
   ]
  },
  {
   "cell_type": "code",
   "execution_count": 86,
   "id": "f7823d4b",
   "metadata": {
    "scrolled": true
   },
   "outputs": [
    {
     "data": {
      "image/png": "[encoded data removed]",
      "text/plain": [
       "<Figure size 432x288 with 1 Axes>"
      ]
     },
     "metadata": {
      "needs_background": "light"
     },
     "output_type": "display_data"
    }
   ],
   "source": [
    "# plot shittyaskscience bigram frequencies\n",
    "plt.bar(x=shitty_bigram_x, height=shitty_bigram_y)\n",
    "plt.xticks(rotation=45)\n",
    "plt.title('ShittyAskScience bigram frequencies');"
   ]
  },
  {
   "cell_type": "code",
   "execution_count": 87,
   "id": "9048ea2a",
   "metadata": {
    "scrolled": true
   },
   "outputs": [
    {
     "data": {
      "text/plain": [
       "[('in the', 294),\n",
       " ('is the', 262),\n",
       " ('is it', 246),\n",
       " ('of the', 243),\n",
       " ('what is', 206),\n",
       " ('is there', 201),\n",
       " ('why do', 177),\n",
       " ('to the', 158),\n",
       " ('how do', 146),\n",
       " ('what would', 135),\n",
       " ('why does', 133),\n",
       " ('does the', 126),\n",
       " ('why is', 121),\n",
       " ('the same', 121),\n",
       " ('there any', 116),\n",
       " ('how does', 111),\n",
       " ('to be', 110),\n",
       " ('what are', 110),\n",
       " ('if you', 108),\n",
       " ('it possible', 108)]"
      ]
     },
     "execution_count": 87,
     "metadata": {},
     "output_type": "execute_result"
    }
   ],
   "source": [
    "science_bigram = get_top_ngram(sub_science['post_title'], 2)\n",
    "science_bigram"
   ]
  },
  {
   "cell_type": "code",
   "execution_count": 88,
   "id": "b4653f22",
   "metadata": {},
   "outputs": [],
   "source": [
    "# Plot bigram frequencies\n",
    "science_bigram_x = [b[0] for b in science_bigram]\n",
    "science_bigram_y = [b[1] for b in science_bigram]"
   ]
  },
  {
   "cell_type": "code",
   "execution_count": 89,
   "id": "ff8ec75e",
   "metadata": {
    "scrolled": true
   },
   "outputs": [
    {
     "data": {
      "image/png": "[encoded data removed]",
      "text/plain": [
       "<Figure size 432x288 with 1 Axes>"
      ]
     },
     "metadata": {
      "needs_background": "light"
     },
     "output_type": "display_data"
    }
   ],
   "source": [
    "plt.bar(x=science_bigram_x, height=science_bigram_y)\n",
    "plt.xticks(rotation=45)\n",
    "plt.title('AskScience bigram frequencies');"
   ]
  },
  {
   "cell_type": "code",
   "execution_count": 90,
   "id": "58c4a804",
   "metadata": {
    "scrolled": true
   },
   "outputs": [
    {
     "data": {
      "text/plain": [
       "{'do they',\n",
       " 'does this',\n",
       " 'how can',\n",
       " 'how did',\n",
       " 'how many',\n",
       " 'is this',\n",
       " 'why are'}"
      ]
     },
     "execution_count": 90,
     "metadata": {},
     "output_type": "execute_result"
    }
   ],
   "source": [
    "# Bigrams more frequent in shittyaskscience\n",
    "set(shitty_bigram_x)-set(science_bigram_x)"
   ]
  },
  {
   "cell_type": "code",
   "execution_count": 91,
   "id": "0cf6cc1f",
   "metadata": {
    "scrolled": true
   },
   "outputs": [
    {
     "data": {
      "text/plain": [
       "{'is there',\n",
       " 'it possible',\n",
       " 'the same',\n",
       " 'there any',\n",
       " 'to be',\n",
       " 'what are',\n",
       " 'what would'}"
      ]
     },
     "execution_count": 91,
     "metadata": {},
     "output_type": "execute_result"
    }
   ],
   "source": [
    "# Bigrams more frequent in askscience\n",
    "set(science_bigram_x)-set(shitty_bigram_x)"
   ]
  },
  {
   "cell_type": "code",
   "execution_count": 92,
   "id": "7b4d5a87",
   "metadata": {
    "scrolled": true
   },
   "outputs": [
    {
     "data": {
      "text/plain": [
       "{'does the',\n",
       " 'how do',\n",
       " 'how does',\n",
       " 'if you',\n",
       " 'in the',\n",
       " 'is it',\n",
       " 'is the',\n",
       " 'of the',\n",
       " 'to the',\n",
       " 'what is',\n",
       " 'why do',\n",
       " 'why does',\n",
       " 'why is'}"
      ]
     },
     "execution_count": 92,
     "metadata": {},
     "output_type": "execute_result"
    }
   ],
   "source": [
    "# Bigrams frequent in both subreddits\n",
    "set(science_bigram_x).intersection(set(shitty_bigram_x))"
   ]
  },
  {
   "cell_type": "markdown",
   "id": "ee7871aa",
   "metadata": {},
   "source": [
    "#### Sentiment Analysis"
   ]
  },
  {
   "cell_type": "markdown",
   "id": "0fe5e9ce",
   "metadata": {},
   "source": [
    "I tried to examine sentiment score for each of the subreddits. My hypothesis was that since scientific texts usually tend to use neutral set of words, the neutral score would be higher in askscience texts. "
   ]
  },
  {
   "cell_type": "code",
   "execution_count": 93,
   "id": "2c311204",
   "metadata": {},
   "outputs": [],
   "source": [
    "# Sentiment score -> legit science post more neutral?\n",
    "from nltk.sentiment.vader import SentimentIntensityAnalyzer"
   ]
  },
  {
   "cell_type": "code",
   "execution_count": 94,
   "id": "aba1ba3f",
   "metadata": {},
   "outputs": [],
   "source": [
    "sent = SentimentIntensityAnalyzer()"
   ]
  },
  {
   "cell_type": "code",
   "execution_count": 95,
   "id": "aa07d673",
   "metadata": {},
   "outputs": [],
   "source": [
    "# Used Valence Aware Dictionary adn Sentiment Reasoner pre-built\n",
    "# library for sentiment analyisis. \n",
    "def get_vader_score(txt): \n",
    "    word_list = txt.split(' ') # list of words\n",
    "    alnum_ls = [] # will collect only the alphanumerics\n",
    "    \n",
    "    for word in word_list:\n",
    "        if word.isalnum():\n",
    "            alnum_ls.append(word)\n",
    "        else:\n",
    "            for c in word:\n",
    "                if not c.isalnum():\n",
    "                    word = word.replace(c, ' ') # if word separated by punctuation, not a space, replace with space\n",
    "            alnum_ls.append(word)    \n",
    "                \n",
    "    txt_alnum = ' '.join(alnum_ls)\n",
    "    \n",
    "    ss = sent.polarity_scores(txt_alnum)\n",
    "    \n",
    "    return ss"
   ]
  },
  {
   "cell_type": "code",
   "execution_count": 96,
   "id": "0b5b15c1",
   "metadata": {},
   "outputs": [],
   "source": [
    "df['neg_score'] = df['post_title'].map(lambda x: get_vader_score(x)['neg'])\n",
    "df['neu_score'] = df['post_title'].map(lambda x: get_vader_score(x)['neu'])\n",
    "df['pos_score'] = df['post_title'].map(lambda x: get_vader_score(x)['pos'])"
   ]
  },
  {
   "cell_type": "code",
   "execution_count": 97,
   "id": "8ff07d35",
   "metadata": {},
   "outputs": [
    {
     "data": {
      "text/html": [
       "<div>\n",
       "<style scoped>\n",
       "    .dataframe tbody tr th:only-of-type {\n",
       "        vertical-align: middle;\n",
       "    }\n",
       "\n",
       "    .dataframe tbody tr th {\n",
       "        vertical-align: top;\n",
       "    }\n",
       "\n",
       "    .dataframe thead th {\n",
       "        text-align: right;\n",
       "    }\n",
       "</style>\n",
       "<table border=\"1\" class=\"dataframe\">\n",
       "  <thead>\n",
       "    <tr style=\"text-align: right;\">\n",
       "      <th></th>\n",
       "      <th>id</th>\n",
       "      <th>post_title</th>\n",
       "      <th>subreddit_name</th>\n",
       "      <th>title_length</th>\n",
       "      <th>title_word_count</th>\n",
       "      <th>ave_word_length</th>\n",
       "      <th>n_numeric</th>\n",
       "      <th>neg_score</th>\n",
       "      <th>neu_score</th>\n",
       "      <th>pos_score</th>\n",
       "    </tr>\n",
       "  </thead>\n",
       "  <tbody>\n",
       "    <tr>\n",
       "      <th>0</th>\n",
       "      <td>rhy7jl</td>\n",
       "      <td>I got an odd question</td>\n",
       "      <td>shittyaskscience</td>\n",
       "      <td>21</td>\n",
       "      <td>5</td>\n",
       "      <td>3.750000</td>\n",
       "      <td>0</td>\n",
       "      <td>0.434</td>\n",
       "      <td>0.566</td>\n",
       "      <td>0.000</td>\n",
       "    </tr>\n",
       "    <tr>\n",
       "      <th>1</th>\n",
       "      <td>uavrmz</td>\n",
       "      <td>What is that\"punching\" feeling when getting a ...</td>\n",
       "      <td>askscience</td>\n",
       "      <td>56</td>\n",
       "      <td>8</td>\n",
       "      <td>8.400000</td>\n",
       "      <td>0</td>\n",
       "      <td>0.000</td>\n",
       "      <td>0.824</td>\n",
       "      <td>0.176</td>\n",
       "    </tr>\n",
       "    <tr>\n",
       "      <th>2</th>\n",
       "      <td>ulnpgm</td>\n",
       "      <td>Since earwigs got their name because they craw...</td>\n",
       "      <td>shittyaskscience</td>\n",
       "      <td>112</td>\n",
       "      <td>20</td>\n",
       "      <td>4.833333</td>\n",
       "      <td>0</td>\n",
       "      <td>0.000</td>\n",
       "      <td>1.000</td>\n",
       "      <td>0.000</td>\n",
       "    </tr>\n",
       "    <tr>\n",
       "      <th>3</th>\n",
       "      <td>rrhu9y</td>\n",
       "      <td>I've heard no mention of any Pulitzer nominati...</td>\n",
       "      <td>shittyaskscience</td>\n",
       "      <td>176</td>\n",
       "      <td>32</td>\n",
       "      <td>5.700000</td>\n",
       "      <td>1</td>\n",
       "      <td>0.067</td>\n",
       "      <td>0.879</td>\n",
       "      <td>0.055</td>\n",
       "    </tr>\n",
       "    <tr>\n",
       "      <th>4</th>\n",
       "      <td>mkmqg7</td>\n",
       "      <td>If I’m standing on the moon, how hard do I hav...</td>\n",
       "      <td>shittyaskscience</td>\n",
       "      <td>136</td>\n",
       "      <td>31</td>\n",
       "      <td>4.333333</td>\n",
       "      <td>0</td>\n",
       "      <td>0.048</td>\n",
       "      <td>0.952</td>\n",
       "      <td>0.000</td>\n",
       "    </tr>\n",
       "  </tbody>\n",
       "</table>\n",
       "</div>"
      ],
      "text/plain": [
       "       id                                         post_title  \\\n",
       "0  rhy7jl                              I got an odd question   \n",
       "1  uavrmz  What is that\"punching\" feeling when getting a ...   \n",
       "2  ulnpgm  Since earwigs got their name because they craw...   \n",
       "3  rrhu9y  I've heard no mention of any Pulitzer nominati...   \n",
       "4  mkmqg7  If I’m standing on the moon, how hard do I hav...   \n",
       "\n",
       "     subreddit_name  title_length  title_word_count  ave_word_length  \\\n",
       "0  shittyaskscience            21                 5         3.750000   \n",
       "1        askscience            56                 8         8.400000   \n",
       "2  shittyaskscience           112                20         4.833333   \n",
       "3  shittyaskscience           176                32         5.700000   \n",
       "4  shittyaskscience           136                31         4.333333   \n",
       "\n",
       "   n_numeric  neg_score  neu_score  pos_score  \n",
       "0          0      0.434      0.566      0.000  \n",
       "1          0      0.000      0.824      0.176  \n",
       "2          0      0.000      1.000      0.000  \n",
       "3          1      0.067      0.879      0.055  \n",
       "4          0      0.048      0.952      0.000  "
      ]
     },
     "execution_count": 97,
     "metadata": {},
     "output_type": "execute_result"
    }
   ],
   "source": [
    "df.head()"
   ]
  },
  {
   "cell_type": "code",
   "execution_count": 98,
   "id": "d36d8fed",
   "metadata": {},
   "outputs": [
    {
     "data": {
      "image/png": "[encoded data removed]",
      "text/plain": [
       "<Figure size 720x360 with 2 Axes>"
      ]
     },
     "metadata": {
      "needs_background": "light"
     },
     "output_type": "display_data"
    }
   ],
   "source": [
    "# Negative Score distribution of each subreddit\n",
    "sns.displot(df, \n",
    "            x = 'neg_score',\n",
    "            col = 'subreddit_name',\n",
    "            binwidth = 0.05\n",
    "           );"
   ]
  },
  {
   "cell_type": "code",
   "execution_count": 99,
   "id": "b68364f2",
   "metadata": {},
   "outputs": [
    {
     "data": {
      "image/png": "[encoded data removed]",
      "text/plain": [
       "<Figure size 720x360 with 2 Axes>"
      ]
     },
     "metadata": {
      "needs_background": "light"
     },
     "output_type": "display_data"
    }
   ],
   "source": [
    "# Neutral score distribution for each subreddit\n",
    "sns.displot(df, \n",
    "            x = 'neu_score',\n",
    "            col = 'subreddit_name',\n",
    "            binwidth = 0.05\n",
    "           );"
   ]
  },
  {
   "cell_type": "code",
   "execution_count": 100,
   "id": "b40bd070",
   "metadata": {},
   "outputs": [
    {
     "data": {
      "image/png": "[encoded data removed]",
      "text/plain": [
       "<Figure size 720x360 with 2 Axes>"
      ]
     },
     "metadata": {
      "needs_background": "light"
     },
     "output_type": "display_data"
    }
   ],
   "source": [
    "# Positive score distribution for each subreddit\n",
    "sns.displot(df, \n",
    "            x = 'pos_score',\n",
    "            col = 'subreddit_name',\n",
    "            binwidth = 0.05\n",
    "           );"
   ]
  },
  {
   "cell_type": "code",
   "execution_count": 101,
   "id": "c2c018a6",
   "metadata": {
    "scrolled": false
   },
   "outputs": [
    {
     "data": {
      "text/html": [
       "<div>\n",
       "<style scoped>\n",
       "    .dataframe tbody tr th:only-of-type {\n",
       "        vertical-align: middle;\n",
       "    }\n",
       "\n",
       "    .dataframe tbody tr th {\n",
       "        vertical-align: top;\n",
       "    }\n",
       "\n",
       "    .dataframe thead th {\n",
       "        text-align: right;\n",
       "    }\n",
       "</style>\n",
       "<table border=\"1\" class=\"dataframe\">\n",
       "  <thead>\n",
       "    <tr style=\"text-align: right;\">\n",
       "      <th></th>\n",
       "      <th>neg_score</th>\n",
       "      <th>neu_score</th>\n",
       "      <th>pos_score</th>\n",
       "    </tr>\n",
       "    <tr>\n",
       "      <th>subreddit_name</th>\n",
       "      <th></th>\n",
       "      <th></th>\n",
       "      <th></th>\n",
       "    </tr>\n",
       "  </thead>\n",
       "  <tbody>\n",
       "    <tr>\n",
       "      <th>askscience</th>\n",
       "      <td>0.054427</td>\n",
       "      <td>0.877307</td>\n",
       "      <td>0.068262</td>\n",
       "    </tr>\n",
       "    <tr>\n",
       "      <th>shittyaskscience</th>\n",
       "      <td>0.055075</td>\n",
       "      <td>0.873501</td>\n",
       "      <td>0.070835</td>\n",
       "    </tr>\n",
       "  </tbody>\n",
       "</table>\n",
       "</div>"
      ],
      "text/plain": [
       "                  neg_score  neu_score  pos_score\n",
       "subreddit_name                                   \n",
       "askscience         0.054427   0.877307   0.068262\n",
       "shittyaskscience   0.055075   0.873501   0.070835"
      ]
     },
     "execution_count": 101,
     "metadata": {},
     "output_type": "execute_result"
    }
   ],
   "source": [
    "# Compare the means\n",
    "df.groupby(['subreddit_name']).mean()[['neg_score', 'neu_score', 'pos_score']]"
   ]
  },
  {
   "cell_type": "markdown",
   "id": "891645dd",
   "metadata": {},
   "source": [
    "My hypothesis did not quite prove to be true in this analysis; the sentiment scores between the two subreddits were similar. "
   ]
  },
  {
   "cell_type": "markdown",
   "id": "c0a7b437",
   "metadata": {},
   "source": [
    "#### Text Complexity"
   ]
  },
  {
   "cell_type": "markdown",
   "id": "4f5b040e",
   "metadata": {},
   "source": [
    "I also conducted complexity scoring; I expected the \"askscience\" subreddit would be more complex, as scientific terms tend to be complicated. I particularly used Flesch Reading Ease(FRE) scoring method, which incorporates total number of words, sentences, and syllables. Higher scores indicate material that is easier to read. "
   ]
  },
  {
   "cell_type": "code",
   "execution_count": 102,
   "id": "2091acca",
   "metadata": {},
   "outputs": [],
   "source": [
    "# Complexity: will use flesch_reading_ease, which scores complexity \n",
    "# based on \n",
    "from textstat import flesch_reading_ease"
   ]
  },
  {
   "cell_type": "code",
   "execution_count": 103,
   "id": "5fc4ea11",
   "metadata": {},
   "outputs": [],
   "source": [
    "df['complexity'] = df['post_title'].apply(lambda x: flesch_reading_ease(x))"
   ]
  },
  {
   "cell_type": "code",
   "execution_count": 104,
   "id": "790001a3",
   "metadata": {
    "scrolled": true
   },
   "outputs": [
    {
     "data": {
      "image/png": "[encoded data removed]",
      "text/plain": [
       "<Figure size 720x360 with 2 Axes>"
      ]
     },
     "metadata": {
      "needs_background": "light"
     },
     "output_type": "display_data"
    }
   ],
   "source": [
    "sns.displot(df, \n",
    "            x = 'complexity',\n",
    "            col = 'subreddit_name',\n",
    "            binwidth = 10\n",
    "           );"
   ]
  },
  {
   "cell_type": "code",
   "execution_count": 105,
   "id": "144a57a2",
   "metadata": {
    "scrolled": true
   },
   "outputs": [
    {
     "data": {
      "text/html": [
       "<div>\n",
       "<style scoped>\n",
       "    .dataframe tbody tr th:only-of-type {\n",
       "        vertical-align: middle;\n",
       "    }\n",
       "\n",
       "    .dataframe tbody tr th {\n",
       "        vertical-align: top;\n",
       "    }\n",
       "\n",
       "    .dataframe thead th {\n",
       "        text-align: right;\n",
       "    }\n",
       "</style>\n",
       "<table border=\"1\" class=\"dataframe\">\n",
       "  <thead>\n",
       "    <tr style=\"text-align: right;\">\n",
       "      <th></th>\n",
       "      <th>complexity</th>\n",
       "    </tr>\n",
       "    <tr>\n",
       "      <th>subreddit_name</th>\n",
       "      <th></th>\n",
       "    </tr>\n",
       "  </thead>\n",
       "  <tbody>\n",
       "    <tr>\n",
       "      <th>askscience</th>\n",
       "      <td>66.081865</td>\n",
       "    </tr>\n",
       "    <tr>\n",
       "      <th>shittyaskscience</th>\n",
       "      <td>78.996790</td>\n",
       "    </tr>\n",
       "  </tbody>\n",
       "</table>\n",
       "</div>"
      ],
      "text/plain": [
       "                  complexity\n",
       "subreddit_name              \n",
       "askscience         66.081865\n",
       "shittyaskscience   78.996790"
      ]
     },
     "execution_count": 105,
     "metadata": {},
     "output_type": "execute_result"
    }
   ],
   "source": [
    "df.groupby(['subreddit_name']).mean()[['complexity']]"
   ]
  },
  {
   "cell_type": "markdown",
   "id": "9994a43c",
   "metadata": {},
   "source": [
    "As hypothesized, \"askscience\" subreddit scored lower on FRE, which indicates higher complexity. "
   ]
  },
  {
   "cell_type": "markdown",
   "id": "38f7c9b6",
   "metadata": {},
   "source": [
    "#### Topics"
   ]
  },
  {
   "cell_type": "markdown",
   "id": "b4256894",
   "metadata": {},
   "source": [
    "I conducted topic modeling to investigate whether there were differences in topics that each subreddits disdussed. "
   ]
  },
  {
   "cell_type": "code",
   "execution_count": 106,
   "id": "0dd406b8",
   "metadata": {},
   "outputs": [],
   "source": [
    "# initialize tf-idf in order to create bag-of-words\n",
    "shitty_df = sub_shitty['post_title']\n",
    "science_df = sub_science['post_title']\n",
    "\n",
    "shitty_tvec = TfidfVectorizer(stop_words=stop_update,\n",
    "                              tokenizer=LemmaTokenizer(),\n",
    "                              strip_accents=ascii,\n",
    "                              )\n",
    "science_tvec = TfidfVectorizer(stop_words=stop_update,\n",
    "                              tokenizer=LemmaTokenizer(),\n",
    "                              strip_accents=ascii,\n",
    "                              )\n",
    "\n",
    "\n",
    "shitty_tfidf = shitty_tvec.fit_transform(shitty_df)\n",
    "science_tfidf = science_tvec.fit_transform(science_df)"
   ]
  },
  {
   "cell_type": "code",
   "execution_count": 107,
   "id": "ad350953",
   "metadata": {},
   "outputs": [],
   "source": [
    "# Features in each bag of words\n",
    "shitty_features = shitty_tvec.get_feature_names_out()\n",
    "science_features = science_tvec.get_feature_names_out()"
   ]
  },
  {
   "cell_type": "code",
   "execution_count": 108,
   "id": "569f3e63",
   "metadata": {},
   "outputs": [],
   "source": [
    "from sklearn.decomposition import NMF"
   ]
  },
  {
   "cell_type": "code",
   "execution_count": 109,
   "id": "3e990ddc",
   "metadata": {
    "scrolled": false
   },
   "outputs": [
    {
     "name": "stderr",
     "output_type": "stream",
     "text": [
      "/Users/rhoeunpark/opt/anaconda3/envs/dsi/lib/python3.8/site-packages/sklearn/decomposition/_nmf.py:1422: FutureWarning: `alpha` was deprecated in version 1.0 and will be removed in 1.2. Use `alpha_W` and `alpha_H` instead\n",
      "  warnings.warn(\n",
      "/Users/rhoeunpark/opt/anaconda3/envs/dsi/lib/python3.8/site-packages/sklearn/decomposition/_nmf.py:289: FutureWarning: The 'init' value, when 'init=None' and n_components is less than n_samples and n_features, will be changed from 'nndsvd' to 'nndsvda' in 1.1 (renaming of 0.26).\n",
      "  warnings.warn(\n"
     ]
    }
   ],
   "source": [
    "nmf_shitty = NMF(n_components=10,\n",
    "                 random_state=42,\n",
    "                 alpha = 0.1,\n",
    "                 l1_ratio=0.5\n",
    "                 ).fit(shitty_tfidf)"
   ]
  },
  {
   "cell_type": "code",
   "execution_count": 110,
   "id": "4c747df0",
   "metadata": {},
   "outputs": [
    {
     "name": "stderr",
     "output_type": "stream",
     "text": [
      "/Users/rhoeunpark/opt/anaconda3/envs/dsi/lib/python3.8/site-packages/sklearn/decomposition/_nmf.py:1422: FutureWarning: `alpha` was deprecated in version 1.0 and will be removed in 1.2. Use `alpha_W` and `alpha_H` instead\n",
      "  warnings.warn(\n",
      "/Users/rhoeunpark/opt/anaconda3/envs/dsi/lib/python3.8/site-packages/sklearn/decomposition/_nmf.py:289: FutureWarning: The 'init' value, when 'init=None' and n_components is less than n_samples and n_features, will be changed from 'nndsvd' to 'nndsvda' in 1.1 (renaming of 0.26).\n",
      "  warnings.warn(\n"
     ]
    }
   ],
   "source": [
    "nmf_science = NMF(n_components=10,\n",
    "                  random_state=42,\n",
    "                  alpha = 0.1,\n",
    "                  l1_ratio=0.5\n",
    "                  ).fit(science_tfidf)"
   ]
  },
  {
   "cell_type": "code",
   "execution_count": 111,
   "id": "ecd2260f",
   "metadata": {},
   "outputs": [
    {
     "name": "stdout",
     "output_type": "stream",
     "text": [
      "Topic 0:\n",
      "like look taste smell grow plant science one seed made star move able act feel evolution shit eat cat float\n",
      "Topic 1:\n",
      "get one much car eat inside vaccine lamp big new wifi covid many pregnant rid happens gene faster smoke phone\n",
      "Topic 2:\n",
      "kind fish bird tree plant alien house spider snake made eye mushroom biology cell attention vegetable dolphin hummingbird best much\n",
      "Topic 3:\n",
      "human domesticated animal domestic evolve teeth shrink brain often evolved monkey adult shed slow butterfly evolution photosynthesis diagram turn act\n",
      "Topic 4:\n",
      "water come cold ice long hot salt fish transport body possible river grow wet without pure drink flowing level drinking\n",
      "Topic 5:\n",
      "work someone explain magic computer please brain machine windmill period asking still question pls sponge bunny evolution fountain hovercraft nfts\n",
      "Topic 6:\n",
      "make chicken used fan float car milk grow vaccine light use good sure way science color something faster hormone one\n",
      "Topic 7:\n",
      "earth moon sun time orbit flat gravity planet see discovered happen many every around one happens day year round push\n",
      "Topic 8:\n",
      "people door really born know world many learn stupid much possible come right smell small eat use gay old act\n",
      "Topic 9:\n",
      "dog cat breed long light wrong behaviour language determined big turn meow become painful marry liquid teach wood dispensary head\n"
     ]
    }
   ],
   "source": [
    "for topic_idx, topic in enumerate(nmf_shitty.components_):\n",
    "    print('Topic %d:' % (topic_idx))\n",
    "    print(' '.join([shitty_features[i] for i in topic.argsort()[:-20 -1:-1]]))"
   ]
  },
  {
   "cell_type": "code",
   "execution_count": 112,
   "id": "09b79b57",
   "metadata": {},
   "outputs": [
    {
     "name": "stdout",
     "output_type": "stream",
     "text": [
      "Topic 0:\n",
      "human body cell animal like much brain evolve possible different happen look effect specie year long earth disappeared exactly take\n",
      "Topic 1:\n",
      "light speed see eye traveling travel measure fastest way bulb blue force fast source like earth reaching faster color one\n",
      "Topic 2:\n",
      "time travel possible space dilation end period work gravity affect machine faster one earth day sun fast move dissolving traveling\n",
      "Topic 3:\n",
      "water hot drink much tap cold different ocean temperature life warm sea paper using river get ice better salt drinking\n",
      "Topic 4:\n",
      "question programming easy detection help extraction lab please answer stupid knot think world feeling reddit development poop pathway judge penis\n",
      "Topic 5:\n",
      "hole black matter sound white object photon center escape fall sucked horizon record green dose antimatter event escaping wormhole recycle\n",
      "Topic 6:\n",
      "people get sex spectrum place certain smell science behind similar born blind different actually cause hate brain eat covid see\n",
      "Topic 7:\n",
      "universe observable expanding space edge size expansion happen look matter like big end work expand particle everything far center bang\n",
      "Topic 8:\n",
      "energy matter come magnet motor dark kinetic element nuclear metal renewable physically gravity use exactly photon particle mass atom work\n",
      "Topic 9:\n",
      "know anyone cell brain much think wan cryptids interesting make sense field stuff science magnetic animal freckle operate understand unbiased\n"
     ]
    }
   ],
   "source": [
    "for topic_idx, topic in enumerate(nmf_science.components_):\n",
    "    print('Topic %d:' % (topic_idx))\n",
    "    print(' '.join([science_features[i] for i in topic.argsort()[:-20 -1:-1]]))"
   ]
  },
  {
   "cell_type": "markdown",
   "id": "7c1c1962",
   "metadata": {},
   "source": [
    "Overall takeaway from EDA was that none of the features showed dramatic differences between the two subreddits. Distribution was often similar in shape, with some differences in mean value."
   ]
  },
  {
   "cell_type": "markdown",
   "id": "017aefe2",
   "metadata": {},
   "source": [
    "### Final Pre-processing"
   ]
  },
  {
   "cell_type": "markdown",
   "id": "0215835d",
   "metadata": {},
   "source": [
    "I attempted to use GridSearch with TF-IDF vectorizer and a default multinomialNB modeling to find out the optimal TF-IDF parameters, so I can come up with the final bag of words to model with.  "
   ]
  },
  {
   "cell_type": "code",
   "execution_count": 113,
   "id": "4cc572a1",
   "metadata": {},
   "outputs": [],
   "source": [
    "# Use TF-IDF with pipeline and gridsearch to find out which parameter is best at correctly\n",
    "# classifying the subreddit"
   ]
  },
  {
   "cell_type": "code",
   "execution_count": 114,
   "id": "222f069c",
   "metadata": {},
   "outputs": [],
   "source": [
    "# Subreddit to binomial\n",
    "\n",
    "df['subreddit_name'] = df['subreddit_name'].map({'shittyaskscience': 1, 'askscience': 0})"
   ]
  },
  {
   "cell_type": "code",
   "execution_count": 115,
   "id": "c9489648",
   "metadata": {
    "scrolled": true
   },
   "outputs": [
    {
     "data": {
      "text/html": [
       "<div>\n",
       "<style scoped>\n",
       "    .dataframe tbody tr th:only-of-type {\n",
       "        vertical-align: middle;\n",
       "    }\n",
       "\n",
       "    .dataframe tbody tr th {\n",
       "        vertical-align: top;\n",
       "    }\n",
       "\n",
       "    .dataframe thead th {\n",
       "        text-align: right;\n",
       "    }\n",
       "</style>\n",
       "<table border=\"1\" class=\"dataframe\">\n",
       "  <thead>\n",
       "    <tr style=\"text-align: right;\">\n",
       "      <th></th>\n",
       "      <th>id</th>\n",
       "      <th>post_title</th>\n",
       "      <th>subreddit_name</th>\n",
       "      <th>title_length</th>\n",
       "      <th>title_word_count</th>\n",
       "      <th>ave_word_length</th>\n",
       "      <th>n_numeric</th>\n",
       "      <th>neg_score</th>\n",
       "      <th>neu_score</th>\n",
       "      <th>pos_score</th>\n",
       "      <th>complexity</th>\n",
       "    </tr>\n",
       "  </thead>\n",
       "  <tbody>\n",
       "    <tr>\n",
       "      <th>0</th>\n",
       "      <td>rhy7jl</td>\n",
       "      <td>I got an odd question</td>\n",
       "      <td>1</td>\n",
       "      <td>21</td>\n",
       "      <td>5</td>\n",
       "      <td>3.750000</td>\n",
       "      <td>0</td>\n",
       "      <td>0.434</td>\n",
       "      <td>0.566</td>\n",
       "      <td>0.000</td>\n",
       "      <td>100.24</td>\n",
       "    </tr>\n",
       "    <tr>\n",
       "      <th>1</th>\n",
       "      <td>uavrmz</td>\n",
       "      <td>What is that\"punching\" feeling when getting a ...</td>\n",
       "      <td>0</td>\n",
       "      <td>56</td>\n",
       "      <td>8</td>\n",
       "      <td>8.400000</td>\n",
       "      <td>0</td>\n",
       "      <td>0.000</td>\n",
       "      <td>0.824</td>\n",
       "      <td>0.176</td>\n",
       "      <td>46.44</td>\n",
       "    </tr>\n",
       "    <tr>\n",
       "      <th>2</th>\n",
       "      <td>ulnpgm</td>\n",
       "      <td>Since earwigs got their name because they craw...</td>\n",
       "      <td>1</td>\n",
       "      <td>112</td>\n",
       "      <td>20</td>\n",
       "      <td>4.833333</td>\n",
       "      <td>0</td>\n",
       "      <td>0.000</td>\n",
       "      <td>1.000</td>\n",
       "      <td>0.000</td>\n",
       "      <td>86.71</td>\n",
       "    </tr>\n",
       "    <tr>\n",
       "      <th>3</th>\n",
       "      <td>rrhu9y</td>\n",
       "      <td>I've heard no mention of any Pulitzer nominati...</td>\n",
       "      <td>1</td>\n",
       "      <td>176</td>\n",
       "      <td>32</td>\n",
       "      <td>5.700000</td>\n",
       "      <td>1</td>\n",
       "      <td>0.067</td>\n",
       "      <td>0.879</td>\n",
       "      <td>0.055</td>\n",
       "      <td>80.62</td>\n",
       "    </tr>\n",
       "    <tr>\n",
       "      <th>4</th>\n",
       "      <td>mkmqg7</td>\n",
       "      <td>If I’m standing on the moon, how hard do I hav...</td>\n",
       "      <td>1</td>\n",
       "      <td>136</td>\n",
       "      <td>31</td>\n",
       "      <td>4.333333</td>\n",
       "      <td>0</td>\n",
       "      <td>0.048</td>\n",
       "      <td>0.952</td>\n",
       "      <td>0.000</td>\n",
       "      <td>73.85</td>\n",
       "    </tr>\n",
       "  </tbody>\n",
       "</table>\n",
       "</div>"
      ],
      "text/plain": [
       "       id                                         post_title  subreddit_name  \\\n",
       "0  rhy7jl                              I got an odd question               1   \n",
       "1  uavrmz  What is that\"punching\" feeling when getting a ...               0   \n",
       "2  ulnpgm  Since earwigs got their name because they craw...               1   \n",
       "3  rrhu9y  I've heard no mention of any Pulitzer nominati...               1   \n",
       "4  mkmqg7  If I’m standing on the moon, how hard do I hav...               1   \n",
       "\n",
       "   title_length  title_word_count  ave_word_length  n_numeric  neg_score  \\\n",
       "0            21                 5         3.750000          0      0.434   \n",
       "1            56                 8         8.400000          0      0.000   \n",
       "2           112                20         4.833333          0      0.000   \n",
       "3           176                32         5.700000          1      0.067   \n",
       "4           136                31         4.333333          0      0.048   \n",
       "\n",
       "   neu_score  pos_score  complexity  \n",
       "0      0.566      0.000      100.24  \n",
       "1      0.824      0.176       46.44  \n",
       "2      1.000      0.000       86.71  \n",
       "3      0.879      0.055       80.62  \n",
       "4      0.952      0.000       73.85  "
      ]
     },
     "execution_count": 115,
     "metadata": {},
     "output_type": "execute_result"
    }
   ],
   "source": [
    "df.head()"
   ]
  },
  {
   "cell_type": "code",
   "execution_count": 116,
   "id": "19639fb4",
   "metadata": {},
   "outputs": [],
   "source": [
    "X = df['post_title']\n",
    "y = df['subreddit_name']"
   ]
  },
  {
   "cell_type": "code",
   "execution_count": 117,
   "id": "e25c3ad5",
   "metadata": {
    "scrolled": true
   },
   "outputs": [
    {
     "data": {
      "text/plain": [
       "0    0.500492\n",
       "1    0.499508\n",
       "Name: subreddit_name, dtype: float64"
      ]
     },
     "execution_count": 117,
     "metadata": {},
     "output_type": "execute_result"
    }
   ],
   "source": [
    "# Baseline score\n",
    "y.value_counts(normalize = True)"
   ]
  },
  {
   "cell_type": "code",
   "execution_count": 118,
   "id": "e920012d",
   "metadata": {},
   "outputs": [],
   "source": [
    "X_train, X_test, y_train, y_test = train_test_split(X,\n",
    "                                                    y, \n",
    "                                                    test_size=0.33,\n",
    "                                                    stratify=y,\n",
    "                                                    random_state=42\n",
    "                                                   )"
   ]
  },
  {
   "cell_type": "code",
   "execution_count": 119,
   "id": "ddbf5b05",
   "metadata": {},
   "outputs": [],
   "source": [
    "# Re-visit; this let's us incorporate lemmatizing in the tfidf vectorizor\n",
    "from nltk import word_tokenize          \n",
    "from nltk.stem import WordNetLemmatizer \n",
    "class LemmaTokenizer(object):\n",
    "    def __init__(self):\n",
    "        self.wnl = WordNetLemmatizer()\n",
    "    def __call__(self, doc):\n",
    "        regex_num_punctuation = '(\\d+)|([^\\w\\s])'\n",
    "        regex_little_words = r'(\\b\\w{1,2}\\b)'\n",
    "        return [self.wnl.lemmatize(t) for t in word_tokenize(doc) if not re.search(regex_num_punctuation, t) and not re.search(regex_little_words, t)]\n"
   ]
  },
  {
   "cell_type": "code",
   "execution_count": 120,
   "id": "6711bf3e",
   "metadata": {},
   "outputs": [
    {
     "data": {
      "text/plain": [
       "['i',\n",
       " 'me',\n",
       " 'my',\n",
       " 'myself',\n",
       " 'we',\n",
       " 'our',\n",
       " 'ours',\n",
       " 'ourselves',\n",
       " 'you',\n",
       " \"you're\",\n",
       " \"you've\",\n",
       " \"you'll\",\n",
       " \"you'd\",\n",
       " 'your',\n",
       " 'yours',\n",
       " 'yourself',\n",
       " 'yourselves',\n",
       " 'he',\n",
       " 'him',\n",
       " 'his',\n",
       " 'himself',\n",
       " 'she',\n",
       " \"she's\",\n",
       " 'her',\n",
       " 'hers',\n",
       " 'herself',\n",
       " 'it',\n",
       " \"it's\",\n",
       " 'its',\n",
       " 'itself',\n",
       " 'they',\n",
       " 'them',\n",
       " 'their',\n",
       " 'theirs',\n",
       " 'themselves',\n",
       " 'what',\n",
       " 'which',\n",
       " 'who',\n",
       " 'whom',\n",
       " 'this',\n",
       " 'that',\n",
       " \"that'll\",\n",
       " 'these',\n",
       " 'those',\n",
       " 'am',\n",
       " 'is',\n",
       " 'are',\n",
       " 'was',\n",
       " 'were',\n",
       " 'be',\n",
       " 'been',\n",
       " 'being',\n",
       " 'have',\n",
       " 'has',\n",
       " 'had',\n",
       " 'having',\n",
       " 'do',\n",
       " 'does',\n",
       " 'did',\n",
       " 'doing',\n",
       " 'a',\n",
       " 'an',\n",
       " 'the',\n",
       " 'and',\n",
       " 'but',\n",
       " 'if',\n",
       " 'or',\n",
       " 'because',\n",
       " 'as',\n",
       " 'until',\n",
       " 'while',\n",
       " 'of',\n",
       " 'at',\n",
       " 'by',\n",
       " 'for',\n",
       " 'with',\n",
       " 'about',\n",
       " 'against',\n",
       " 'between',\n",
       " 'into',\n",
       " 'through',\n",
       " 'during',\n",
       " 'before',\n",
       " 'after',\n",
       " 'above',\n",
       " 'below',\n",
       " 'to',\n",
       " 'from',\n",
       " 'up',\n",
       " 'down',\n",
       " 'in',\n",
       " 'out',\n",
       " 'on',\n",
       " 'off',\n",
       " 'over',\n",
       " 'under',\n",
       " 'again',\n",
       " 'further',\n",
       " 'then',\n",
       " 'once',\n",
       " 'here',\n",
       " 'there',\n",
       " 'when',\n",
       " 'where',\n",
       " 'why',\n",
       " 'how',\n",
       " 'all',\n",
       " 'any',\n",
       " 'both',\n",
       " 'each',\n",
       " 'few',\n",
       " 'more',\n",
       " 'most',\n",
       " 'other',\n",
       " 'some',\n",
       " 'such',\n",
       " 'no',\n",
       " 'nor',\n",
       " 'not',\n",
       " 'only',\n",
       " 'own',\n",
       " 'same',\n",
       " 'so',\n",
       " 'than',\n",
       " 'too',\n",
       " 'very',\n",
       " 's',\n",
       " 't',\n",
       " 'can',\n",
       " 'will',\n",
       " 'just',\n",
       " 'don',\n",
       " \"don't\",\n",
       " 'should',\n",
       " \"should've\",\n",
       " 'now',\n",
       " 'd',\n",
       " 'll',\n",
       " 'm',\n",
       " 'o',\n",
       " 're',\n",
       " 've',\n",
       " 'y',\n",
       " 'ain',\n",
       " 'aren',\n",
       " \"aren't\",\n",
       " 'couldn',\n",
       " \"couldn't\",\n",
       " 'didn',\n",
       " \"didn't\",\n",
       " 'doesn',\n",
       " \"doesn't\",\n",
       " 'hadn',\n",
       " \"hadn't\",\n",
       " 'hasn',\n",
       " \"hasn't\",\n",
       " 'haven',\n",
       " \"haven't\",\n",
       " 'isn',\n",
       " \"isn't\",\n",
       " 'ma',\n",
       " 'mightn',\n",
       " \"mightn't\",\n",
       " 'mustn',\n",
       " \"mustn't\",\n",
       " 'needn',\n",
       " \"needn't\",\n",
       " 'shan',\n",
       " \"shan't\",\n",
       " 'shouldn',\n",
       " \"shouldn't\",\n",
       " 'wasn',\n",
       " \"wasn't\",\n",
       " 'weren',\n",
       " \"weren't\",\n",
       " 'won',\n",
       " \"won't\",\n",
       " 'wouldn',\n",
       " \"wouldn't\",\n",
       " 'ha',\n",
       " 'le',\n",
       " 'wa',\n",
       " 'could',\n",
       " 'doe',\n",
       " 'might',\n",
       " 'must',\n",
       " 'need',\n",
       " 'sha',\n",
       " 'would']"
      ]
     },
     "execution_count": 120,
     "metadata": {},
     "output_type": "execute_result"
    }
   ],
   "source": [
    "# stop words\n",
    "\n",
    "stop_update"
   ]
  },
  {
   "cell_type": "code",
   "execution_count": 131,
   "id": "4f2eed90",
   "metadata": {},
   "outputs": [],
   "source": [
    "# CountVec pipeline\n",
    "\n",
    "pipe_cvec = Pipeline([\n",
    "    ('cvec', CountVectorizer()),\n",
    "    ('nb', MultinomialNB())\n",
    "    \n",
    "])"
   ]
  },
  {
   "cell_type": "code",
   "execution_count": 135,
   "id": "20ec9bdc",
   "metadata": {},
   "outputs": [],
   "source": [
    "pipe_cvec_params = {\n",
    "    'cvec__max_features': [2000, 3000, 4000, 5000],\n",
    "    'cvec__stop_words': [None, stop_update],\n",
    "    'cvec__strip_accents': [None, 'ascii'],\n",
    "    'cvec__ngram_range': [(1, 1), (1, 2)],\n",
    "    'cvec__tokenizer': [None, LemmaTokenizer()]\n",
    "}"
   ]
  },
  {
   "cell_type": "code",
   "execution_count": 136,
   "id": "f85c97b1",
   "metadata": {},
   "outputs": [],
   "source": [
    "gs_cvec = GridSearchCV(pipe_cvec,\n",
    "                      param_grid = pipe_cvec_params,\n",
    "                      cv = 5\n",
    "                      )"
   ]
  },
  {
   "cell_type": "code",
   "execution_count": 137,
   "id": "a12c28c3",
   "metadata": {
    "scrolled": false
   },
   "outputs": [
    {
     "data": {
      "text/plain": [
       "GridSearchCV(cv=5,\n",
       "             estimator=Pipeline(steps=[('cvec', CountVectorizer()),\n",
       "                                       ('nb', MultinomialNB())]),\n",
       "             param_grid={'cvec__max_features': [2000, 3000, 4000, 5000],\n",
       "                         'cvec__ngram_range': [(1, 1), (1, 2)],\n",
       "                         'cvec__stop_words': [None,\n",
       "                                              ['i', 'me', 'my', 'myself', 'we',\n",
       "                                               'our', 'ours', 'ourselves',\n",
       "                                               'you', \"you're\", \"you've\",\n",
       "                                               \"you'll\", \"you'd\", 'your',\n",
       "                                               'yours', 'yourself',\n",
       "                                               'yourselves', 'he', 'him', 'his',\n",
       "                                               'himself', 'she', \"she's\", 'her',\n",
       "                                               'hers', 'herself', 'it', \"it's\",\n",
       "                                               'its', 'itself', ...]],\n",
       "                         'cvec__strip_accents': [None, 'ascii'],\n",
       "                         'cvec__tokenizer': [None,\n",
       "                                             <__main__.LemmaTokenizer object at 0x7fd6fb430fd0>]})"
      ]
     },
     "execution_count": 137,
     "metadata": {},
     "output_type": "execute_result"
    }
   ],
   "source": [
    "gs_cvec.fit(X_train, y_train)"
   ]
  },
  {
   "cell_type": "code",
   "execution_count": 138,
   "id": "953872f3",
   "metadata": {},
   "outputs": [
    {
     "data": {
      "text/plain": [
       "0.722802339574425"
      ]
     },
     "execution_count": 138,
     "metadata": {},
     "output_type": "execute_result"
    }
   ],
   "source": [
    "gs_cvec.best_score_"
   ]
  },
  {
   "cell_type": "code",
   "execution_count": 139,
   "id": "d75fd241",
   "metadata": {},
   "outputs": [
    {
     "data": {
      "text/plain": [
       "{'cvec__max_features': 5000,\n",
       " 'cvec__ngram_range': (1, 1),\n",
       " 'cvec__stop_words': None,\n",
       " 'cvec__strip_accents': None,\n",
       " 'cvec__tokenizer': <__main__.LemmaTokenizer at 0x7fd6fb430fd0>}"
      ]
     },
     "execution_count": 139,
     "metadata": {},
     "output_type": "execute_result"
    }
   ],
   "source": [
    "gs_cvec.best_params_"
   ]
  },
  {
   "cell_type": "code",
   "execution_count": 108,
   "id": "51de8255",
   "metadata": {},
   "outputs": [],
   "source": [
    "# Try pipeline\n",
    "\n",
    "pipe_tvec = Pipeline([\n",
    "    ('tvec', TfidfVectorizer()),\n",
    "    ('nb', MultinomialNB())\n",
    "    ])"
   ]
  },
  {
   "cell_type": "code",
   "execution_count": 109,
   "id": "0b121eec",
   "metadata": {},
   "outputs": [],
   "source": [
    "pipe_tvec_params = {\n",
    "    'tvec__max_features': [3_000, 4_000, 5_000], # Max number of features to include\n",
    "    'tvec__stop_words': [None, stop_update], # Whether or not to include stop words\n",
    "    'tvec__ngram_range': [(1,1), (1,2)], # Whether or not to incorporate n-grams\n",
    "    'tvec__tokenizer':[None, LemmaTokenizer()], # Whether or not to lemmatize the words\n",
    "    'tvec__strip_accents':[None, 'ascii'], # Whether or not to strip non-english words\n",
    "    'tvec__max_df':[0.25, 0.5, 0.75] # Whether or not to ignore terms that have a document frequency strictly higher than the given threshold\n",
    "}"
   ]
  },
  {
   "cell_type": "code",
   "execution_count": 110,
   "id": "06b98f45",
   "metadata": {},
   "outputs": [],
   "source": [
    "gs_tvec = GridSearchCV(pipe_tvec, # what object are we optimizing?\n",
    "                        param_grid = pipe_tvec_params, # what parameters values are we searching?\n",
    "                        cv=5) # 5-fold cross-validation."
   ]
  },
  {
   "cell_type": "code",
   "execution_count": 111,
   "id": "7cf57ace",
   "metadata": {},
   "outputs": [
    {
     "data": {
      "text/plain": [
       "GridSearchCV(cv=5,\n",
       "             estimator=Pipeline(steps=[('tvec', TfidfVectorizer()),\n",
       "                                       ('nb', MultinomialNB())]),\n",
       "             param_grid={'tvec__max_df': [0.25, 0.5, 0.75],\n",
       "                         'tvec__max_features': [3000, 4000, 5000],\n",
       "                         'tvec__ngram_range': [(1, 1), (1, 2)],\n",
       "                         'tvec__stop_words': [None,\n",
       "                                              ['i', 'me', 'my', 'myself', 'we',\n",
       "                                               'our', 'ours', 'ourselves',\n",
       "                                               'you', \"you're\", \"you've\",\n",
       "                                               \"you'll\", \"you'd\", 'your',\n",
       "                                               'yours', 'yourself',\n",
       "                                               'yourselves', 'he', 'him', 'his',\n",
       "                                               'himself', 'she', \"she's\", 'her',\n",
       "                                               'hers', 'herself', 'it', \"it's\",\n",
       "                                               'its', 'itself', ...]],\n",
       "                         'tvec__strip_accents': [None, 'ascii'],\n",
       "                         'tvec__tokenizer': [None,\n",
       "                                             <__main__.LemmaTokenizer object at 0x7f87b82aabe0>]})"
      ]
     },
     "execution_count": 111,
     "metadata": {},
     "output_type": "execute_result"
    }
   ],
   "source": [
    "gs_tvec.fit(X_train, y_train)"
   ]
  },
  {
   "cell_type": "code",
   "execution_count": 112,
   "id": "4e749b9d",
   "metadata": {
    "scrolled": true
   },
   "outputs": [
    {
     "data": {
      "text/plain": [
       "0.7223603026493127"
      ]
     },
     "execution_count": 112,
     "metadata": {},
     "output_type": "execute_result"
    }
   ],
   "source": [
    "gs_tvec.best_score_"
   ]
  },
  {
   "cell_type": "code",
   "execution_count": 113,
   "id": "ecad8014",
   "metadata": {
    "scrolled": true
   },
   "outputs": [
    {
     "data": {
      "text/plain": [
       "{'tvec__max_df': 0.5,\n",
       " 'tvec__max_features': 5000,\n",
       " 'tvec__ngram_range': (1, 1),\n",
       " 'tvec__stop_words': None,\n",
       " 'tvec__strip_accents': None,\n",
       " 'tvec__tokenizer': <__main__.LemmaTokenizer at 0x7f87b82aabe0>}"
      ]
     },
     "execution_count": 113,
     "metadata": {},
     "output_type": "execute_result"
    }
   ],
   "source": [
    "gs_tvec.best_params_"
   ]
  },
  {
   "cell_type": "markdown",
   "id": "698e906a",
   "metadata": {},
   "source": [
    "These are the parameters that yielded the highest accuracy. "
   ]
  },
  {
   "cell_type": "code",
   "execution_count": 352,
   "id": "13bc3196",
   "metadata": {},
   "outputs": [],
   "source": [
    "pipe_tvec = Pipeline([\n",
    "    ('tvec', TfidfVectorizer(max_features=5000, max_df=0.5, tokenizer=LemmaTokenizer())),\n",
    "    ('nb', MultinomialNB())\n",
    "    ])"
   ]
  },
  {
   "cell_type": "code",
   "execution_count": 353,
   "id": "95130199",
   "metadata": {},
   "outputs": [
    {
     "data": {
      "text/plain": [
       "Pipeline(steps=[('tvec',\n",
       "                 TfidfVectorizer(max_df=0.5, max_features=5000,\n",
       "                                 tokenizer=<__main__.LemmaTokenizer object at 0x7fadbc668850>)),\n",
       "                ('nb', MultinomialNB())])"
      ]
     },
     "execution_count": 353,
     "metadata": {},
     "output_type": "execute_result"
    }
   ],
   "source": [
    "pipe_tvec.fit(X_train, y_train)"
   ]
  },
  {
   "cell_type": "code",
   "execution_count": 354,
   "id": "63bae8f0",
   "metadata": {
    "scrolled": false
   },
   "outputs": [
    {
     "data": {
      "text/plain": [
       "0.7201192250372578"
      ]
     },
     "execution_count": 354,
     "metadata": {},
     "output_type": "execute_result"
    }
   ],
   "source": [
    "pipe_tvec.score(X_test, y_test)"
   ]
  },
  {
   "cell_type": "code",
   "execution_count": 355,
   "id": "4f23369a",
   "metadata": {},
   "outputs": [],
   "source": [
    "mnb_preds = pipe_tvec.predict(X_test)"
   ]
  },
  {
   "cell_type": "code",
   "execution_count": 356,
   "id": "7cf19c4c",
   "metadata": {},
   "outputs": [
    {
     "data": {
      "text/plain": [
       "array([[1229,  450],\n",
       "       [ 489, 1187]])"
      ]
     },
     "execution_count": 356,
     "metadata": {},
     "output_type": "execute_result"
    }
   ],
   "source": [
    "\n",
    "confusion_matrix(\n",
    "    y_test, mnb_preds\n",
    ")"
   ]
  },
  {
   "cell_type": "code",
   "execution_count": 357,
   "id": "e936162b",
   "metadata": {},
   "outputs": [],
   "source": [
    "tn0, fp0, fn0, tp0 = confusion_matrix(y_test, mnb_preds).ravel()\n"
   ]
  },
  {
   "cell_type": "code",
   "execution_count": 359,
   "id": "2946e152",
   "metadata": {
    "scrolled": false
   },
   "outputs": [
    {
     "data": {
      "image/png": "[encoded data removed]",
      "text/plain": [
       "<Figure size 432x288 with 2 Axes>"
      ]
     },
     "metadata": {
      "needs_background": "light"
     },
     "output_type": "display_data"
    }
   ],
   "source": [
    "ConfusionMatrixDisplay.from_estimator(pipe_tvec, X_test, y_test,\n",
    "                                      cmap=\"Blues\",\n",
    "                                      display_labels=[\"askscience\", \"shittyaskscience\"],\n",
    "                                     );"
   ]
  },
  {
   "cell_type": "markdown",
   "id": "c33095da",
   "metadata": {},
   "source": [
    "The model correctly predicted 72% of the testing data using the parameters specified above and multinomialNB model. Based on the baseline accuracy of 50%, the model is just slightly better in correctly classifying the text."
   ]
  },
  {
   "cell_type": "code",
   "execution_count": null,
   "id": "4b315b8b",
   "metadata": {},
   "outputs": [],
   "source": [
    "# This result + EDA result; finalize the tvec so that I am actually ready for modeling"
   ]
  },
  {
   "cell_type": "markdown",
   "id": "c0eb2485",
   "metadata": {},
   "source": [
    "#### Finalize Data"
   ]
  },
  {
   "cell_type": "code",
   "execution_count": 287,
   "id": "68d6b329",
   "metadata": {},
   "outputs": [],
   "source": [
    "tvec = TfidfVectorizer(max_features=5000,\n",
    "                       tokenizer=LemmaTokenizer(),\n",
    "                       max_df=0.5\n",
    "                      )\n",
    "\n",
    "tvec_feat = df['post_title']\n",
    "tvec_df = pd.DataFrame(tvec.fit_transform(tvec_feat).todense(), \n",
    "                       columns=tvec.get_feature_names_out())"
   ]
  },
  {
   "cell_type": "code",
   "execution_count": 288,
   "id": "2af3139d",
   "metadata": {},
   "outputs": [
    {
     "data": {
      "image/png": "[encoded data removed]",
      "text/plain": [
       "<Figure size 432x288 with 1 Axes>"
      ]
     },
     "metadata": {
      "needs_background": "light"
     },
     "output_type": "display_data"
    }
   ],
   "source": [
    "tvec_df.sum().sort_values(ascending=False).head(10).plot(kind='barh');"
   ]
  },
  {
   "cell_type": "code",
   "execution_count": 289,
   "id": "6050ff9c",
   "metadata": {
    "scrolled": true
   },
   "outputs": [
    {
     "data": {
      "text/plain": [
       "(10166, 5000)"
      ]
     },
     "execution_count": 289,
     "metadata": {},
     "output_type": "execute_result"
    }
   ],
   "source": [
    "tvec_df.shape"
   ]
  },
  {
   "cell_type": "code",
   "execution_count": 290,
   "id": "a08701f5",
   "metadata": {
    "scrolled": false
   },
   "outputs": [
    {
     "data": {
      "text/plain": [
       "(10166, 11)"
      ]
     },
     "execution_count": 290,
     "metadata": {},
     "output_type": "execute_result"
    }
   ],
   "source": [
    "df.shape"
   ]
  },
  {
   "cell_type": "code",
   "execution_count": 291,
   "id": "983cd630",
   "metadata": {},
   "outputs": [
    {
     "data": {
      "text/html": [
       "<div>\n",
       "<style scoped>\n",
       "    .dataframe tbody tr th:only-of-type {\n",
       "        vertical-align: middle;\n",
       "    }\n",
       "\n",
       "    .dataframe tbody tr th {\n",
       "        vertical-align: top;\n",
       "    }\n",
       "\n",
       "    .dataframe thead th {\n",
       "        text-align: right;\n",
       "    }\n",
       "</style>\n",
       "<table border=\"1\" class=\"dataframe\">\n",
       "  <thead>\n",
       "    <tr style=\"text-align: right;\">\n",
       "      <th></th>\n",
       "      <th>id</th>\n",
       "      <th>post_title</th>\n",
       "      <th>subreddit_name</th>\n",
       "      <th>title_length</th>\n",
       "      <th>title_word_count</th>\n",
       "      <th>ave_word_length</th>\n",
       "      <th>n_numeric</th>\n",
       "      <th>neg_score</th>\n",
       "      <th>neu_score</th>\n",
       "      <th>pos_score</th>\n",
       "      <th>complexity</th>\n",
       "    </tr>\n",
       "  </thead>\n",
       "  <tbody>\n",
       "    <tr>\n",
       "      <th>0</th>\n",
       "      <td>rhy7jl</td>\n",
       "      <td>I got an odd question</td>\n",
       "      <td>1</td>\n",
       "      <td>21</td>\n",
       "      <td>5</td>\n",
       "      <td>3.750000</td>\n",
       "      <td>0</td>\n",
       "      <td>0.434</td>\n",
       "      <td>0.566</td>\n",
       "      <td>0.000</td>\n",
       "      <td>100.24</td>\n",
       "    </tr>\n",
       "    <tr>\n",
       "      <th>1</th>\n",
       "      <td>uavrmz</td>\n",
       "      <td>What is that\"punching\" feeling when getting a ...</td>\n",
       "      <td>0</td>\n",
       "      <td>56</td>\n",
       "      <td>8</td>\n",
       "      <td>8.400000</td>\n",
       "      <td>0</td>\n",
       "      <td>0.000</td>\n",
       "      <td>0.824</td>\n",
       "      <td>0.176</td>\n",
       "      <td>46.44</td>\n",
       "    </tr>\n",
       "    <tr>\n",
       "      <th>2</th>\n",
       "      <td>ulnpgm</td>\n",
       "      <td>Since earwigs got their name because they craw...</td>\n",
       "      <td>1</td>\n",
       "      <td>112</td>\n",
       "      <td>20</td>\n",
       "      <td>4.833333</td>\n",
       "      <td>0</td>\n",
       "      <td>0.000</td>\n",
       "      <td>1.000</td>\n",
       "      <td>0.000</td>\n",
       "      <td>86.71</td>\n",
       "    </tr>\n",
       "  </tbody>\n",
       "</table>\n",
       "</div>"
      ],
      "text/plain": [
       "       id                                         post_title  subreddit_name  \\\n",
       "0  rhy7jl                              I got an odd question               1   \n",
       "1  uavrmz  What is that\"punching\" feeling when getting a ...               0   \n",
       "2  ulnpgm  Since earwigs got their name because they craw...               1   \n",
       "\n",
       "   title_length  title_word_count  ave_word_length  n_numeric  neg_score  \\\n",
       "0            21                 5         3.750000          0      0.434   \n",
       "1            56                 8         8.400000          0      0.000   \n",
       "2           112                20         4.833333          0      0.000   \n",
       "\n",
       "   neu_score  pos_score  complexity  \n",
       "0      0.566      0.000      100.24  \n",
       "1      0.824      0.176       46.44  \n",
       "2      1.000      0.000       86.71  "
      ]
     },
     "execution_count": 291,
     "metadata": {},
     "output_type": "execute_result"
    }
   ],
   "source": [
    "df.head(3)"
   ]
  },
  {
   "cell_type": "code",
   "execution_count": 292,
   "id": "f8ff8e5e",
   "metadata": {},
   "outputs": [],
   "source": [
    "df_f = df.join(tvec_df)"
   ]
  },
  {
   "cell_type": "code",
   "execution_count": 293,
   "id": "51ee73a1",
   "metadata": {
    "scrolled": true
   },
   "outputs": [
    {
     "data": {
      "text/plain": [
       "(10166, 5011)"
      ]
     },
     "execution_count": 293,
     "metadata": {},
     "output_type": "execute_result"
    }
   ],
   "source": [
    "df_f.shape"
   ]
  },
  {
   "cell_type": "code",
   "execution_count": 294,
   "id": "17200fbb",
   "metadata": {},
   "outputs": [],
   "source": [
    "df_f.to_csv('data/data_final.csv')"
   ]
  },
  {
   "cell_type": "markdown",
   "id": "e916cfaa",
   "metadata": {},
   "source": [
    "---"
   ]
  },
  {
   "cell_type": "markdown",
   "id": "1ee35d5f",
   "metadata": {},
   "source": [
    "## Modeling"
   ]
  },
  {
   "cell_type": "markdown",
   "id": "30ec699d",
   "metadata": {},
   "source": [
    "#### Random Forest"
   ]
  },
  {
   "cell_type": "code",
   "execution_count": 295,
   "id": "df0973d1",
   "metadata": {},
   "outputs": [],
   "source": [
    "from sklearn.model_selection import cross_val_score\n",
    "from sklearn.ensemble import RandomForestClassifier, ExtraTreesClassifier"
   ]
  },
  {
   "cell_type": "code",
   "execution_count": 296,
   "id": "d67b4c4a",
   "metadata": {},
   "outputs": [],
   "source": [
    "from sklearn.neighbors import KNeighborsClassifier"
   ]
  },
  {
   "cell_type": "code",
   "execution_count": 362,
   "id": "7be11a27",
   "metadata": {},
   "outputs": [],
   "source": [
    "# Random Forest\n",
    "X = df_f.drop(columns=['post_title', 'id', 'subreddit_name'])\n",
    "y = df_f['subreddit_name']"
   ]
  },
  {
   "cell_type": "code",
   "execution_count": 120,
   "id": "3bfe6cb4",
   "metadata": {},
   "outputs": [
    {
     "data": {
      "text/plain": [
       "0    0.500492\n",
       "1    0.499508\n",
       "Name: subreddit_name, dtype: float64"
      ]
     },
     "execution_count": 120,
     "metadata": {},
     "output_type": "execute_result"
    }
   ],
   "source": [
    "y.value_counts(normalize=True)"
   ]
  },
  {
   "cell_type": "code",
   "execution_count": 363,
   "id": "8652251a",
   "metadata": {
    "scrolled": true
   },
   "outputs": [],
   "source": [
    "X_train, X_test, y_train, y_test = train_test_split(X, y, random_state=42, stratify=y)"
   ]
  },
  {
   "cell_type": "code",
   "execution_count": 122,
   "id": "a81c443c",
   "metadata": {},
   "outputs": [],
   "source": [
    "np.random.seed(42)\n",
    "n_estimators=100\n",
    "rfc = RandomForestClassifier(random_state=42)"
   ]
  },
  {
   "cell_type": "code",
   "execution_count": 124,
   "id": "b60792a8",
   "metadata": {},
   "outputs": [],
   "source": [
    "cv_scores = cross_val_score(rfc, X_train, y_train, cv=5)"
   ]
  },
  {
   "cell_type": "code",
   "execution_count": 125,
   "id": "d943f8ea",
   "metadata": {},
   "outputs": [
    {
     "name": "stdout",
     "output_type": "stream",
     "text": [
      "0.712616840927671\n",
      "0.007117435157249057\n"
     ]
    }
   ],
   "source": [
    "print(cv_scores.mean())\n",
    "print(cv_scores.std())"
   ]
  },
  {
   "cell_type": "code",
   "execution_count": 132,
   "id": "48aff539",
   "metadata": {},
   "outputs": [
    {
     "data": {
      "text/plain": [
       "GridSearchCV(cv=5, estimator=RandomForestClassifier(random_state=42),\n",
       "             param_grid={'max_depth': [None, 1, 2, 3, 4, 5],\n",
       "                         'n_estimators': [100, 150, 200]})"
      ]
     },
     "execution_count": 132,
     "metadata": {},
     "output_type": "execute_result"
    }
   ],
   "source": [
    "# Grid Search\n",
    "\n",
    "rf_params = {'n_estimators': [100, 150, 200],\n",
    "             'max_depth': [None, 1, 2, 3, 4, 5]\n",
    "            }\n",
    "\n",
    "rf_gs = GridSearchCV(rfc, param_grid=rf_params, cv=5)\n",
    "rf_gs.fit(X_train, y_train)"
   ]
  },
  {
   "cell_type": "code",
   "execution_count": 133,
   "id": "6fd1f927",
   "metadata": {
    "scrolled": true
   },
   "outputs": [
    {
     "name": "stdout",
     "output_type": "stream",
     "text": [
      "0.7130104556602557\n",
      "{'max_depth': None, 'n_estimators': 200}\n"
     ]
    }
   ],
   "source": [
    "print(rf_gs.best_score_)\n",
    "print(rf_gs.best_params_)"
   ]
  },
  {
   "cell_type": "code",
   "execution_count": 151,
   "id": "9f58fce2",
   "metadata": {},
   "outputs": [],
   "source": [
    "# Finalize Random Forest Model\n",
    "rfc = RandomForestClassifier(random_state=42, n_estimators=200, max_depth=None)"
   ]
  },
  {
   "cell_type": "code",
   "execution_count": 153,
   "id": "96bcc4e5",
   "metadata": {},
   "outputs": [
    {
     "data": {
      "text/plain": [
       "RandomForestClassifier(n_estimators=200, random_state=42)"
      ]
     },
     "execution_count": 153,
     "metadata": {},
     "output_type": "execute_result"
    }
   ],
   "source": [
    "rfc.fit(X_train, y_train)"
   ]
  },
  {
   "cell_type": "code",
   "execution_count": 154,
   "id": "5fe71c64",
   "metadata": {},
   "outputs": [
    {
     "data": {
      "text/plain": [
       "0.9996065057712487"
      ]
     },
     "execution_count": 154,
     "metadata": {},
     "output_type": "execute_result"
    }
   ],
   "source": [
    "rfc.score(X_train, y_train)"
   ]
  },
  {
   "cell_type": "code",
   "execution_count": 157,
   "id": "6d71304b",
   "metadata": {},
   "outputs": [
    {
     "data": {
      "text/plain": [
       "0.7277734067663257"
      ]
     },
     "execution_count": 157,
     "metadata": {},
     "output_type": "execute_result"
    }
   ],
   "source": [
    "rfc.score(X_test, y_test)"
   ]
  },
  {
   "cell_type": "code",
   "execution_count": 307,
   "id": "7e6bea24",
   "metadata": {},
   "outputs": [],
   "source": [
    "rf_preds = rfc.predict(X_test)"
   ]
  },
  {
   "cell_type": "markdown",
   "id": "c0349470",
   "metadata": {},
   "source": [
    "---"
   ]
  },
  {
   "cell_type": "markdown",
   "id": "a7e93cad",
   "metadata": {},
   "source": [
    "#### Logistic Regression"
   ]
  },
  {
   "cell_type": "code",
   "execution_count": 124,
   "id": "5a2aae7b",
   "metadata": {},
   "outputs": [],
   "source": [
    "from sklearn.preprocessing import PolynomialFeatures, StandardScaler"
   ]
  },
  {
   "cell_type": "code",
   "execution_count": 136,
   "id": "ae24a91f",
   "metadata": {},
   "outputs": [],
   "source": [
    "log_pipe = Pipeline([\n",
    "    ('ss', StandardScaler()),\n",
    "    ('lr', LogisticRegression(penalty='elasticnet', solver='saga'))\n",
    "                    ])"
   ]
  },
  {
   "cell_type": "code",
   "execution_count": 137,
   "id": "3a229288",
   "metadata": {},
   "outputs": [],
   "source": [
    "log_params = {\n",
    "    'lr__l1_ratio': [.1, .5, .7, .95, .99],\n",
    "    'lr__C': [0.001, 0.01, 0.1, 1, 10]\n",
    "}"
   ]
  },
  {
   "cell_type": "code",
   "execution_count": 138,
   "id": "fa91e5a5",
   "metadata": {},
   "outputs": [],
   "source": [
    "gs = GridSearchCV(\n",
    "    log_pipe,\n",
    "    log_params,\n",
    "    cv = 5\n",
    ")"
   ]
  },
  {
   "cell_type": "code",
   "execution_count": 139,
   "id": "face602d",
   "metadata": {},
   "outputs": [
    {
     "name": "stderr",
     "output_type": "stream",
     "text": [
      "/Users/rhoeunpark/opt/anaconda3/envs/dsi/lib/python3.8/site-packages/sklearn/linear_model/_sag.py:352: ConvergenceWarning: The max_iter was reached which means the coef_ did not converge\n",
      "  warnings.warn(\n",
      "/Users/rhoeunpark/opt/anaconda3/envs/dsi/lib/python3.8/site-packages/sklearn/linear_model/_sag.py:352: ConvergenceWarning: The max_iter was reached which means the coef_ did not converge\n",
      "  warnings.warn(\n",
      "/Users/rhoeunpark/opt/anaconda3/envs/dsi/lib/python3.8/site-packages/sklearn/linear_model/_sag.py:352: ConvergenceWarning: The max_iter was reached which means the coef_ did not converge\n",
      "  warnings.warn(\n",
      "/Users/rhoeunpark/opt/anaconda3/envs/dsi/lib/python3.8/site-packages/sklearn/linear_model/_sag.py:352: ConvergenceWarning: The max_iter was reached which means the coef_ did not converge\n",
      "  warnings.warn(\n",
      "/Users/rhoeunpark/opt/anaconda3/envs/dsi/lib/python3.8/site-packages/sklearn/linear_model/_sag.py:352: ConvergenceWarning: The max_iter was reached which means the coef_ did not converge\n",
      "  warnings.warn(\n",
      "/Users/rhoeunpark/opt/anaconda3/envs/dsi/lib/python3.8/site-packages/sklearn/linear_model/_sag.py:352: ConvergenceWarning: The max_iter was reached which means the coef_ did not converge\n",
      "  warnings.warn(\n",
      "/Users/rhoeunpark/opt/anaconda3/envs/dsi/lib/python3.8/site-packages/sklearn/linear_model/_sag.py:352: ConvergenceWarning: The max_iter was reached which means the coef_ did not converge\n",
      "  warnings.warn(\n",
      "/Users/rhoeunpark/opt/anaconda3/envs/dsi/lib/python3.8/site-packages/sklearn/linear_model/_sag.py:352: ConvergenceWarning: The max_iter was reached which means the coef_ did not converge\n",
      "  warnings.warn(\n",
      "/Users/rhoeunpark/opt/anaconda3/envs/dsi/lib/python3.8/site-packages/sklearn/linear_model/_sag.py:352: ConvergenceWarning: The max_iter was reached which means the coef_ did not converge\n",
      "  warnings.warn(\n",
      "/Users/rhoeunpark/opt/anaconda3/envs/dsi/lib/python3.8/site-packages/sklearn/linear_model/_sag.py:352: ConvergenceWarning: The max_iter was reached which means the coef_ did not converge\n",
      "  warnings.warn(\n",
      "/Users/rhoeunpark/opt/anaconda3/envs/dsi/lib/python3.8/site-packages/sklearn/linear_model/_sag.py:352: ConvergenceWarning: The max_iter was reached which means the coef_ did not converge\n",
      "  warnings.warn(\n",
      "/Users/rhoeunpark/opt/anaconda3/envs/dsi/lib/python3.8/site-packages/sklearn/linear_model/_sag.py:352: ConvergenceWarning: The max_iter was reached which means the coef_ did not converge\n",
      "  warnings.warn(\n",
      "/Users/rhoeunpark/opt/anaconda3/envs/dsi/lib/python3.8/site-packages/sklearn/linear_model/_sag.py:352: ConvergenceWarning: The max_iter was reached which means the coef_ did not converge\n",
      "  warnings.warn(\n",
      "/Users/rhoeunpark/opt/anaconda3/envs/dsi/lib/python3.8/site-packages/sklearn/linear_model/_sag.py:352: ConvergenceWarning: The max_iter was reached which means the coef_ did not converge\n",
      "  warnings.warn(\n",
      "/Users/rhoeunpark/opt/anaconda3/envs/dsi/lib/python3.8/site-packages/sklearn/linear_model/_sag.py:352: ConvergenceWarning: The max_iter was reached which means the coef_ did not converge\n",
      "  warnings.warn(\n",
      "/Users/rhoeunpark/opt/anaconda3/envs/dsi/lib/python3.8/site-packages/sklearn/linear_model/_sag.py:352: ConvergenceWarning: The max_iter was reached which means the coef_ did not converge\n",
      "  warnings.warn(\n",
      "/Users/rhoeunpark/opt/anaconda3/envs/dsi/lib/python3.8/site-packages/sklearn/linear_model/_sag.py:352: ConvergenceWarning: The max_iter was reached which means the coef_ did not converge\n",
      "  warnings.warn(\n",
      "/Users/rhoeunpark/opt/anaconda3/envs/dsi/lib/python3.8/site-packages/sklearn/linear_model/_sag.py:352: ConvergenceWarning: The max_iter was reached which means the coef_ did not converge\n",
      "  warnings.warn(\n",
      "/Users/rhoeunpark/opt/anaconda3/envs/dsi/lib/python3.8/site-packages/sklearn/linear_model/_sag.py:352: ConvergenceWarning: The max_iter was reached which means the coef_ did not converge\n",
      "  warnings.warn(\n",
      "/Users/rhoeunpark/opt/anaconda3/envs/dsi/lib/python3.8/site-packages/sklearn/linear_model/_sag.py:352: ConvergenceWarning: The max_iter was reached which means the coef_ did not converge\n",
      "  warnings.warn(\n",
      "/Users/rhoeunpark/opt/anaconda3/envs/dsi/lib/python3.8/site-packages/sklearn/linear_model/_sag.py:352: ConvergenceWarning: The max_iter was reached which means the coef_ did not converge\n",
      "  warnings.warn(\n",
      "/Users/rhoeunpark/opt/anaconda3/envs/dsi/lib/python3.8/site-packages/sklearn/linear_model/_sag.py:352: ConvergenceWarning: The max_iter was reached which means the coef_ did not converge\n",
      "  warnings.warn(\n",
      "/Users/rhoeunpark/opt/anaconda3/envs/dsi/lib/python3.8/site-packages/sklearn/linear_model/_sag.py:352: ConvergenceWarning: The max_iter was reached which means the coef_ did not converge\n",
      "  warnings.warn(\n",
      "/Users/rhoeunpark/opt/anaconda3/envs/dsi/lib/python3.8/site-packages/sklearn/linear_model/_sag.py:352: ConvergenceWarning: The max_iter was reached which means the coef_ did not converge\n",
      "  warnings.warn(\n",
      "/Users/rhoeunpark/opt/anaconda3/envs/dsi/lib/python3.8/site-packages/sklearn/linear_model/_sag.py:352: ConvergenceWarning: The max_iter was reached which means the coef_ did not converge\n",
      "  warnings.warn(\n",
      "/Users/rhoeunpark/opt/anaconda3/envs/dsi/lib/python3.8/site-packages/sklearn/linear_model/_sag.py:352: ConvergenceWarning: The max_iter was reached which means the coef_ did not converge\n",
      "  warnings.warn(\n",
      "/Users/rhoeunpark/opt/anaconda3/envs/dsi/lib/python3.8/site-packages/sklearn/linear_model/_sag.py:352: ConvergenceWarning: The max_iter was reached which means the coef_ did not converge\n",
      "  warnings.warn(\n",
      "/Users/rhoeunpark/opt/anaconda3/envs/dsi/lib/python3.8/site-packages/sklearn/linear_model/_sag.py:352: ConvergenceWarning: The max_iter was reached which means the coef_ did not converge\n",
      "  warnings.warn(\n",
      "/Users/rhoeunpark/opt/anaconda3/envs/dsi/lib/python3.8/site-packages/sklearn/linear_model/_sag.py:352: ConvergenceWarning: The max_iter was reached which means the coef_ did not converge\n",
      "  warnings.warn(\n",
      "/Users/rhoeunpark/opt/anaconda3/envs/dsi/lib/python3.8/site-packages/sklearn/linear_model/_sag.py:352: ConvergenceWarning: The max_iter was reached which means the coef_ did not converge\n",
      "  warnings.warn(\n",
      "/Users/rhoeunpark/opt/anaconda3/envs/dsi/lib/python3.8/site-packages/sklearn/linear_model/_sag.py:352: ConvergenceWarning: The max_iter was reached which means the coef_ did not converge\n",
      "  warnings.warn(\n",
      "/Users/rhoeunpark/opt/anaconda3/envs/dsi/lib/python3.8/site-packages/sklearn/linear_model/_sag.py:352: ConvergenceWarning: The max_iter was reached which means the coef_ did not converge\n",
      "  warnings.warn(\n",
      "/Users/rhoeunpark/opt/anaconda3/envs/dsi/lib/python3.8/site-packages/sklearn/linear_model/_sag.py:352: ConvergenceWarning: The max_iter was reached which means the coef_ did not converge\n",
      "  warnings.warn(\n",
      "/Users/rhoeunpark/opt/anaconda3/envs/dsi/lib/python3.8/site-packages/sklearn/linear_model/_sag.py:352: ConvergenceWarning: The max_iter was reached which means the coef_ did not converge\n",
      "  warnings.warn(\n",
      "/Users/rhoeunpark/opt/anaconda3/envs/dsi/lib/python3.8/site-packages/sklearn/linear_model/_sag.py:352: ConvergenceWarning: The max_iter was reached which means the coef_ did not converge\n",
      "  warnings.warn(\n",
      "/Users/rhoeunpark/opt/anaconda3/envs/dsi/lib/python3.8/site-packages/sklearn/linear_model/_sag.py:352: ConvergenceWarning: The max_iter was reached which means the coef_ did not converge\n",
      "  warnings.warn(\n",
      "/Users/rhoeunpark/opt/anaconda3/envs/dsi/lib/python3.8/site-packages/sklearn/linear_model/_sag.py:352: ConvergenceWarning: The max_iter was reached which means the coef_ did not converge\n",
      "  warnings.warn(\n",
      "/Users/rhoeunpark/opt/anaconda3/envs/dsi/lib/python3.8/site-packages/sklearn/linear_model/_sag.py:352: ConvergenceWarning: The max_iter was reached which means the coef_ did not converge\n",
      "  warnings.warn(\n",
      "/Users/rhoeunpark/opt/anaconda3/envs/dsi/lib/python3.8/site-packages/sklearn/linear_model/_sag.py:352: ConvergenceWarning: The max_iter was reached which means the coef_ did not converge\n",
      "  warnings.warn(\n",
      "/Users/rhoeunpark/opt/anaconda3/envs/dsi/lib/python3.8/site-packages/sklearn/linear_model/_sag.py:352: ConvergenceWarning: The max_iter was reached which means the coef_ did not converge\n",
      "  warnings.warn(\n",
      "/Users/rhoeunpark/opt/anaconda3/envs/dsi/lib/python3.8/site-packages/sklearn/linear_model/_sag.py:352: ConvergenceWarning: The max_iter was reached which means the coef_ did not converge\n",
      "  warnings.warn(\n"
     ]
    },
    {
     "name": "stderr",
     "output_type": "stream",
     "text": [
      "/Users/rhoeunpark/opt/anaconda3/envs/dsi/lib/python3.8/site-packages/sklearn/linear_model/_sag.py:352: ConvergenceWarning: The max_iter was reached which means the coef_ did not converge\n",
      "  warnings.warn(\n",
      "/Users/rhoeunpark/opt/anaconda3/envs/dsi/lib/python3.8/site-packages/sklearn/linear_model/_sag.py:352: ConvergenceWarning: The max_iter was reached which means the coef_ did not converge\n",
      "  warnings.warn(\n",
      "/Users/rhoeunpark/opt/anaconda3/envs/dsi/lib/python3.8/site-packages/sklearn/linear_model/_sag.py:352: ConvergenceWarning: The max_iter was reached which means the coef_ did not converge\n",
      "  warnings.warn(\n",
      "/Users/rhoeunpark/opt/anaconda3/envs/dsi/lib/python3.8/site-packages/sklearn/linear_model/_sag.py:352: ConvergenceWarning: The max_iter was reached which means the coef_ did not converge\n",
      "  warnings.warn(\n",
      "/Users/rhoeunpark/opt/anaconda3/envs/dsi/lib/python3.8/site-packages/sklearn/linear_model/_sag.py:352: ConvergenceWarning: The max_iter was reached which means the coef_ did not converge\n",
      "  warnings.warn(\n",
      "/Users/rhoeunpark/opt/anaconda3/envs/dsi/lib/python3.8/site-packages/sklearn/linear_model/_sag.py:352: ConvergenceWarning: The max_iter was reached which means the coef_ did not converge\n",
      "  warnings.warn(\n",
      "/Users/rhoeunpark/opt/anaconda3/envs/dsi/lib/python3.8/site-packages/sklearn/linear_model/_sag.py:352: ConvergenceWarning: The max_iter was reached which means the coef_ did not converge\n",
      "  warnings.warn(\n",
      "/Users/rhoeunpark/opt/anaconda3/envs/dsi/lib/python3.8/site-packages/sklearn/linear_model/_sag.py:352: ConvergenceWarning: The max_iter was reached which means the coef_ did not converge\n",
      "  warnings.warn(\n",
      "/Users/rhoeunpark/opt/anaconda3/envs/dsi/lib/python3.8/site-packages/sklearn/linear_model/_sag.py:352: ConvergenceWarning: The max_iter was reached which means the coef_ did not converge\n",
      "  warnings.warn(\n",
      "/Users/rhoeunpark/opt/anaconda3/envs/dsi/lib/python3.8/site-packages/sklearn/linear_model/_sag.py:352: ConvergenceWarning: The max_iter was reached which means the coef_ did not converge\n",
      "  warnings.warn(\n",
      "/Users/rhoeunpark/opt/anaconda3/envs/dsi/lib/python3.8/site-packages/sklearn/linear_model/_sag.py:352: ConvergenceWarning: The max_iter was reached which means the coef_ did not converge\n",
      "  warnings.warn(\n",
      "/Users/rhoeunpark/opt/anaconda3/envs/dsi/lib/python3.8/site-packages/sklearn/linear_model/_sag.py:352: ConvergenceWarning: The max_iter was reached which means the coef_ did not converge\n",
      "  warnings.warn(\n",
      "/Users/rhoeunpark/opt/anaconda3/envs/dsi/lib/python3.8/site-packages/sklearn/linear_model/_sag.py:352: ConvergenceWarning: The max_iter was reached which means the coef_ did not converge\n",
      "  warnings.warn(\n",
      "/Users/rhoeunpark/opt/anaconda3/envs/dsi/lib/python3.8/site-packages/sklearn/linear_model/_sag.py:352: ConvergenceWarning: The max_iter was reached which means the coef_ did not converge\n",
      "  warnings.warn(\n",
      "/Users/rhoeunpark/opt/anaconda3/envs/dsi/lib/python3.8/site-packages/sklearn/linear_model/_sag.py:352: ConvergenceWarning: The max_iter was reached which means the coef_ did not converge\n",
      "  warnings.warn(\n",
      "/Users/rhoeunpark/opt/anaconda3/envs/dsi/lib/python3.8/site-packages/sklearn/linear_model/_sag.py:352: ConvergenceWarning: The max_iter was reached which means the coef_ did not converge\n",
      "  warnings.warn(\n",
      "/Users/rhoeunpark/opt/anaconda3/envs/dsi/lib/python3.8/site-packages/sklearn/linear_model/_sag.py:352: ConvergenceWarning: The max_iter was reached which means the coef_ did not converge\n",
      "  warnings.warn(\n",
      "/Users/rhoeunpark/opt/anaconda3/envs/dsi/lib/python3.8/site-packages/sklearn/linear_model/_sag.py:352: ConvergenceWarning: The max_iter was reached which means the coef_ did not converge\n",
      "  warnings.warn(\n",
      "/Users/rhoeunpark/opt/anaconda3/envs/dsi/lib/python3.8/site-packages/sklearn/linear_model/_sag.py:352: ConvergenceWarning: The max_iter was reached which means the coef_ did not converge\n",
      "  warnings.warn(\n",
      "/Users/rhoeunpark/opt/anaconda3/envs/dsi/lib/python3.8/site-packages/sklearn/linear_model/_sag.py:352: ConvergenceWarning: The max_iter was reached which means the coef_ did not converge\n",
      "  warnings.warn(\n",
      "/Users/rhoeunpark/opt/anaconda3/envs/dsi/lib/python3.8/site-packages/sklearn/linear_model/_sag.py:352: ConvergenceWarning: The max_iter was reached which means the coef_ did not converge\n",
      "  warnings.warn(\n",
      "/Users/rhoeunpark/opt/anaconda3/envs/dsi/lib/python3.8/site-packages/sklearn/linear_model/_sag.py:352: ConvergenceWarning: The max_iter was reached which means the coef_ did not converge\n",
      "  warnings.warn(\n",
      "/Users/rhoeunpark/opt/anaconda3/envs/dsi/lib/python3.8/site-packages/sklearn/linear_model/_sag.py:352: ConvergenceWarning: The max_iter was reached which means the coef_ did not converge\n",
      "  warnings.warn(\n",
      "/Users/rhoeunpark/opt/anaconda3/envs/dsi/lib/python3.8/site-packages/sklearn/linear_model/_sag.py:352: ConvergenceWarning: The max_iter was reached which means the coef_ did not converge\n",
      "  warnings.warn(\n",
      "/Users/rhoeunpark/opt/anaconda3/envs/dsi/lib/python3.8/site-packages/sklearn/linear_model/_sag.py:352: ConvergenceWarning: The max_iter was reached which means the coef_ did not converge\n",
      "  warnings.warn(\n",
      "/Users/rhoeunpark/opt/anaconda3/envs/dsi/lib/python3.8/site-packages/sklearn/linear_model/_sag.py:352: ConvergenceWarning: The max_iter was reached which means the coef_ did not converge\n",
      "  warnings.warn(\n",
      "/Users/rhoeunpark/opt/anaconda3/envs/dsi/lib/python3.8/site-packages/sklearn/linear_model/_sag.py:352: ConvergenceWarning: The max_iter was reached which means the coef_ did not converge\n",
      "  warnings.warn(\n",
      "/Users/rhoeunpark/opt/anaconda3/envs/dsi/lib/python3.8/site-packages/sklearn/linear_model/_sag.py:352: ConvergenceWarning: The max_iter was reached which means the coef_ did not converge\n",
      "  warnings.warn(\n",
      "/Users/rhoeunpark/opt/anaconda3/envs/dsi/lib/python3.8/site-packages/sklearn/linear_model/_sag.py:352: ConvergenceWarning: The max_iter was reached which means the coef_ did not converge\n",
      "  warnings.warn(\n",
      "/Users/rhoeunpark/opt/anaconda3/envs/dsi/lib/python3.8/site-packages/sklearn/linear_model/_sag.py:352: ConvergenceWarning: The max_iter was reached which means the coef_ did not converge\n",
      "  warnings.warn(\n",
      "/Users/rhoeunpark/opt/anaconda3/envs/dsi/lib/python3.8/site-packages/sklearn/linear_model/_sag.py:352: ConvergenceWarning: The max_iter was reached which means the coef_ did not converge\n",
      "  warnings.warn(\n",
      "/Users/rhoeunpark/opt/anaconda3/envs/dsi/lib/python3.8/site-packages/sklearn/linear_model/_sag.py:352: ConvergenceWarning: The max_iter was reached which means the coef_ did not converge\n",
      "  warnings.warn(\n",
      "/Users/rhoeunpark/opt/anaconda3/envs/dsi/lib/python3.8/site-packages/sklearn/linear_model/_sag.py:352: ConvergenceWarning: The max_iter was reached which means the coef_ did not converge\n",
      "  warnings.warn(\n",
      "/Users/rhoeunpark/opt/anaconda3/envs/dsi/lib/python3.8/site-packages/sklearn/linear_model/_sag.py:352: ConvergenceWarning: The max_iter was reached which means the coef_ did not converge\n",
      "  warnings.warn(\n",
      "/Users/rhoeunpark/opt/anaconda3/envs/dsi/lib/python3.8/site-packages/sklearn/linear_model/_sag.py:352: ConvergenceWarning: The max_iter was reached which means the coef_ did not converge\n",
      "  warnings.warn(\n",
      "/Users/rhoeunpark/opt/anaconda3/envs/dsi/lib/python3.8/site-packages/sklearn/linear_model/_sag.py:352: ConvergenceWarning: The max_iter was reached which means the coef_ did not converge\n",
      "  warnings.warn(\n",
      "/Users/rhoeunpark/opt/anaconda3/envs/dsi/lib/python3.8/site-packages/sklearn/linear_model/_sag.py:352: ConvergenceWarning: The max_iter was reached which means the coef_ did not converge\n",
      "  warnings.warn(\n",
      "/Users/rhoeunpark/opt/anaconda3/envs/dsi/lib/python3.8/site-packages/sklearn/linear_model/_sag.py:352: ConvergenceWarning: The max_iter was reached which means the coef_ did not converge\n",
      "  warnings.warn(\n",
      "/Users/rhoeunpark/opt/anaconda3/envs/dsi/lib/python3.8/site-packages/sklearn/linear_model/_sag.py:352: ConvergenceWarning: The max_iter was reached which means the coef_ did not converge\n",
      "  warnings.warn(\n",
      "/Users/rhoeunpark/opt/anaconda3/envs/dsi/lib/python3.8/site-packages/sklearn/linear_model/_sag.py:352: ConvergenceWarning: The max_iter was reached which means the coef_ did not converge\n",
      "  warnings.warn(\n",
      "/Users/rhoeunpark/opt/anaconda3/envs/dsi/lib/python3.8/site-packages/sklearn/linear_model/_sag.py:352: ConvergenceWarning: The max_iter was reached which means the coef_ did not converge\n",
      "  warnings.warn(\n"
     ]
    },
    {
     "name": "stderr",
     "output_type": "stream",
     "text": [
      "/Users/rhoeunpark/opt/anaconda3/envs/dsi/lib/python3.8/site-packages/sklearn/linear_model/_sag.py:352: ConvergenceWarning: The max_iter was reached which means the coef_ did not converge\n",
      "  warnings.warn(\n",
      "/Users/rhoeunpark/opt/anaconda3/envs/dsi/lib/python3.8/site-packages/sklearn/linear_model/_sag.py:352: ConvergenceWarning: The max_iter was reached which means the coef_ did not converge\n",
      "  warnings.warn(\n",
      "/Users/rhoeunpark/opt/anaconda3/envs/dsi/lib/python3.8/site-packages/sklearn/linear_model/_sag.py:352: ConvergenceWarning: The max_iter was reached which means the coef_ did not converge\n",
      "  warnings.warn(\n",
      "/Users/rhoeunpark/opt/anaconda3/envs/dsi/lib/python3.8/site-packages/sklearn/linear_model/_sag.py:352: ConvergenceWarning: The max_iter was reached which means the coef_ did not converge\n",
      "  warnings.warn(\n",
      "/Users/rhoeunpark/opt/anaconda3/envs/dsi/lib/python3.8/site-packages/sklearn/linear_model/_sag.py:352: ConvergenceWarning: The max_iter was reached which means the coef_ did not converge\n",
      "  warnings.warn(\n",
      "/Users/rhoeunpark/opt/anaconda3/envs/dsi/lib/python3.8/site-packages/sklearn/linear_model/_sag.py:352: ConvergenceWarning: The max_iter was reached which means the coef_ did not converge\n",
      "  warnings.warn(\n",
      "/Users/rhoeunpark/opt/anaconda3/envs/dsi/lib/python3.8/site-packages/sklearn/linear_model/_sag.py:352: ConvergenceWarning: The max_iter was reached which means the coef_ did not converge\n",
      "  warnings.warn(\n",
      "/Users/rhoeunpark/opt/anaconda3/envs/dsi/lib/python3.8/site-packages/sklearn/linear_model/_sag.py:352: ConvergenceWarning: The max_iter was reached which means the coef_ did not converge\n",
      "  warnings.warn(\n",
      "/Users/rhoeunpark/opt/anaconda3/envs/dsi/lib/python3.8/site-packages/sklearn/linear_model/_sag.py:352: ConvergenceWarning: The max_iter was reached which means the coef_ did not converge\n",
      "  warnings.warn(\n",
      "/Users/rhoeunpark/opt/anaconda3/envs/dsi/lib/python3.8/site-packages/sklearn/linear_model/_sag.py:352: ConvergenceWarning: The max_iter was reached which means the coef_ did not converge\n",
      "  warnings.warn(\n",
      "/Users/rhoeunpark/opt/anaconda3/envs/dsi/lib/python3.8/site-packages/sklearn/linear_model/_sag.py:352: ConvergenceWarning: The max_iter was reached which means the coef_ did not converge\n",
      "  warnings.warn(\n",
      "/Users/rhoeunpark/opt/anaconda3/envs/dsi/lib/python3.8/site-packages/sklearn/linear_model/_sag.py:352: ConvergenceWarning: The max_iter was reached which means the coef_ did not converge\n",
      "  warnings.warn(\n",
      "/Users/rhoeunpark/opt/anaconda3/envs/dsi/lib/python3.8/site-packages/sklearn/linear_model/_sag.py:352: ConvergenceWarning: The max_iter was reached which means the coef_ did not converge\n",
      "  warnings.warn(\n",
      "/Users/rhoeunpark/opt/anaconda3/envs/dsi/lib/python3.8/site-packages/sklearn/linear_model/_sag.py:352: ConvergenceWarning: The max_iter was reached which means the coef_ did not converge\n",
      "  warnings.warn(\n",
      "/Users/rhoeunpark/opt/anaconda3/envs/dsi/lib/python3.8/site-packages/sklearn/linear_model/_sag.py:352: ConvergenceWarning: The max_iter was reached which means the coef_ did not converge\n",
      "  warnings.warn(\n",
      "/Users/rhoeunpark/opt/anaconda3/envs/dsi/lib/python3.8/site-packages/sklearn/linear_model/_sag.py:352: ConvergenceWarning: The max_iter was reached which means the coef_ did not converge\n",
      "  warnings.warn(\n",
      "/Users/rhoeunpark/opt/anaconda3/envs/dsi/lib/python3.8/site-packages/sklearn/linear_model/_sag.py:352: ConvergenceWarning: The max_iter was reached which means the coef_ did not converge\n",
      "  warnings.warn(\n",
      "/Users/rhoeunpark/opt/anaconda3/envs/dsi/lib/python3.8/site-packages/sklearn/linear_model/_sag.py:352: ConvergenceWarning: The max_iter was reached which means the coef_ did not converge\n",
      "  warnings.warn(\n",
      "/Users/rhoeunpark/opt/anaconda3/envs/dsi/lib/python3.8/site-packages/sklearn/linear_model/_sag.py:352: ConvergenceWarning: The max_iter was reached which means the coef_ did not converge\n",
      "  warnings.warn(\n",
      "/Users/rhoeunpark/opt/anaconda3/envs/dsi/lib/python3.8/site-packages/sklearn/linear_model/_sag.py:352: ConvergenceWarning: The max_iter was reached which means the coef_ did not converge\n",
      "  warnings.warn(\n",
      "/Users/rhoeunpark/opt/anaconda3/envs/dsi/lib/python3.8/site-packages/sklearn/linear_model/_sag.py:352: ConvergenceWarning: The max_iter was reached which means the coef_ did not converge\n",
      "  warnings.warn(\n",
      "/Users/rhoeunpark/opt/anaconda3/envs/dsi/lib/python3.8/site-packages/sklearn/linear_model/_sag.py:352: ConvergenceWarning: The max_iter was reached which means the coef_ did not converge\n",
      "  warnings.warn(\n",
      "/Users/rhoeunpark/opt/anaconda3/envs/dsi/lib/python3.8/site-packages/sklearn/linear_model/_sag.py:352: ConvergenceWarning: The max_iter was reached which means the coef_ did not converge\n",
      "  warnings.warn(\n",
      "/Users/rhoeunpark/opt/anaconda3/envs/dsi/lib/python3.8/site-packages/sklearn/linear_model/_sag.py:352: ConvergenceWarning: The max_iter was reached which means the coef_ did not converge\n",
      "  warnings.warn(\n",
      "/Users/rhoeunpark/opt/anaconda3/envs/dsi/lib/python3.8/site-packages/sklearn/linear_model/_sag.py:352: ConvergenceWarning: The max_iter was reached which means the coef_ did not converge\n",
      "  warnings.warn(\n",
      "/Users/rhoeunpark/opt/anaconda3/envs/dsi/lib/python3.8/site-packages/sklearn/linear_model/_sag.py:352: ConvergenceWarning: The max_iter was reached which means the coef_ did not converge\n",
      "  warnings.warn(\n",
      "/Users/rhoeunpark/opt/anaconda3/envs/dsi/lib/python3.8/site-packages/sklearn/linear_model/_sag.py:352: ConvergenceWarning: The max_iter was reached which means the coef_ did not converge\n",
      "  warnings.warn(\n",
      "/Users/rhoeunpark/opt/anaconda3/envs/dsi/lib/python3.8/site-packages/sklearn/linear_model/_sag.py:352: ConvergenceWarning: The max_iter was reached which means the coef_ did not converge\n",
      "  warnings.warn(\n"
     ]
    },
    {
     "data": {
      "text/plain": [
       "GridSearchCV(cv=5,\n",
       "             estimator=Pipeline(steps=[('ss', StandardScaler()),\n",
       "                                       ('lr',\n",
       "                                        LogisticRegression(penalty='elasticnet',\n",
       "                                                           solver='saga'))]),\n",
       "             param_grid={'lr__C': [0.001, 0.01, 0.1, 1, 10],\n",
       "                         'lr__l1_ratio': [0.1, 0.5, 0.7, 0.95, 0.99]})"
      ]
     },
     "execution_count": 139,
     "metadata": {},
     "output_type": "execute_result"
    }
   ],
   "source": [
    "gs.fit(X_train, y_train)"
   ]
  },
  {
   "cell_type": "code",
   "execution_count": 140,
   "id": "f8992b9f",
   "metadata": {},
   "outputs": [
    {
     "data": {
      "text/plain": [
       "{'lr__C': 0.01, 'lr__l1_ratio': 0.5}"
      ]
     },
     "execution_count": 140,
     "metadata": {},
     "output_type": "execute_result"
    }
   ],
   "source": [
    "gs.best_params_"
   ]
  },
  {
   "cell_type": "code",
   "execution_count": 141,
   "id": "dac484f4",
   "metadata": {},
   "outputs": [
    {
     "data": {
      "text/plain": [
       "0.6998929478077536"
      ]
     },
     "execution_count": 141,
     "metadata": {},
     "output_type": "execute_result"
    }
   ],
   "source": [
    "gs.best_score_"
   ]
  },
  {
   "cell_type": "code",
   "execution_count": 142,
   "id": "4d87c129",
   "metadata": {
    "scrolled": false
   },
   "outputs": [
    {
     "data": {
      "text/plain": [
       "Pipeline(steps=[('ss', StandardScaler()),\n",
       "                ('lr',\n",
       "                 LogisticRegression(C=0.01, l1_ratio=0.5, penalty='elasticnet',\n",
       "                                    solver='saga'))])"
      ]
     },
     "execution_count": 142,
     "metadata": {},
     "output_type": "execute_result"
    }
   ],
   "source": [
    "gs.best_estimator_"
   ]
  },
  {
   "cell_type": "code",
   "execution_count": 171,
   "id": "64f058c3",
   "metadata": {},
   "outputs": [],
   "source": [
    "log_pipe = Pipeline([\n",
    "    ('ss', StandardScaler()),\n",
    "    ('lr', LogisticRegression(penalty='elasticnet', C=0.01, l1_ratio=0.5, solver='saga'))\n",
    "                    ])"
   ]
  },
  {
   "cell_type": "code",
   "execution_count": 172,
   "id": "e9fc6e20",
   "metadata": {},
   "outputs": [
    {
     "name": "stderr",
     "output_type": "stream",
     "text": [
      "/Users/rhoeunpark/opt/anaconda3/envs/dsi/lib/python3.8/site-packages/sklearn/linear_model/_sag.py:352: ConvergenceWarning: The max_iter was reached which means the coef_ did not converge\n",
      "  warnings.warn(\n"
     ]
    },
    {
     "data": {
      "text/plain": [
       "Pipeline(steps=[('ss', StandardScaler()),\n",
       "                ('lr',\n",
       "                 LogisticRegression(C=0.01, l1_ratio=0.5, penalty='elasticnet',\n",
       "                                    solver='saga'))])"
      ]
     },
     "execution_count": 172,
     "metadata": {},
     "output_type": "execute_result"
    }
   ],
   "source": [
    "log_pipe.fit(X_train, y_train)"
   ]
  },
  {
   "cell_type": "code",
   "execution_count": 174,
   "id": "d069169d",
   "metadata": {},
   "outputs": [
    {
     "data": {
      "text/plain": [
       "0.8174186778593914"
      ]
     },
     "execution_count": 174,
     "metadata": {},
     "output_type": "execute_result"
    }
   ],
   "source": [
    "log_pipe.score(X_train, y_train)"
   ]
  },
  {
   "cell_type": "code",
   "execution_count": 175,
   "id": "c9f78b4a",
   "metadata": {
    "scrolled": true
   },
   "outputs": [
    {
     "data": {
      "text/plain": [
       "0.7069236821400472"
      ]
     },
     "execution_count": 175,
     "metadata": {},
     "output_type": "execute_result"
    }
   ],
   "source": [
    "log_pipe.score(X_test, y_test)"
   ]
  },
  {
   "cell_type": "code",
   "execution_count": 177,
   "id": "8a9ca3e6",
   "metadata": {},
   "outputs": [],
   "source": [
    "log_preds = log_pipe.predict(X_test)"
   ]
  },
  {
   "cell_type": "markdown",
   "id": "a5c3f7a6",
   "metadata": {},
   "source": [
    "---"
   ]
  },
  {
   "cell_type": "markdown",
   "id": "ea96d794",
   "metadata": {},
   "source": [
    "#### KNN Classifier"
   ]
  },
  {
   "cell_type": "code",
   "execution_count": 144,
   "id": "743c2f86",
   "metadata": {},
   "outputs": [],
   "source": [
    "knn_pipe = Pipeline([\n",
    "    ('ss', StandardScaler()),\n",
    "    ('knn', KNeighborsClassifier())\n",
    "                    ])"
   ]
  },
  {
   "cell_type": "code",
   "execution_count": 145,
   "id": "bc80d75c",
   "metadata": {},
   "outputs": [],
   "source": [
    "knn_params = {\n",
    "    'knn__n_neighbors': [3, 5, 9, 15],\n",
    "    'knn__p': [1, 2], \n",
    "    'knn__weights': ['uniform', 'distance']\n",
    "}"
   ]
  },
  {
   "cell_type": "code",
   "execution_count": 146,
   "id": "4b8779ef",
   "metadata": {},
   "outputs": [],
   "source": [
    "knn_gs = GridSearchCV(\n",
    "    knn_pipe,\n",
    "    knn_params,\n",
    "    cv = 5\n",
    ")"
   ]
  },
  {
   "cell_type": "code",
   "execution_count": 147,
   "id": "da91e1b4",
   "metadata": {
    "scrolled": false
   },
   "outputs": [
    {
     "data": {
      "text/plain": [
       "GridSearchCV(cv=5,\n",
       "             estimator=Pipeline(steps=[('ss', StandardScaler()),\n",
       "                                       ('knn', KNeighborsClassifier())]),\n",
       "             param_grid={'knn__n_neighbors': [3, 5, 9, 15], 'knn__p': [1, 2],\n",
       "                         'knn__weights': ['uniform', 'distance']})"
      ]
     },
     "execution_count": 147,
     "metadata": {},
     "output_type": "execute_result"
    }
   ],
   "source": [
    "knn_gs.fit(X_train, y_train)"
   ]
  },
  {
   "cell_type": "code",
   "execution_count": 149,
   "id": "d64a2ea1",
   "metadata": {},
   "outputs": [
    {
     "data": {
      "text/plain": [
       "{'knn__n_neighbors': 3, 'knn__p': 2, 'knn__weights': 'distance'}"
      ]
     },
     "execution_count": 149,
     "metadata": {},
     "output_type": "execute_result"
    }
   ],
   "source": [
    "knn_gs.best_params_"
   ]
  },
  {
   "cell_type": "code",
   "execution_count": 150,
   "id": "060d1eb8",
   "metadata": {},
   "outputs": [
    {
     "data": {
      "text/plain": [
       "0.5941745191687104"
      ]
     },
     "execution_count": 150,
     "metadata": {},
     "output_type": "execute_result"
    }
   ],
   "source": [
    "knn_gs.best_score_"
   ]
  },
  {
   "cell_type": "code",
   "execution_count": 167,
   "id": "c88acec7",
   "metadata": {},
   "outputs": [],
   "source": [
    "# Finalize KNN model\n",
    "\n",
    "knn_pipe = Pipeline([\n",
    "    ('ss', StandardScaler()),\n",
    "    ('knn', KNeighborsClassifier(n_neighbors=3, p=2, weights='distance'))\n",
    "                    ])"
   ]
  },
  {
   "cell_type": "code",
   "execution_count": 168,
   "id": "7de472d1",
   "metadata": {},
   "outputs": [
    {
     "data": {
      "text/plain": [
       "Pipeline(steps=[('ss', StandardScaler()),\n",
       "                ('knn',\n",
       "                 KNeighborsClassifier(n_neighbors=3, weights='distance'))])"
      ]
     },
     "execution_count": 168,
     "metadata": {},
     "output_type": "execute_result"
    }
   ],
   "source": [
    "knn_pipe.fit(X_train, y_train)"
   ]
  },
  {
   "cell_type": "code",
   "execution_count": 169,
   "id": "b213227b",
   "metadata": {},
   "outputs": [
    {
     "data": {
      "text/plain": [
       "0.9996065057712487"
      ]
     },
     "execution_count": 169,
     "metadata": {},
     "output_type": "execute_result"
    }
   ],
   "source": [
    "knn_pipe.score(X_train, y_train)"
   ]
  },
  {
   "cell_type": "code",
   "execution_count": 170,
   "id": "4068524d",
   "metadata": {
    "scrolled": true
   },
   "outputs": [
    {
     "data": {
      "text/plain": [
       "0.6172305271439811"
      ]
     },
     "execution_count": 170,
     "metadata": {},
     "output_type": "execute_result"
    }
   ],
   "source": [
    "knn_pipe.score(X_test, y_test)"
   ]
  },
  {
   "cell_type": "code",
   "execution_count": 304,
   "id": "b6e0b44a",
   "metadata": {},
   "outputs": [],
   "source": [
    "knn_preds = knn_pipe.predict(X_test)"
   ]
  },
  {
   "cell_type": "markdown",
   "id": "fcc25846",
   "metadata": {},
   "source": [
    "---"
   ]
  },
  {
   "cell_type": "markdown",
   "id": "3f3c1c02",
   "metadata": {},
   "source": [
    "### Metrics"
   ]
  },
  {
   "cell_type": "code",
   "execution_count": 330,
   "id": "83aa2d74",
   "metadata": {},
   "outputs": [],
   "source": [
    "def metrics(tn, fp, fn, tp):\n",
    "    accu = (tn + tp) / (tn + fp + fn + tp)\n",
    "    spec = tn / (tn + fp)\n",
    "    sens = tp / (tp + fn)\n",
    "    prec = tp / (tp + fp)\n",
    "    f1 = 2 * ((prec * sens)/(prec + sens))\n",
    "    \n",
    "    return({'accuracy': accu, 'recall': sens, 'specificity': spec, 'precision': prec, 'f1': f1})"
   ]
  },
  {
   "cell_type": "code",
   "execution_count": 306,
   "id": "543f2ef6",
   "metadata": {},
   "outputs": [],
   "source": [
    "from sklearn.metrics import confusion_matrix, plot_confusion_matrix, accuracy_score, plot_roc_curve, roc_auc_score, recall_score, precision_score, f1_score, ConfusionMatrixDisplay"
   ]
  },
  {
   "cell_type": "code",
   "execution_count": 308,
   "id": "a51c9eed",
   "metadata": {},
   "outputs": [
    {
     "data": {
      "text/plain": [
       "array([[1022,  250],\n",
       "       [ 446,  824]])"
      ]
     },
     "execution_count": 308,
     "metadata": {},
     "output_type": "execute_result"
    }
   ],
   "source": [
    "# Random Forests\n",
    "confusion_matrix(\n",
    "    y_test, rf_preds\n",
    ")"
   ]
  },
  {
   "cell_type": "code",
   "execution_count": 311,
   "id": "878943a0",
   "metadata": {},
   "outputs": [],
   "source": [
    "tn1, fp1, fn1, tp1 = confusion_matrix(y_test, rf_preds).ravel()\n"
   ]
  },
  {
   "cell_type": "code",
   "execution_count": 337,
   "id": "0b91c06e",
   "metadata": {
    "scrolled": true
   },
   "outputs": [],
   "source": [
    "rf_metrics = metrics(tn1, fp1, fn1, tp1)"
   ]
  },
  {
   "cell_type": "code",
   "execution_count": 314,
   "id": "f8f9c46a",
   "metadata": {
    "scrolled": true
   },
   "outputs": [
    {
     "data": {
      "image/png": "[encoded data removed]",
      "text/plain": [
       "<Figure size 432x288 with 2 Axes>"
      ]
     },
     "metadata": {
      "needs_background": "light"
     },
     "output_type": "display_data"
    }
   ],
   "source": [
    "ConfusionMatrixDisplay.from_estimator(rfc, X_test, y_test,\n",
    "                                      cmap=\"Blues\",\n",
    "                                      display_labels=[\"askscience\", \"shittyaskscience\"],\n",
    "                                     );"
   ]
  },
  {
   "cell_type": "code",
   "execution_count": 312,
   "id": "4dca8e30",
   "metadata": {},
   "outputs": [
    {
     "data": {
      "text/plain": [
       "array([[910, 362],\n",
       "       [383, 887]])"
      ]
     },
     "execution_count": 312,
     "metadata": {},
     "output_type": "execute_result"
    }
   ],
   "source": [
    "# Logistic Regression\n",
    "confusion_matrix(\n",
    "    y_test, log_preds\n",
    ")"
   ]
  },
  {
   "cell_type": "code",
   "execution_count": 313,
   "id": "148a76b7",
   "metadata": {},
   "outputs": [],
   "source": [
    "tn2, fp2, fn2, tp2 = confusion_matrix(y_test, log_preds).ravel()\n"
   ]
  },
  {
   "cell_type": "code",
   "execution_count": 336,
   "id": "b4817ab9",
   "metadata": {
    "scrolled": true
   },
   "outputs": [],
   "source": [
    "log_metrics = metrics(tn2, fp2, fn2, tp2)"
   ]
  },
  {
   "cell_type": "code",
   "execution_count": 315,
   "id": "36ba1df1",
   "metadata": {
    "scrolled": true
   },
   "outputs": [
    {
     "data": {
      "image/png": "[encoded data removed]",
      "text/plain": [
       "<Figure size 432x288 with 2 Axes>"
      ]
     },
     "metadata": {
      "needs_background": "light"
     },
     "output_type": "display_data"
    }
   ],
   "source": [
    "ConfusionMatrixDisplay.from_estimator(log_pipe, X_test, y_test,\n",
    "                                      cmap=\"Blues\",\n",
    "                                      display_labels=[\"askscience\", \"shittyaskscience\"],\n",
    "                                     );"
   ]
  },
  {
   "cell_type": "code",
   "execution_count": 316,
   "id": "d4e5bf46",
   "metadata": {},
   "outputs": [
    {
     "data": {
      "text/plain": [
       "array([[ 507,  765],\n",
       "       [ 224, 1046]])"
      ]
     },
     "execution_count": 316,
     "metadata": {},
     "output_type": "execute_result"
    }
   ],
   "source": [
    "# KNNClassifier\n",
    "confusion_matrix(\n",
    "    y_test, knn_preds\n",
    ")"
   ]
  },
  {
   "cell_type": "code",
   "execution_count": 317,
   "id": "b028a879",
   "metadata": {},
   "outputs": [],
   "source": [
    "tn3, fp3, fn3, tp3 = confusion_matrix(y_test, knn_preds).ravel()\n"
   ]
  },
  {
   "cell_type": "code",
   "execution_count": 335,
   "id": "e4df6047",
   "metadata": {
    "scrolled": true
   },
   "outputs": [],
   "source": [
    "knn_metrics = metrics(tn3, fp3, fn3, tp3)"
   ]
  },
  {
   "cell_type": "code",
   "execution_count": 333,
   "id": "3ac121da",
   "metadata": {
    "scrolled": true
   },
   "outputs": [
    {
     "data": {
      "image/png": "[encoded data removed]",
      "text/plain": [
       "<Figure size 432x288 with 2 Axes>"
      ]
     },
     "metadata": {
      "needs_background": "light"
     },
     "output_type": "display_data"
    }
   ],
   "source": [
    "ConfusionMatrixDisplay.from_estimator(knn_pipe, X_test, y_test,\n",
    "                                      cmap=\"Blues\",\n",
    "                                      display_labels=[\"askscience\", \"shittyaskscience\"],\n",
    "                                     );"
   ]
  },
  {
   "cell_type": "code",
   "execution_count": 360,
   "id": "3f43d582",
   "metadata": {},
   "outputs": [],
   "source": [
    "# Refer back to multinomialNB\n",
    "\n",
    "mnb_metrics = metrics(tn0, fp0, fn0, tp0)"
   ]
  },
  {
   "cell_type": "code",
   "execution_count": 361,
   "id": "57966028",
   "metadata": {
    "scrolled": false
   },
   "outputs": [
    {
     "data": {
      "text/html": [
       "<div>\n",
       "<style scoped>\n",
       "    .dataframe tbody tr th:only-of-type {\n",
       "        vertical-align: middle;\n",
       "    }\n",
       "\n",
       "    .dataframe tbody tr th {\n",
       "        vertical-align: top;\n",
       "    }\n",
       "\n",
       "    .dataframe thead th {\n",
       "        text-align: right;\n",
       "    }\n",
       "</style>\n",
       "<table border=\"1\" class=\"dataframe\">\n",
       "  <thead>\n",
       "    <tr style=\"text-align: right;\">\n",
       "      <th></th>\n",
       "      <th>mnb</th>\n",
       "      <th>rf</th>\n",
       "      <th>log_reg</th>\n",
       "      <th>knn</th>\n",
       "    </tr>\n",
       "  </thead>\n",
       "  <tbody>\n",
       "    <tr>\n",
       "      <th>accuracy</th>\n",
       "      <td>0.720119</td>\n",
       "      <td>0.726200</td>\n",
       "      <td>0.706924</td>\n",
       "      <td>0.610936</td>\n",
       "    </tr>\n",
       "    <tr>\n",
       "      <th>recall</th>\n",
       "      <td>0.708234</td>\n",
       "      <td>0.648819</td>\n",
       "      <td>0.698425</td>\n",
       "      <td>0.823622</td>\n",
       "    </tr>\n",
       "    <tr>\n",
       "      <th>specificity</th>\n",
       "      <td>0.731983</td>\n",
       "      <td>0.803459</td>\n",
       "      <td>0.715409</td>\n",
       "      <td>0.398585</td>\n",
       "    </tr>\n",
       "    <tr>\n",
       "      <th>precision</th>\n",
       "      <td>0.725107</td>\n",
       "      <td>0.767225</td>\n",
       "      <td>0.710168</td>\n",
       "      <td>0.577581</td>\n",
       "    </tr>\n",
       "    <tr>\n",
       "      <th>f1</th>\n",
       "      <td>0.716571</td>\n",
       "      <td>0.703072</td>\n",
       "      <td>0.704248</td>\n",
       "      <td>0.679000</td>\n",
       "    </tr>\n",
       "  </tbody>\n",
       "</table>\n",
       "</div>"
      ],
      "text/plain": [
       "                  mnb        rf   log_reg       knn\n",
       "accuracy     0.720119  0.726200  0.706924  0.610936\n",
       "recall       0.708234  0.648819  0.698425  0.823622\n",
       "specificity  0.731983  0.803459  0.715409  0.398585\n",
       "precision    0.725107  0.767225  0.710168  0.577581\n",
       "f1           0.716571  0.703072  0.704248  0.679000"
      ]
     },
     "execution_count": 361,
     "metadata": {},
     "output_type": "execute_result"
    }
   ],
   "source": [
    "pd.DataFrame([mnb_metrics, rf_metrics, log_metrics, knn_metrics], index=['mnb', 'rf', 'log_reg', 'knn']).T"
   ]
  },
  {
   "cell_type": "code",
   "execution_count": 364,
   "id": "d927bf96",
   "metadata": {},
   "outputs": [
    {
     "data": {
      "text/plain": [
       "0    0.500393\n",
       "1    0.499607\n",
       "Name: subreddit_name, dtype: float64"
      ]
     },
     "execution_count": 364,
     "metadata": {},
     "output_type": "execute_result"
    }
   ],
   "source": [
    "# Revisit base-line accuracy\n",
    "\n",
    "y_test.value_counts(normalize=True)"
   ]
  },
  {
   "cell_type": "markdown",
   "id": "4dede12f",
   "metadata": {},
   "source": [
    "# Analysis"
   ]
  },
  {
   "cell_type": "markdown",
   "id": "09a02d9b",
   "metadata": {},
   "source": [
    "---"
   ]
  },
  {
   "cell_type": "markdown",
   "id": "7de1b195",
   "metadata": {},
   "source": [
    "**interpretations:**\n",
    "- **accuracy:** percentage of correct subreddit classification\n",
    "- **Sensitivity(Recall):** Among the actual ShittyAskScience submissions, how many(or proportion) did I predict correctly\n",
    "- **Specificity(True negative rate):** Among the actual AskScience submissions, how many(or proportion) did I predict correctly\n",
    "- **Precision(Positive predictive value):** Among the posts I predicted as ShittyAskScience, how many did I get correct?"
   ]
  },
  {
   "cell_type": "markdown",
   "id": "f3943fbe",
   "metadata": {},
   "source": [
    "Comparing across the four different models, the model with the most accuracy was random forest with 72.6% accuracy. However, the multinomial naive bayes model had comparable accuracy of 72% despite the fact that it was only using bag of words features. \n",
    "\n",
    "This may be because the additive features including text length, sentiment score, complexity that were used in latter three models(RF, logistic regression, and KNN classifier) were not too distinctively different between the two subreddits. \n",
    "\n",
    "Putting into Context of the problem, we may want to aim for higher recall than specificity in order to enhance the integrity of the forum; if we classify a post falsely as a troll question when it actually is a legitimate question, we can implement a back up review method to re-examine the pool of troll posts so that none of the legitimate posts get left behind. According to this logic, KNNClassifier would win the competition; however, this leaves a huge pool(~60%) of legitimate scientific posts in the pull of troll post, requiring a more expensive reexamination process. \n",
    "\n",
    "On the other hand, aiming for highger specificity hence possibly a lower sensitivity may lead us to let the troll posts to be submitted. If we choose to stick with Random Forest classifier with highest specificity  of 80% and sensitivity of 65%, we let 35% of troll posts leaking into the forum. This may be a less expensive method in human workload, as the forum managers will likely rely on the user report of the troll posts, possibly reducing the second filtering workload of re-examining the posts classified as a troll. \n",
    "\n"
   ]
  },
  {
   "cell_type": "markdown",
   "id": "d359c878",
   "metadata": {},
   "source": [
    "# Conclusion and Recommendations"
   ]
  },
  {
   "cell_type": "markdown",
   "id": "a6ca72cd",
   "metadata": {},
   "source": [
    "---"
   ]
  },
  {
   "cell_type": "markdown",
   "id": "45456e89",
   "metadata": {},
   "source": [
    "This project seeks to build a reliable model to filter out 'troll' forum posts, that are scientifically irrelavent by referring to the posts uploaded on Reddit. By utilizing natural language processing and classification models on two different subreddits, 'AskScience' and 'ShittyAskScience', the project aimed to explore the differences in the texts of troll and legitimate scientific questions and try to classify between them. \n",
    "\n",
    "Overall, the metrics of 4 different models showed that the accuracy of any models did no better than 72%(rf, mnb). Highest sensitivity and specificity were at 82%(knn) and 80%(rf) respectively, but this would lower the complimentary specificity and sensitivity scores. \n",
    "\n",
    "Choosing amongst the four models, MultinomialNB would be the best bet with the highest accuracy and f1 score, which indicates that there is the best balance between the sensitivity and specificity.  \n",
    "\n",
    "One enhancement that I can make is actually accessing the text body of the submissions, which was not available with the shortcoming of Pushshift API. Also, I might need to do a more thorough datacleaning/preprocessing steps to filter out the posts that are completely out of context (such as ads) to make the model much more thorough. "
   ]
  },
  {
   "cell_type": "code",
   "execution_count": null,
   "id": "aafe3ec5",
   "metadata": {},
   "outputs": [],
   "source": []
  }
 ],
 "metadata": {
  "kernelspec": {
   "display_name": "Python 3 (ipykernel)",
   "language": "python",
   "name": "python3"
  },
  "language_info": {
   "codemirror_mode": {
    "name": "ipython",
    "version": 3
   },
   "file_extension": ".py",
   "mimetype": "text/x-python",
   "name": "python",
   "nbconvert_exporter": "python",
   "pygments_lexer": "ipython3",
   "version": "3.8.12"
  }
 },
 "nbformat": 4,
 "nbformat_minor": 5
}
